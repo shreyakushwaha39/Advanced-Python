{
 "cells": [
  {
   "cell_type": "code",
   "execution_count": 1,
   "id": "6e8bfebf-2cef-4c7e-be5f-081fdfbfd513",
   "metadata": {},
   "outputs": [
    {
     "name": "stdout",
     "output_type": "stream",
     "text": [
      "inside static method 10\n",
      "inside static method 20\n"
     ]
    }
   ],
   "source": [
    "#static method\n",
    "class Employee:\n",
    "    @staticmethod\n",
    "    def sample(x):\n",
    "        print(\"inside static method\",x)\n",
    "emp=Employee()\n",
    "emp.sample(10) #call of static method\n",
    "emp.sample(20) #calling of static method by virtue of an object."
   ]
  },
  {
   "cell_type": "code",
   "execution_count": 2,
   "id": "0b759de1-5a40-487d-9576-01809d8292e4",
   "metadata": {},
   "outputs": [
    {
     "name": "stdout",
     "output_type": "stream",
     "text": [
      "5\n",
      "10\n",
      "20\n",
      "<__main__.A object at 0x000001B50CA15BE0>\n"
     ]
    }
   ],
   "source": [
    "#Understand the static method\n",
    "class A:\n",
    "    x=10\n",
    "    def __init__(self,x):\n",
    "        self.x=x\n",
    "    def display(x):\n",
    "        return x\n",
    "a=A(5)\n",
    "print(a.x) #calling via object    \n",
    "print(A.x)                              \n",
    "print(A.display(20))                    \n",
    "print(a.display())                       "
   ]
  },
  {
   "cell_type": "code",
   "execution_count": 3,
   "id": "3ddcc278-bcb9-4b35-9b8d-264d75bc92ff",
   "metadata": {},
   "outputs": [
    {
     "name": "stdin",
     "output_type": "stream",
     "text": [
      "Enter the subject of your choice: TAFL\n"
     ]
    },
    {
     "name": "stdout",
     "output_type": "stream",
     "text": [
      "Options Available\n"
     ]
    },
    {
     "name": "stdin",
     "output_type": "stream",
     "text": [
      "Enter your name: Shreya\n",
      "Enter your roll number: 124\n"
     ]
    },
    {
     "name": "stdout",
     "output_type": "stream",
     "text": [
      "_____Student Information_____\n",
      "Name of Student: Shreya\n",
      "Roll No of Student: 124\n",
      "Subject Alloted: TAFL\n"
     ]
    }
   ],
   "source": [
    "#Write a program for allotment of electric subject after validity the available choices.\n",
    "class Choice:\n",
    "    def __init__(self,n,r,subject):\n",
    "        self.name=n\n",
    "        self.roll_no=r\n",
    "        self.subject=subject\n",
    "    def display(self):\n",
    "        print(\"_____Student Information_____\")\n",
    "        print(\"Name of Student:\",self.name)\n",
    "        print(\"Roll No of Student:\",self.roll_no)\n",
    "        print(\"Subject Alloted:\",self.subject)\n",
    "\n",
    "    @staticmethod\n",
    "    def validate_subject(subject,x):\n",
    "        if x in subject:\n",
    "            print(\"Options Available\")\n",
    "            return True\n",
    "        else:\n",
    "            print(\"Option is not Available\")\n",
    "            return False\n",
    "subject=[\"TAFL\",\"DS\",\"COA\",\"DLD\"]\n",
    "sub=input(\"Enter the subject of your choice:\").upper()\n",
    "if Choice.validate_subject(subject,sub):\n",
    "    name=input(\"Enter your name:\")\n",
    "    roll=int(input(\"Enter your roll number:\"))\n",
    "    C=Choice(name,roll,sub)\n",
    "    C.display()"
   ]
  },
  {
   "cell_type": "code",
   "execution_count": 4,
   "id": "e86167d6-169f-4f97-a17a-7307a3062613",
   "metadata": {},
   "outputs": [
    {
     "data": {
      "text/plain": [
       "['__abs__',\n",
       " '__add__',\n",
       " '__and__',\n",
       " '__bool__',\n",
       " '__ceil__',\n",
       " '__class__',\n",
       " '__delattr__',\n",
       " '__dir__',\n",
       " '__divmod__',\n",
       " '__doc__',\n",
       " '__eq__',\n",
       " '__float__',\n",
       " '__floor__',\n",
       " '__floordiv__',\n",
       " '__format__',\n",
       " '__ge__',\n",
       " '__getattribute__',\n",
       " '__getnewargs__',\n",
       " '__getstate__',\n",
       " '__gt__',\n",
       " '__hash__',\n",
       " '__index__',\n",
       " '__init__',\n",
       " '__init_subclass__',\n",
       " '__int__',\n",
       " '__invert__',\n",
       " '__le__',\n",
       " '__lshift__',\n",
       " '__lt__',\n",
       " '__mod__',\n",
       " '__mul__',\n",
       " '__ne__',\n",
       " '__neg__',\n",
       " '__new__',\n",
       " '__or__',\n",
       " '__pos__',\n",
       " '__pow__',\n",
       " '__radd__',\n",
       " '__rand__',\n",
       " '__rdivmod__',\n",
       " '__reduce__',\n",
       " '__reduce_ex__',\n",
       " '__repr__',\n",
       " '__rfloordiv__',\n",
       " '__rlshift__',\n",
       " '__rmod__',\n",
       " '__rmul__',\n",
       " '__ror__',\n",
       " '__round__',\n",
       " '__rpow__',\n",
       " '__rrshift__',\n",
       " '__rshift__',\n",
       " '__rsub__',\n",
       " '__rtruediv__',\n",
       " '__rxor__',\n",
       " '__setattr__',\n",
       " '__sizeof__',\n",
       " '__str__',\n",
       " '__sub__',\n",
       " '__subclasshook__',\n",
       " '__truediv__',\n",
       " '__trunc__',\n",
       " '__xor__',\n",
       " 'as_integer_ratio',\n",
       " 'bit_count',\n",
       " 'bit_length',\n",
       " 'conjugate',\n",
       " 'denominator',\n",
       " 'from_bytes',\n",
       " 'imag',\n",
       " 'is_integer',\n",
       " 'numerator',\n",
       " 'real',\n",
       " 'to_bytes']"
      ]
     },
     "execution_count": 4,
     "metadata": {},
     "output_type": "execute_result"
    }
   ],
   "source": [
    "#magic methods\n",
    "dir(int)"
   ]
  },
  {
   "cell_type": "code",
   "execution_count": 5,
   "id": "575930e1-53f0-4271-9893-5dc5e02fd28f",
   "metadata": {},
   "outputs": [
    {
     "name": "stdout",
     "output_type": "stream",
     "text": [
      "15\n",
      "15\n",
      "7\n",
      "2\n"
     ]
    }
   ],
   "source": [
    "#Add Magic method\n",
    "num=10\n",
    "print(num + 5)\n",
    "print(num.__add__(5))\n",
    "class int:\n",
    "    def __add__(a,b):\n",
    "        return a+b\n",
    "    def __sub__(a,b):\n",
    "        return a-b\n",
    "print(int.__add__(3,4))\n",
    "print(int.__sub__(7,5))"
   ]
  },
  {
   "cell_type": "code",
   "execution_count": 6,
   "id": "f7342f00-ce4e-437e-a383-cb68290bc96e",
   "metadata": {},
   "outputs": [
    {
     "name": "stdout",
     "output_type": "stream",
     "text": [
      "The new magic method is called\n",
      "__init__ magic method is called\n",
      "<__main__.A object at 0x000001B50CD5F7A0>\n",
      "Python\n"
     ]
    }
   ],
   "source": [
    "class A:\n",
    "    def __new__(cls):\n",
    "        print(\"The new magic method is called\")\n",
    "        inst=object.__new__(cls)\n",
    "        return inst\n",
    "    def __init__(self):\n",
    "        print(\"__init__ magic method is called\")\n",
    "        self.name=\"Python\"\n",
    "a=A()\n",
    "print(a)\n",
    "print(a.name)"
   ]
  },
  {
   "cell_type": "code",
   "execution_count": 7,
   "id": "27ed6c45-6ac7-40cb-85f9-ccb57ed0d6ff",
   "metadata": {},
   "outputs": [
    {
     "name": "stdout",
     "output_type": "stream",
     "text": [
      "<class 'int'>\n",
      "<class 'str'>\n",
      "<class 'str'>\n"
     ]
    }
   ],
   "source": [
    "#str() method\n",
    "num=12\n",
    "x=str(num)\n",
    "y=int.__str__(num)\n",
    "print(type(num))\n",
    "print(type(x))\n",
    "print(type(y))"
   ]
  },
  {
   "cell_type": "code",
   "execution_count": 8,
   "id": "1404861b-8d7b-47cc-b03f-67317f43f457",
   "metadata": {},
   "outputs": [
    {
     "name": "stdout",
     "output_type": "stream",
     "text": [
      "Hello\n",
      "'Hello'\n"
     ]
    }
   ],
   "source": [
    "s=\"Hello\"\n",
    "print(str(s)) #Informal\n",
    "print(repr(s)) #Formal"
   ]
  },
  {
   "cell_type": "code",
   "execution_count": 9,
   "id": "1b5de3a9-397f-4fc1-9575-3dd9a4c84138",
   "metadata": {},
   "outputs": [
    {
     "name": "stdout",
     "output_type": "stream",
     "text": [
      "2025-06-15 17:49:36.448372\n",
      "datetime.datetime(2025, 6, 15, 17, 49, 36, 448372)\n"
     ]
    }
   ],
   "source": [
    "import datetime \n",
    "today=datetime.datetime.now()\n",
    "print(str(today))\n",
    "print(repr(today))"
   ]
  },
  {
   "cell_type": "code",
   "execution_count": 12,
   "id": "ff7ba28c-79c2-48df-add0-9db478e4bf87",
   "metadata": {},
   "outputs": [
    {
     "name": "stdout",
     "output_type": "stream",
     "text": [
      "8\n",
      "10\n",
      "5\n",
      "(5, 3)\n"
     ]
    }
   ],
   "source": [
    "#Create a class called Numbers which has a single class attribute called Multiplier, \n",
    "#and a constructor which takes the parameters x and y(these should all the numbers),\n",
    "#a.Write an instance method called add which returns the sum of the attributes x and y.\n",
    "#b.Write a class method called multiply which takes a single number parameter a and returns\n",
    "#the product of a and MULTIPLIER.\n",
    "#c.Write a static method called subtract,which takes two number parameters,b and c, and \n",
    "#returns b-c.\n",
    "#d.Write a method called value which returns a tuple containing the values of x and y.\n",
    "class Numbers:\n",
    "    mul=2\n",
    "    def __init__(self,x,y):\n",
    "        self.x=x\n",
    "        self.y=y\n",
    "    \n",
    "    def add(self):\n",
    "        return self.x+self.y\n",
    "\n",
    "    @classmethod\n",
    "    def multiply(cls,a):\n",
    "        return a*cls.mul\n",
    "\n",
    "    @staticmethod\n",
    "    def subtract(b,c):\n",
    "        return b-c\n",
    "\n",
    "    def value(self):\n",
    "        return self.x,self.y\n",
    "a1=Numbers(5,3)\n",
    "print(a1.add())\n",
    "print(a1.multiply(5))\n",
    "print(a1.subtract(10,5))\n",
    "print(a1.value())"
   ]
  },
  {
   "cell_type": "code",
   "execution_count": 13,
   "id": "f22ca09e-1b12-46d7-b1bf-2ddaa55e8c71",
   "metadata": {},
   "outputs": [
    {
     "name": "stdout",
     "output_type": "stream",
     "text": [
      "The string is: Shreya Kushwaha\n",
      "No of uppercase: 2\n",
      "No of lowercase: 12\n",
      "No of vowels: 5\n",
      "No of consonants: 9\n",
      "No of spaces: 1\n"
     ]
    }
   ],
   "source": [
    "#Create a class called string that stores a string and all its status details such as number\n",
    "#of uppercase letters,lowercase letters,vowels,consonants and space in instance variables.\n",
    "#a.Write methods named as count_uppercase, count_lowercase, count_vowels, count_consonants\n",
    "#and count space to count corresponding values.\n",
    "#b. Write a method called display to print string along with all the values computed by \n",
    "#methods in (a).\n",
    "class String:\n",
    "    def __init__(self,string):\n",
    "        self.string=string\n",
    "        self.count_uppercase=0\n",
    "        self.count_lowercase=0\n",
    "        self.count_vowels=0\n",
    "        self.count_consonants=0\n",
    "        self.count_space=0\n",
    "    def uppercase(self):\n",
    "        for i in str:\n",
    "            if i.isupper():\n",
    "               self.count_uppercase+=1\n",
    "    \n",
    "    def lowercase(self):\n",
    "        for i in str:\n",
    "            if i.islower():\n",
    "                self.count_lowercase+=1\n",
    "    \n",
    "    def vowels(self):\n",
    "        for i in str:\n",
    "            if i in \"aeiouAEIOU\":\n",
    "                self.count_vowels+=1\n",
    "\n",
    "    def consonants(self):\n",
    "        for i in str:\n",
    "            if i.isalpha() and i not in \"aeiouAEIOU\":\n",
    "                self.count_consonants+=1\n",
    "       \n",
    "    def spaces(self):\n",
    "        for i in str:\n",
    "            if i.isspace():\n",
    "                self.count_space+=1\n",
    "       \n",
    "    def display(self):\n",
    "        print(\"The string is:\",self.string)\n",
    "        print(\"No of uppercase:\",self.count_uppercase)\n",
    "        print(\"No of lowercase:\",self.count_lowercase)\n",
    "        print(\"No of vowels:\",self.count_vowels)\n",
    "        print(\"No of consonants:\",self.count_consonants)\n",
    "        print(\"No of spaces:\",self.count_space)\n",
    "str=\"Shreya Kushwaha\"\n",
    "c=String(str)\n",
    "c.uppercase()\n",
    "c.lowercase()\n",
    "c.vowels()\n",
    "c.consonants()\n",
    "c.spaces()\n",
    "c.display()"
   ]
  },
  {
   "cell_type": "code",
   "execution_count": 14,
   "id": "ec7e2bf1-9b01-409f-9594-668a28b3b0e1",
   "metadata": {},
   "outputs": [
    {
     "name": "stdout",
     "output_type": "stream",
     "text": [
      "<class 'object'>\n",
      "<class '__main__.Person'>\n"
     ]
    }
   ],
   "source": [
    "class Person:\n",
    "    pass\n",
    "print(Person.__base__)\n",
    "class Teacher(Person):\n",
    "    pass\n",
    "print(Teacher.__base__)\n",
    "\n",
    "#class class_name(inherited Class_Name)"
   ]
  },
  {
   "cell_type": "code",
   "execution_count": 15,
   "id": "22d042ec-af7c-4f69-a619-1a725b9cbe35",
   "metadata": {},
   "outputs": [
    {
     "name": "stdout",
     "output_type": "stream",
     "text": [
      "Inside Method1\n",
      "Inside method2\n",
      "Inside method3\n",
      "Inside Method1\n",
      "Inside method2\n"
     ]
    }
   ],
   "source": [
    "#Single Inheritance\n",
    "class A:\n",
    "    def meth1(self):\n",
    "        print(\"Inside Method1\")\n",
    "    def meth2(self):\n",
    "        print(\"Inside method2\")\n",
    "class B(A):\n",
    "    def meth3(self):\n",
    "        print(\"Inside method3\")\n",
    "obj1=B()\n",
    "obj1.meth1()\n",
    "obj1.meth2()\n",
    "obj1.meth3()\n",
    "obj2=A()  #we can't access meth3 from obj2\n",
    "obj2.meth1()\n",
    "obj2.meth2()"
   ]
  },
  {
   "cell_type": "code",
   "execution_count": 16,
   "id": "d922c662-90ba-48f4-9ed6-3700569bd11c",
   "metadata": {},
   "outputs": [
    {
     "name": "stdout",
     "output_type": "stream",
     "text": [
      "Inside Method 1\n",
      "Attribute 1: 90\n",
      "Attribute 2: 100\n",
      "Inside Method 2\n",
      "Attribute 3: 50\n",
      "Attribute 4: 70\n",
      "Attribute 1: 90\n"
     ]
    }
   ],
   "source": [
    "#Attributes Accessibility\n",
    "class A:\n",
    "    def setdataA(self):\n",
    "        self.attr1=90\n",
    "        self.__attr2=100\n",
    "    def check(self):\n",
    "        print(\"Inside Method 1\")\n",
    "        print(\"Attribute 1:\",self.attr1)\n",
    "        print(\"Attribute 2:\",self.__attr2)\n",
    "class B(A):\n",
    "    def setdataB(self):\n",
    "        self.attr3=50\n",
    "        self.__attr4=70\n",
    "    def check2(self):\n",
    "        print(\"Inside Method 2\")\n",
    "        print(\"Attribute 3:\",self.attr3)\n",
    "        print(\"Attribute 4:\",self.__attr4)\n",
    "        print(\"Attribute 1:\",self.attr1)\n",
    "obj1=B()\n",
    "obj1.setdataA()\n",
    "obj1.check()\n",
    "obj1.setdataB()\n",
    "obj1.check2()"
   ]
  },
  {
   "cell_type": "code",
   "execution_count": 1,
   "id": "934cd204-4794-40ad-8f45-e4cc141c9300",
   "metadata": {},
   "outputs": [
    {
     "ename": "IndentationError",
     "evalue": "expected an indented block after function definition on line 15 (2233709447.py, line 17)",
     "output_type": "error",
     "traceback": [
      "  \u001b[36mCell\u001b[39m\u001b[36m \u001b[39m\u001b[32mIn[1]\u001b[39m\u001b[32m, line 17\u001b[39m\n\u001b[31m    \u001b[39m\u001b[31mr=float(input(\"Input radius of a circle:\"))\u001b[39m\n                                                      ^\n\u001b[31mIndentationError\u001b[39m\u001b[31m:\u001b[39m expected an indented block after function definition on line 15\n"
     ]
    }
   ],
   "source": [
    "#Create a Python class named Circle constructed by a radius.Use a class variable to define the \n",
    "#value of constant PI.\n",
    "#a.Write two methods to be named as area and circum to compute the area and the perimeter of a\n",
    "#circle respectively by using class variable PI.\n",
    "#b.Write a method called display to print area and perimeter.\n",
    "class Circle:\n",
    "    PI=3.14\n",
    "    def __init__(self,r):\n",
    "        self.radius=r\n",
    "\n",
    "    def area(self):\n",
    "        return Circle.PI*self.radius**2\n",
    "    def circum(self):\n",
    "        return 2*Circle.PI*self.radius\n",
    "    def display(self):\n",
    "        print(\"Area of a circle:\",self.area())\n",
    "        print(\"Perimeter of a circle:\",C.circum())\n",
    "             \n",
    "r=float(input(\"Input radius of a circle:\"))       \n",
    "C=Circle(r)"
   ]
  },
  {
   "cell_type": "code",
   "execution_count": null,
   "id": "f95e599d-f9da-46b1-a714-62a22d258870",
   "metadata": {},
   "outputs": [],
   "source": []
  }
 ],
 "metadata": {
  "kernelspec": {
   "display_name": "Python 3 (ipykernel)",
   "language": "python",
   "name": "python3"
  },
  "language_info": {
   "codemirror_mode": {
    "name": "ipython",
    "version": 3
   },
   "file_extension": ".py",
   "mimetype": "text/x-python",
   "name": "python",
   "nbconvert_exporter": "python",
   "pygments_lexer": "ipython3",
   "version": "3.12.3"
  }
 },
 "nbformat": 4,
 "nbformat_minor": 5
}
