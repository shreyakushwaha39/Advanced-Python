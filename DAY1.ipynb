{
 "cells": [
  {
   "cell_type": "code",
   "execution_count": 1,
   "id": "622cefc8-2275-43f2-9c4b-728dc1b18d9e",
   "metadata": {},
   "outputs": [
    {
     "name": "stdout",
     "output_type": "stream",
     "text": [
      "Fruit is: Apple\n",
      "Color is: Red\n",
      "Fruit is: Guava\n",
      "Color is: Green\n"
     ]
    }
   ],
   "source": [
    "#Program to demonstrate the use of self\n",
    "class Food:\n",
    "    def __init__(self,fruit,color): #init or constructor\n",
    "        self.fruit=fruit\n",
    "        self.color=color\n",
    "    def show(self):\n",
    "        print(\"Fruit is:\",self.fruit)\n",
    "        print(\"Color is:\",self.color)\n",
    "x=Food(\"Apple\",\"Red\")\n",
    "y=Food(\"Guava\",\"Green\")\n",
    "x.show()\n",
    "y.show()"
   ]
  },
  {
   "cell_type": "code",
   "execution_count": 2,
   "id": "0171fd33-e7b8-445e-8058-eccb52db9794",
   "metadata": {
    "editable": true,
    "slideshow": {
     "slide_type": ""
    },
    "tags": []
   },
   "outputs": [
    {
     "name": "stdout",
     "output_type": "stream",
     "text": [
      "Shreya\n"
     ]
    }
   ],
   "source": [
    "class Person:\n",
    "    def __init__(self,n):\n",
    "        self.name=n\n",
    "    def get_person_name(self):\n",
    "        print(self.name)\n",
    "P1=Person(\"Shreya\")\n",
    "P1.get_person_name()"
   ]
  },
  {
   "cell_type": "code",
   "execution_count": 3,
   "id": "c9a0d74e-3b2f-443c-a268-9e292f1af8c4",
   "metadata": {},
   "outputs": [
    {
     "name": "stdout",
     "output_type": "stream",
     "text": [
      "This is an instance method\n"
     ]
    }
   ],
   "source": [
    "#Creating a method of a class\n",
    "class Computer:\n",
    "    def instance_method(self):\n",
    "        return \"This is an instance method\"\n",
    "objit=Computer()\n",
    "print(objit.instance_method())"
   ]
  },
  {
   "cell_type": "code",
   "execution_count": 5,
   "id": "3cf873ae-5243-4b13-a0f6-218161611739",
   "metadata": {},
   "outputs": [
    {
     "name": "stdout",
     "output_type": "stream",
     "text": [
      "This is an instance method with parameter a=12.\n"
     ]
    }
   ],
   "source": [
    "#Instance method with some parameter\n",
    "class Computer:\n",
    "    def instance_method(self,a):\n",
    "        return f\"This is an instance method with parameter a = {a}.\"\n",
    "objit=Computer()\n",
    "print(objit.instance_method(12))"
   ]
  },
  {
   "cell_type": "code",
   "execution_count": 3,
   "id": "30a47dcc-56b1-4d18-aa5c-c1ed2f4c9e0c",
   "metadata": {
    "editable": true,
    "slideshow": {
     "slide_type": ""
    },
    "tags": []
   },
   "outputs": [
    {
     "name": "stdout",
     "output_type": "stream",
     "text": [
      "Hello Good Morning class\n",
      "None\n"
     ]
    }
   ],
   "source": [
    "#Programs to demonstrate a function inside a function\n",
    "def greetings(message):\n",
    "    x=\"Hello\"\n",
    "    def display():\n",
    "        print(x,message)\n",
    "    display()\n",
    "print(greetings(\"Good Morning class\"))"
   ]
  },
  {
   "cell_type": "code",
   "execution_count": 14,
   "id": "20f6b21c-6abb-44ef-96eb-4f4000bdc56c",
   "metadata": {},
   "outputs": [
    {
     "name": "stdout",
     "output_type": "stream",
     "text": [
      "Hello!!!How are you class?\n"
     ]
    }
   ],
   "source": [
    "#Programs to demonstrate a decorator function\n",
    "def deco_hello(fun):\n",
    "    def inner():\n",
    "        c=fun()\n",
    "        return c + \"How are you class?\"\n",
    "    return inner\n",
    "@deco_hello\n",
    "def hello():\n",
    "    return \"Hello!!!\"\n",
    "print(hello())"
   ]
  },
  {
   "cell_type": "code",
   "execution_count": 15,
   "id": "4d464451-c056-421d-b607-32fffd081dea",
   "metadata": {},
   "outputs": [
    {
     "name": "stdout",
     "output_type": "stream",
     "text": [
      "120\n"
     ]
    }
   ],
   "source": [
    "#Write a decorator function to decorate addition to give factorial\n",
    "def deco_add(fun):\n",
    "    def fac(a,b):\n",
    "        c=fun(a,b)\n",
    "        fac=1\n",
    "        for i in range(1,c+1):\n",
    "            fac*=i\n",
    "        return fac\n",
    "    return fac\n",
    "\n",
    "@deco_add\n",
    "def add(n,m):\n",
    "    c=n+m\n",
    "    return c\n",
    "print(add(3,2)) #decorator function add is replaced by fac()"
   ]
  },
  {
   "cell_type": "code",
   "execution_count": 39,
   "id": "056583c6-1d65-4169-a1a4-ad737531f45d",
   "metadata": {},
   "outputs": [
    {
     "name": "stdout",
     "output_type": "stream",
     "text": [
      "25\n"
     ]
    }
   ],
   "source": [
    "def deco_add(fun):       #Understand the code\n",
    "    def square(x,y):\n",
    "        c=fun(x,y)\n",
    "        return c*c\n",
    "    return square\n",
    "\n",
    "@deco_add\n",
    "def add(n,m):\n",
    "    b=n+m\n",
    "    return b\n",
    "    \n",
    "\n",
    "print(add(3,2))"
   ]
  },
  {
   "cell_type": "code",
   "execution_count": 38,
   "id": "f3ae17df-854f-4389-a5dd-c18929d49ba7",
   "metadata": {},
   "outputs": [
    {
     "data": {
      "text/plain": [
       "6"
      ]
     },
     "execution_count": 38,
     "metadata": {},
     "output_type": "execute_result"
    }
   ],
   "source": [
    "#Create a python class named Rectangle constructed by a length and width.Create a method called area which will compute the area of a rectangle.\n",
    "class Rectangle:\n",
    "    def __init__(self,length,breadth):\n",
    "        self.length=length\n",
    "        self.breadth=breadth\n",
    "    def area(self):\n",
    "        return self.length*self.breadth\n",
    "A=Rectangle(2,3)\n",
    "A.area()"
   ]
  },
  {
   "cell_type": "code",
   "execution_count": 20,
   "id": "4eeae3a7-cf79-4baf-bc8c-3e0558058e8b",
   "metadata": {},
   "outputs": [
    {
     "name": "stdout",
     "output_type": "stream",
     "text": [
      "shreya's age is: 18\n",
      "Shreya's age is now: 19\n"
     ]
    }
   ],
   "source": [
    "#class method\n",
    "from datetime import date\n",
    "class Student:\n",
    "    def __init__(self,name,age):\n",
    "        self.name=name\n",
    "        self.age=age\n",
    "        \n",
    "    @classmethod\n",
    "    def calculate_age(cls,name,birth_year):\n",
    "        return cls(name,date.today().year-birth_year)\n",
    "    def display(self):\n",
    "        print(self.name + \"'s age is: \"+str(self.age))\n",
    "    def display1(self):\n",
    "        print(self.name + \"'s age is now: \" + str(self.age))\n",
    "s1=Student('shreya',18)\n",
    "s1.display()\n",
    "s2=Student.calculate_age(\"Shreya\",2006)\n",
    "s2.display1()"
   ]
  },
  {
   "cell_type": "code",
   "execution_count": 22,
   "id": "0469187e-a170-4b37-9d56-0acbc22e8d16",
   "metadata": {},
   "outputs": [
    {
     "name": "stdout",
     "output_type": "stream",
     "text": [
      "Shreya 18 NIET: Computer Science\n"
     ]
    }
   ],
   "source": [
    "#Program to demonstrate the accessing class variable in class method\n",
    "class NIET:\n",
    "    branch_name='Computer Science' #class member\n",
    "    \n",
    "    def __init__(self,name,age):\n",
    "        self.name=name\n",
    "        self.age=age\n",
    "\n",
    "    @classmethod\n",
    "    def change_branch(cls,branch_name):\n",
    "        NIET.branch_name=branch_name #classname.classvariable\n",
    "\n",
    "    def display(self):\n",
    "        print(self.name,self.age,'NIET:',NIET.branch_name)\n",
    "student=NIET('Shreya',18)\n",
    "student.display()"
   ]
  },
  {
   "cell_type": "code",
   "execution_count": 26,
   "id": "7dbf5768-c08e-4d6d-8b13-9f440c23f630",
   "metadata": {},
   "outputs": [
    {
     "name": "stdout",
     "output_type": "stream",
     "text": [
      "SHREYA 18 NIET: Computer Science\n",
      "Below assignment is for: Computer Science\n"
     ]
    }
   ],
   "source": [
    "class NIET:\n",
    "    branch_name='Computer Science'\n",
    "    def __init__(self,name,age):\n",
    "        self.name=name\n",
    "        self.age=age\n",
    "    def display(self): #we use self to access the attributes of __init__ constructor\n",
    "        print(self.name,self.age,'NIET:',NIET.branch_name)\n",
    "def questions(cls):\n",
    "    print(\"Below assignment is for:\",cls.branch_name) #we use cls to access the attributes of a class\n",
    "NIET.questions=classmethod(questions) #Adding class method at runtimes\n",
    "student=NIET('SHREYA',18)\n",
    "student.display()\n",
    "NIET.questions() #Recall of new method"
   ]
  },
  {
   "cell_type": "code",
   "execution_count": 34,
   "id": "54d49fe7-bcad-4d8a-aee3-7d5d16de45dc",
   "metadata": {},
   "outputs": [
    {
     "name": "stdout",
     "output_type": "stream",
     "text": [
      "13000 1001\n",
      "19000 1002\n",
      "31000 1003\n",
      "Total no of accounts: 3\n",
      "Next account number will be: 1004\n"
     ]
    }
   ],
   "source": [
    "#Project to make a banking system      #UNDERSTAND THE CODE\n",
    "#class-bank account,constructor(acc no,name and balance),instance variables(balance,account_type),\n",
    "#instance methods(deposit,withdraw),class variable(track total no of acc return,unique acc number for \n",
    "#every acc) and add a static method for validating minimum balanc,add transaction history and then display\n",
    "#account summary and create a class method  to display bank info\n",
    "class Bank_account:\n",
    "    bank_name = 'SBI Bank' #class attributes\n",
    "    branch = 'Virtual Bank'\n",
    "    total_accounts = 0\n",
    "    next_account_number = 1001  # Auto-incrementing account number\n",
    "\n",
    "    def __init__(self, name, balance):\n",
    "        self.acc_no = Bank_account.next_account_number\n",
    "        self.name = name\n",
    "        self.balance = balance\n",
    "        Bank_account.total_accounts += 1\n",
    "        Bank_account.next_account_number += 1\n",
    "\n",
    "    def deposit(self, amount):\n",
    "        self.balance += amount\n",
    "        return self.balance\n",
    "\n",
    "    def withdraw(self, amount):\n",
    "        if amount > self.balance:\n",
    "            return \"Insufficient Balance\"\n",
    "        self.balance -= amount\n",
    "        return self.balance\n",
    "\n",
    "    @classmethod\n",
    "    def total(cls):\n",
    "        return cls.total_accounts\n",
    "\n",
    "    @classmethod\n",
    "    def current_acc_number(cls):\n",
    "        return cls.next_account_number\n",
    "\n",
    "#Everytime the new object is created it increament in the constructor.\n",
    "s1 = Bank_account('Shreya', 10000)\n",
    "print(s1.deposit(3000), s1.acc_no)\n",
    "\n",
    "s2 = Bank_account('Nisha', 20000)\n",
    "print(s2.withdraw(1000), s2.acc_no)\n",
    "\n",
    "s3 = Bank_account('Dev', 30000)\n",
    "print(s3.deposit(1000), s3.acc_no)\n",
    "\n",
    "print(\"Total no of accounts:\", Bank_account.total())\n",
    "print(\"Next account number will be:\", Bank_account.current_acc_number())\n"
   ]
  },
  {
   "cell_type": "code",
   "execution_count": null,
   "id": "08ea8381-9dbe-48b8-9e43-afd8bc7c74e7",
   "metadata": {},
   "outputs": [],
   "source": []
  }
 ],
 "metadata": {
  "kernelspec": {
   "display_name": "Python 3 (ipykernel)",
   "language": "python",
   "name": "python3"
  },
  "language_info": {
   "codemirror_mode": {
    "name": "ipython",
    "version": 3
   },
   "file_extension": ".py",
   "mimetype": "text/x-python",
   "name": "python",
   "nbconvert_exporter": "python",
   "pygments_lexer": "ipython3",
   "version": "3.12.3"
  }
 },
 "nbformat": 4,
 "nbformat_minor": 5
}
