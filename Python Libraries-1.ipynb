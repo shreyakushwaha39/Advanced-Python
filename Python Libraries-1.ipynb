{
 "cells": [
  {
   "cell_type": "markdown",
   "id": "e5137142-18aa-4c38-8322-514107c6238c",
   "metadata": {},
   "source": [
    "<font color='blue'><h1>Libraries in Python:</h1></font>\n",
    "\n",
    "* NumPy\n",
    "* Pandas\n",
    "* MatPlotLib\n",
    "* Seaborn\n",
    "* Plotly\n",
    "* SciPy\n",
    "\n",
    "<font color='violet'><h2>NumPy:</h2></font>Numeric Python\n",
    "\n",
    "* Package for scientific computing in Python.\n",
    "* NumPy is Library that provides *n-dimensional array objects*\n",
    "* Fast operations on Arrays including logical, shape manipulation, sorting, selectinng, discrete mathematics, Fourier Transforms, Basic Linear Algebra, Stastical operations, Random Simulation and many more.\n"
   ]
  },
  {
   "cell_type": "code",
   "execution_count": 2,
   "id": "b2851a8c-705a-4aaf-8d36-e5f315e89c6e",
   "metadata": {},
   "outputs": [
    {
     "name": "stdout",
     "output_type": "stream",
     "text": [
      "[1 2 3 4 5]\n",
      "<class 'numpy.ndarray'>\n"
     ]
    }
   ],
   "source": [
    "#1. Defining 1-D array\n",
    "import numpy as np\n",
    "a=np.array([1,2,3,4,5])\n",
    "print(a)\n",
    "print(type(a)) #1-D array"
   ]
  },
  {
   "cell_type": "code",
   "execution_count": 6,
   "id": "2be1ceb8-508b-4988-94d9-079e8a8697b8",
   "metadata": {},
   "outputs": [
    {
     "name": "stdout",
     "output_type": "stream",
     "text": [
      "['3' '0.5' '7.8' 'shreya' 'kushwaha' '8.9' '0']\n",
      "<class 'numpy.ndarray'>\n",
      "int32\n",
      "<U32\n"
     ]
    }
   ],
   "source": [
    "#2. To enter element of different type in Array\n",
    "import numpy as np\n",
    "b=np.array([3,0.5,7.8,'shreya','kushwaha',8.9,0])\n",
    "print(b)`\n",
    "print(type(b))\n",
    "print(a.dtype)\n",
    "print(b.dtype)"
   ]
  },
  {
   "cell_type": "markdown",
   "id": "91d43900-5b98-4efa-a341-5e7a05191be7",
   "metadata": {},
   "source": [
    "<font color='blue'><h1>Reshaping:</h1></font>\n",
    "\n",
    "* As long as the elements required for reshaping are equal in both shapes.\n",
    "* E.g:- We can reshape an 8 elements 1-D array into 4 elements in 2 rows 2-D array but we can't reshape it into a 3 elements 3 rows 2-D array."
   ]
  },
  {
   "cell_type": "code",
   "execution_count": 10,
   "id": "a185ac88-e583-4789-9cd1-5835f274466c",
   "metadata": {},
   "outputs": [
    {
     "name": "stdout",
     "output_type": "stream",
     "text": [
      "[[1 2 3]\n",
      " [4 5 6]\n",
      " [7 8 9]]\n"
     ]
    }
   ],
   "source": [
    "import numpy as np\n",
    "arr=np.array([1,2,3,4,5,6,7,8,9])\n",
    "newarr=arr.reshape(3,3)\n",
    "print(newarr)"
   ]
  },
  {
   "cell_type": "markdown",
   "id": "52d72a6c-fb9e-42be-a1bb-0e1fc6873e6b",
   "metadata": {},
   "source": [
    "<font color='blue'><h1>Resizing: </h1></font>\n",
    "\n",
    "* The resize() function is used to create a new array with the specified shape.\n",
    "* If the new array is larger than the original array, then the new array is filled with repeated copies of a."
   ]
  },
  {
   "cell_type": "code",
   "execution_count": 12,
   "id": "02fe80fc-0a0a-4eef-a754-dceb8ce244e4",
   "metadata": {},
   "outputs": [
    {
     "data": {
      "text/plain": [
       "array([[1, 2],\n",
       "       [3, 4],\n",
       "       [1, 2]])"
      ]
     },
     "execution_count": 12,
     "metadata": {},
     "output_type": "execute_result"
    }
   ],
   "source": [
    "import numpy as np \n",
    "a=np.array([1,2,3,4])\n",
    "np.resize(a,(3,2))"
   ]
  },
  {
   "cell_type": "markdown",
   "id": "98954c9a-0b98-466d-8722-fea0d04c507a",
   "metadata": {},
   "source": [
    "<font color='blue'><h1>Difference between Resize and Reshape methods in NumPy:</h1></font>\n",
    "\n",
    "- Reshape does not change the original array but only returns the changed array, whereas the resize() method returns nothing and directly changes the original array.\n"
   ]
  },
  {
   "cell_type": "code",
   "execution_count": 14,
   "id": "b6a750d7-a860-4801-8dfd-bfb5a3ebd9c6",
   "metadata": {},
   "outputs": [
    {
     "name": "stdout",
     "output_type": "stream",
     "text": [
      "Original array:\n",
      "[1 2 3 4 5 6]\n",
      "Changed array:\n",
      "[[1 2 3]\n",
      " [4 5 6]]\n",
      "Changed array:\n",
      "None\n",
      "[[1 2 3]\n",
      " [4 5 6]]\n"
     ]
    }
   ],
   "source": [
    "import numpy as np\n",
    "cs=np.array([1,2,3,4,5,6])\n",
    "print(\"Original array:\")\n",
    "print(cs)\n",
    "print(\"Changed array:\")\n",
    "print(cs.reshape(2,3))\n",
    "print(\"Changed array:\")\n",
    "print(cs.resize(2,3))\n",
    "print(\"Original array:\")\n",
    "print(cs)"
   ]
  },
  {
   "cell_type": "code",
   "execution_count": 22,
   "id": "bed23440-71f8-4291-a900-d388b0b15435",
   "metadata": {},
   "outputs": [
    {
     "name": "stdout",
     "output_type": "stream",
     "text": [
      "[1 2 3 4 5 6 7 8 9]\n",
      "<class 'numpy.ndarray'>\n",
      "2\n",
      "8\n",
      "3\n",
      "[[1 2]\n",
      " [4 5]]\n",
      "[[9 8 7]\n",
      " [6 5 4]\n",
      " [3 2 1]]\n"
     ]
    }
   ],
   "source": [
    "#Creating 2-D array\n",
    "import numpy as np\n",
    "ar=np.array([[1,2,3],[4,5,6],[7,8,9]])\n",
    "print(arr)\n",
    "print(type(arr))\n",
    "print(ar.ndim)\n",
    "print(ar[2][1])\n",
    "print(ar[0][2])\n",
    "r1=ar[:2,:2]\n",
    "print(r1)\n",
    "\n",
    "#Reversing array\n",
    "r2=ar[::-1,::-1]\n",
    "print(r2)"
   ]
  },
  {
   "cell_type": "markdown",
   "id": "e83326ee-018f-4a94-8108-5617c1d857a0",
   "metadata": {},
   "source": [
    "<font color='blue'><h1>Attributes in numpy:</h1></font>\n",
    "\n",
    "* <font color='green'>ndim:</font> Provides dimensions in array.\n",
    "* <font color='green'>size:</font> Number of elements in array.\n",
    "* <font color='green'>nbytes:</font> No. of bytes occupied by an array.\n",
    "* <font color='green'>itemsize:</font> bytes occupied by each elements."
   ]
  },
  {
   "cell_type": "code",
   "execution_count": 26,
   "id": "80679a3d-afec-4008-b7c0-7b58b4296341",
   "metadata": {},
   "outputs": [
    {
     "name": "stdout",
     "output_type": "stream",
     "text": [
      "[1 2 3 4 5 6]\n",
      "[[1 2 3]\n",
      " [4 5 6]\n",
      " [7 8 9]]\n",
      "1\n",
      "2\n",
      "6\n",
      "9\n",
      "(6,)\n",
      "(3, 3)\n"
     ]
    }
   ],
   "source": [
    "import numpy as np\n",
    "a=np.array([1,2,3,4,5,6])\n",
    "print(a)\n",
    "b=np.array([[1,2,3],[4,5,6],[7,8,9]])\n",
    "print(b)\n",
    "print(a.ndim)\n",
    "print(b.ndim)\n",
    "print(a.size)\n",
    "print(b.size)\n",
    "print(a.shape)\n",
    "print(b.shape)"
   ]
  },
  {
   "cell_type": "markdown",
   "id": "48ac0cb8-36df-457f-a54b-2617eb45df96",
   "metadata": {},
   "source": [
    "<font color='green'><h2>Usual Metrices:</h2></font>\n"
   ]
  },
  {
   "cell_type": "code",
   "execution_count": 40,
   "id": "91793f68-ca2c-40ee-a2eb-8fc2edfa94b6",
   "metadata": {},
   "outputs": [
    {
     "name": "stdout",
     "output_type": "stream",
     "text": [
      "[[0 0 0 0]\n",
      " [0 0 0 0]]\n",
      "[[1. 1. 1. 1.]\n",
      " [1. 1. 1. 1.]\n",
      " [1. 1. 1. 1.]]\n",
      "[[10 10 10 10]\n",
      " [10 10 10 10]\n",
      " [10 10 10 10]]\n",
      "[[nan nan nan]\n",
      " [nan nan nan]\n",
      " [nan nan nan]]\n",
      "[[10  0  0  0  0]\n",
      " [ 0 20  0  0  0]\n",
      " [ 0  0 30  0  0]\n",
      " [ 0  0  0 40  0]\n",
      " [ 0  0  0  0 50]]\n",
      "[[1. 0. 0. 0. 0.]\n",
      " [0. 1. 0. 0. 0.]\n",
      " [0. 0. 1. 0. 0.]\n",
      " [0. 0. 0. 1. 0.]\n",
      " [0. 0. 0. 0. 1.]]\n"
     ]
    }
   ],
   "source": [
    "import numpy as np\n",
    "a=np.zeros((2,4),dtype ='int16')\n",
    "b=np.ones((3,4))\n",
    "print(a)\n",
    "print(b)\n",
    "x=np.full((3,4),10)\n",
    "print(x)\n",
    "y=np.full((3,3),np.nan)\n",
    "print(y)\n",
    "m=np.diag([10,20,30,40,50]) #Diagonal Matrix\n",
    "print(m)\n",
    "e=np.eye(5) #Identity matrix\n",
    "print(e)"
   ]
  },
  {
   "cell_type": "markdown",
   "id": "5c87db92-55f9-4479-b0c3-d44fbd763195",
   "metadata": {},
   "source": [
    "<font color='green'>Flatten:</font> It creates 1-D array from any n-d array  \n",
    "<font color='green'>Ravel:</font>m It creates 1-D array from any n-d array."
   ]
  },
  {
   "cell_type": "code",
   "execution_count": 43,
   "id": "8bbe39e7-49a3-4687-9aba-cb88682d8198",
   "metadata": {},
   "outputs": [
    {
     "name": "stdout",
     "output_type": "stream",
     "text": [
      "[1 2 3 4 5 6]\n",
      "[1 2 3 4 5 6]\n",
      "[1 2 3 4 5 6 7 8 9]\n",
      "[1 2 3 4 5 6 7 8 9]\n"
     ]
    }
   ],
   "source": [
    "import numpy as np\n",
    "a=np.array([1,2,3,4,5,6])\n",
    "b=a.ravel()\n",
    "print(b)\n",
    "c=a.flatten()\n",
    "print(c)\n",
    "d=np.array([[1,2,3],[4,5,6],[7,8,9]])\n",
    "e=d.ravel()\n",
    "print(e)\n",
    "f=d.flatten()\n",
    "print(f)"
   ]
  },
  {
   "cell_type": "code",
   "execution_count": 44,
   "id": "3f98d2ba-81a5-45d6-8469-b14d6ca46c7a",
   "metadata": {},
   "outputs": [
    {
     "name": "stdout",
     "output_type": "stream",
     "text": [
      "[[0.30904043 0.8512978  0.72805645 0.94834056]\n",
      " [0.96386092 0.10136723 0.01224308 0.96065587]\n",
      " [0.70873284 0.4589442  0.23990852 0.73186674]]\n",
      "[[ 6  9 -3]\n",
      " [ 1  6  3]]\n"
     ]
    }
   ],
   "source": [
    "import numpy as np\n",
    "d=np.random.rand(3,4)\n",
    "print(d)\n",
    "a=np.random.randint(-4,10,size=(2,3))\n",
    "print(a)"
   ]
  },
  {
   "cell_type": "code",
   "execution_count": 45,
   "id": "053e54f6-d9ff-4570-a7a7-b3a2cf33335b",
   "metadata": {},
   "outputs": [
    {
     "name": "stdout",
     "output_type": "stream",
     "text": [
      "[10 11 12 13 14 15 16 17 18 19 20 21 22 23 24 25 26 27 28 29]\n"
     ]
    }
   ],
   "source": [
    "import numpy as np\n",
    "x=np.arange(10,30)\n",
    "print(x)"
   ]
  },
  {
   "cell_type": "code",
   "execution_count": 64,
   "id": "0ec8dace-39eb-4977-a649-95f871d2b5f5",
   "metadata": {},
   "outputs": [
    {
     "name": "stdout",
     "output_type": "stream",
     "text": [
      "[ 0.84147098  0.90929743  0.14112001 -0.7568025  -0.95892427]\n",
      "[ 0.54030231 -0.41614684 -0.9899925  -0.65364362  0.28366219]\n",
      "[ 1.55740772 -2.18503986 -0.14254654  1.15782128 -3.38051501]\n"
     ]
    }
   ],
   "source": [
    "import numpy as np\n",
    "a=np.array([1,2,3,4,5])\n",
    "print(np.sin(a))\n",
    "print(np.cos(a))\n",
    "print(np.tan(a))\n",
    "#print(np.sec(a))\n",
    "#print(np.cosec(a))\n",
    "#print(np.cot(a))"
   ]
  },
  {
   "cell_type": "code",
   "execution_count": 63,
   "id": "5ca70836-c2f8-458c-858e-6d5a8b641c3d",
   "metadata": {},
   "outputs": [
    {
     "name": "stdout",
     "output_type": "stream",
     "text": [
      "[[1 2 3]\n",
      " [4 5 6]\n",
      " [7 8 9]]\n",
      "[[1 3 4]\n",
      " [6 5 9]\n",
      " [3 8 4]]\n",
      "Transposed array:\n",
      "[[1 4 7]\n",
      " [2 5 8]\n",
      " [3 6 9]]\n",
      "Trace of an array:\n",
      "15\n",
      "Sum of an array:\n",
      "[[ 2  5  7]\n",
      " [10 10 15]\n",
      " [10 16 13]]\n",
      "Multiplication of an array:\n",
      "[[ 22  37  34]\n",
      " [ 52  85  85]\n",
      " [ 82 133 136]]\n",
      "[[ 22  37  34]\n",
      " [ 52  85  85]\n",
      " [ 82 133 136]]\n",
      "[[ 22  37  34]\n",
      " [ 52  85  85]\n",
      " [ 82 133 136]]\n",
      "Determinant:\n",
      "-9.51619735392994e-16\n",
      "88.99999999999999\n",
      "Inverse of an array:\n",
      "[[ 3.15251974e+15 -6.30503948e+15  3.15251974e+15]\n",
      " [-6.30503948e+15  1.26100790e+16 -6.30503948e+15]\n",
      " [ 3.15251974e+15 -6.30503948e+15  3.15251974e+15]]\n",
      "[[-0.58426966  0.2247191   0.07865169]\n",
      " [ 0.03370787 -0.08988764  0.16853933]\n",
      " [ 0.37078652  0.01123596 -0.14606742]]\n"
     ]
    }
   ],
   "source": [
    "import numpy as np\n",
    "a=np.array([[1,2,3],[4,5,6],[7,8,9]])\n",
    "b=np.array([[1,3,4],[6,5,9],[3,8,4]])\n",
    "print(a)\n",
    "print(b)\n",
    "print(\"Transposed array:\")\n",
    "print(a.transpose())\n",
    "\n",
    "print(\"Trace of an array:\")\n",
    "print(np.trace(a))\n",
    "\n",
    "print(\"Sum of an array:\")\n",
    "print(a+b)\n",
    "\n",
    "print(\"Multiplication of an array:\")\n",
    "print(a.dot(b))\n",
    "#or\n",
    "print(a@b)\n",
    "#or\n",
    "print(np.matmul(a,b))\n",
    "\n",
    "print(\"Determinant:\")\n",
    "print(np.linalg.det(a))\n",
    "print(np.linalg.det(b))\n",
    "\n",
    "print(\"Inverse of an array:\")\n",
    "print(np.linalg.inv(a))\n",
    "print(np.linalg.inv(b))"
   ]
  },
  {
   "cell_type": "code",
   "execution_count": null,
   "id": "664262d6-ab56-4089-bc02-f563c6506fae",
   "metadata": {},
   "outputs": [],
   "source": []
  }
 ],
 "metadata": {
  "kernelspec": {
   "display_name": "Python 3 (ipykernel)",
   "language": "python",
   "name": "python3"
  },
  "language_info": {
   "codemirror_mode": {
    "name": "ipython",
    "version": 3
   },
   "file_extension": ".py",
   "mimetype": "text/x-python",
   "name": "python",
   "nbconvert_exporter": "python",
   "pygments_lexer": "ipython3",
   "version": "3.12.3"
  }
 },
 "nbformat": 4,
 "nbformat_minor": 5
}
