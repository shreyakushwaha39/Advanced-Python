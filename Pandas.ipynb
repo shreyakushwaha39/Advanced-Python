{
 "cells": [
  {
   "cell_type": "markdown",
   "metadata": {},
   "source": [
    "Pandas: Pandas  is a Python library used for working with data sets.\n",
    "It has functions for analyzing, cleaning, exploring, and manipulating data.\n",
    "The name \"Pandas\" has a reference to both \"Panel Data\", and \n",
    "\"Python Data Analysis\" and was created by Wes McKinney in 2008.\n",
    "\n",
    "Why Use Pandas?\n",
    "Pandas  allows us to analyze big data and make conclusions based on statistical theories.\n",
    "Pandas can clean messy data sets, and make them readable and relevant.\n",
    "Relevant data is very important in data science.\n",
    "\n",
    "What Can Pandas Do?\n",
    "Pandas  gives you answers about the data. Like:\n",
    "•\tIs there a correlation between two or more columns?\n",
    "•\tWhat is average value?\n",
    "•\tMax value?\n",
    "•\tMin value?\n",
    "Pandas are also able to delete rows  that are not relevant, or contains wrong values, like empty or NULL values. This is called cleaning the data.\n",
    "\n",
    "Installation of Pandas:\n",
    "\n",
    "If you have Python and PIP already installed on a system, \n",
    "then installation of Pandas is very easy.\n",
    "Install it using this command:\n",
    "pip install pandas\n",
    "If this command fails, then use a python distribution that already\n",
    "has Pandas installed like, Anaconda, Spyder etc.\n",
    "\n",
    "\n"
   ]
  },
  {
   "cell_type": "code",
   "execution_count": 15,
   "metadata": {},
   "outputs": [
    {
     "name": "stdout",
     "output_type": "stream",
     "text": [
      "Requirement already satisfied: pandas in c:\\programdata\\anaconda3\\lib\\site-packages (1.3.4)\n",
      "Requirement already satisfied: pytz>=2017.3 in c:\\programdata\\anaconda3\\lib\\site-packages (from pandas) (2021.3)\n",
      "Requirement already satisfied: python-dateutil>=2.7.3 in c:\\programdata\\anaconda3\\lib\\site-packages (from pandas) (2.8.2)\n",
      "Requirement already satisfied: numpy>=1.17.3 in c:\\programdata\\anaconda3\\lib\\site-packages (from pandas) (1.20.3)\n",
      "Requirement already satisfied: six>=1.5 in c:\\programdata\\anaconda3\\lib\\site-packages (from python-dateutil>=2.7.3->pandas) (1.16.0)\n",
      "Note: you may need to restart the kernel to use updated packages.\n"
     ]
    }
   ],
   "source": [
    "pip install pandas"
   ]
  },
  {
   "cell_type": "markdown",
   "metadata": {},
   "source": [
    "Import Pandas\n",
    "Once Pandas is installed, import it in your applications by adding the \n",
    "import keyword:\n",
    "import pandas\n",
    "Now Pandas is imported and ready to use.\n",
    "alias pd is used for pandas\n",
    "\n",
    "import pandas as pd\n"
   ]
  },
  {
   "cell_type": "markdown",
   "metadata": {},
   "source": [
    "Pandas Series: It is like a col in a table. it is like a one \n",
    "dimensional array holding data of any type."
   ]
  },
  {
   "cell_type": "code",
   "execution_count": 16,
   "metadata": {},
   "outputs": [
    {
     "name": "stdout",
     "output_type": "stream",
     "text": [
      "0          10\n",
      "1          ab\n",
      "2          30\n",
      "3    COMPUTER\n",
      "dtype: object\n"
     ]
    }
   ],
   "source": [
    "# create a simple pandas series from a list\n",
    "import pandas as pd\n",
    "a=[10,'ab',30,'COMPUTER']\n",
    "mycol=pd.Series(a)\n",
    "print(mycol)"
   ]
  },
  {
   "cell_type": "markdown",
   "metadata": {},
   "source": [
    "Labels: it is like index. if nothing is passed then col elements will have \n",
    "    normal indexing which starts from 0 to the (number_of_elements-1).\n",
    "    it can be used to access any element of the series."
   ]
  },
  {
   "cell_type": "code",
   "execution_count": 17,
   "metadata": {},
   "outputs": [
    {
     "name": "stdout",
     "output_type": "stream",
     "text": [
      "ab\n"
     ]
    }
   ],
   "source": [
    "#return the element of series using index(label)\n",
    "print(mycol[1])"
   ]
  },
  {
   "cell_type": "code",
   "execution_count": 18,
   "metadata": {},
   "outputs": [
    {
     "name": "stdout",
     "output_type": "stream",
     "text": [
      "x    15\n",
      "y    25\n",
      "z    35\n",
      "dtype: int64\n"
     ]
    }
   ],
   "source": [
    "#creating your own index\n",
    "import pandas as pd\n",
    "b=[15,25,35]\n",
    "s=pd.Series(b,index=['x','y','z'])\n",
    "print(s)"
   ]
  },
  {
   "cell_type": "code",
   "execution_count": 19,
   "metadata": {},
   "outputs": [
    {
     "name": "stdout",
     "output_type": "stream",
     "text": [
      "25\n",
      "25\n"
     ]
    }
   ],
   "source": [
    "print(s['y'])\n",
    "print(s[1])"
   ]
  },
  {
   "cell_type": "code",
   "execution_count": 20,
   "metadata": {},
   "outputs": [
    {
     "name": "stdout",
     "output_type": "stream",
     "text": [
      "10    5\n",
      "20    6\n",
      "30    7\n",
      "40    8\n",
      "dtype: int32\n"
     ]
    }
   ],
   "source": [
    "#creating series through an array\n",
    "import pandas as pd\n",
    "import numpy as np\n",
    "data=np.array([5,6,7,8])\n",
    "ds=pd.Series(data,index=[10,20,30,40])\n",
    "print(ds)"
   ]
  },
  {
   "cell_type": "code",
   "execution_count": 21,
   "metadata": {},
   "outputs": [
    {
     "name": "stdout",
     "output_type": "stream",
     "text": [
      "a    10\n",
      "b    20\n",
      "c    30\n",
      "dtype: int64\n"
     ]
    }
   ],
   "source": [
    "#creating a series through a dictionary\n",
    "dict={'a':10,'b':20,'c':30}\n",
    "ds1=pd.Series(dict)\n",
    "print(ds1)"
   ]
  },
  {
   "cell_type": "code",
   "execution_count": 22,
   "metadata": {},
   "outputs": [
    {
     "name": "stdout",
     "output_type": "stream",
     "text": [
      "a    10.0\n",
      "b    20.0\n",
      "1     NaN\n",
      "dtype: float64\n"
     ]
    }
   ],
   "source": [
    "#creating series through dictionary using fewer keys as index\n",
    "dict={'a':10,'b':20,'c':30}\n",
    "ds2=pd.Series(dict,index=['a','b',1])\n",
    "print(ds2)"
   ]
  },
  {
   "cell_type": "code",
   "execution_count": 23,
   "metadata": {},
   "outputs": [
    {
     "name": "stdout",
     "output_type": "stream",
     "text": [
      "a    10\n",
      "b    20\n",
      "c    30\n",
      "a    10\n",
      "b    20\n",
      "c    30\n",
      "dtype: int64\n"
     ]
    }
   ],
   "source": [
    "#creating series with repeated index\n",
    "#index are not unique\n",
    "dict={'a':10,'b':20,'c':30}\n",
    "ds3=pd.Series(dict,index=['a','b','c','a','b','c'])\n",
    "print(ds3)"
   ]
  },
  {
   "cell_type": "code",
   "execution_count": 24,
   "metadata": {},
   "outputs": [
    {
     "name": "stdout",
     "output_type": "stream",
     "text": [
      "10    20\n",
      "20    20\n",
      "30    20\n",
      "40    20\n",
      "50    20\n",
      "dtype: int64\n"
     ]
    }
   ],
   "source": [
    "#creating series of a particular scalar value with your own index\n",
    "ds4=pd.Series(20,index=[10,20,30,40,50])\n",
    "print(ds4)"
   ]
  },
  {
   "cell_type": "code",
   "execution_count": 25,
   "metadata": {},
   "outputs": [
    {
     "name": "stdout",
     "output_type": "stream",
     "text": [
      "0    1.0\n",
      "1    1.0\n",
      "2    1.0\n",
      "3    1.0\n",
      "4    1.0\n",
      "5    1.0\n",
      "6    1.0\n",
      "7    1.0\n",
      "8    1.0\n",
      "9    1.0\n",
      "dtype: float64\n",
      "0     12\n",
      "1     13\n",
      "2     14\n",
      "3     15\n",
      "4     16\n",
      "5     17\n",
      "6     18\n",
      "7     19\n",
      "8     20\n",
      "9     21\n",
      "10    22\n",
      "11    23\n",
      "12    24\n",
      "dtype: int32\n"
     ]
    }
   ],
   "source": [
    "#creating series using numpy fuctions\n",
    "ds5=pd.Series(np.ones(10))\n",
    "print(ds5)\n",
    "ds6=pd.Series(np.arange(12,25))\n",
    "print(ds6)"
   ]
  },
  {
   "cell_type": "markdown",
   "metadata": {},
   "source": [
    "DataFrames:\n",
    "Data sets in Pandas are usually multi-dimensional tables, called DataFrames. \n",
    "Series is like a column, a DataFrame is the whole table. \n",
    "A Pandas DataFrame is a 2 dimensional data structure, \n",
    "like a 2 dimensional array, or a table with rows and columns.\n",
    "Data frame is hetrogeneous i.e collection of different type of value\n"
   ]
  },
  {
   "cell_type": "code",
   "execution_count": 26,
   "metadata": {},
   "outputs": [
    {
     "name": "stdout",
     "output_type": "stream",
     "text": [
      "      Names  Rollno  Marks\n",
      "0  abhishek     100     90\n",
      "1     harsh     101     88\n",
      "2    nikhil     102     85\n"
     ]
    }
   ],
   "source": [
    "#creating a dataframe from three series(list)/ dictionary list:\n",
    "import pandas as pd\n",
    "data = {\n",
    "    \"Names\" :['abhishek','harsh','nikhil'],\n",
    "    \"Rollno\":[100,101,102],\n",
    "    'Marks':[90,88,85]\n",
    "}\n",
    "df=pd.DataFrame(data)\n",
    "print(df)"
   ]
  },
  {
   "cell_type": "code",
   "execution_count": 27,
   "metadata": {},
   "outputs": [
    {
     "name": "stdout",
     "output_type": "stream",
     "text": [
      "        Names  Rollno  Marks\n",
      "st1  abhishek     100     90\n",
      "st2     harsh     101     88\n",
      "st3    nikhil     102     85\n"
     ]
    }
   ],
   "source": [
    "#creating a dataframe from two series(list)/ dictionary list: with your own index\n",
    "import pandas as pd\n",
    "data = {\n",
    "    \"Names\" :['abhishek','harsh','nikhil'],\n",
    "    \"Rollno\":[100,101,102],\n",
    "    'Marks':[90,88,85]\n",
    "}\n",
    "df1=pd.DataFrame(data,index=['st1','st2','st3'])\n",
    "print(df1)"
   ]
  },
  {
   "cell_type": "code",
   "execution_count": 28,
   "metadata": {},
   "outputs": [
    {
     "name": "stdout",
     "output_type": "stream",
     "text": [
      "Names     abhishek\n",
      "Rollno         100\n",
      "Marks           90\n",
      "Name: st1, dtype: object\n"
     ]
    }
   ],
   "source": [
    "# loc attribute is used for Locating a row in dataframe\n",
    "#the output is a series of a particular row\n",
    "print(df1.loc['st1'])"
   ]
  },
  {
   "cell_type": "code",
   "execution_count": 29,
   "metadata": {},
   "outputs": [
    {
     "name": "stdout",
     "output_type": "stream",
     "text": [
      "st1    abhishek\n",
      "st2       harsh\n",
      "st3      nikhil\n",
      "Name: Names, dtype: object\n"
     ]
    }
   ],
   "source": [
    "print(df1['Names'])\n",
    "#print(df1['st1'])--> not allowed"
   ]
  },
  {
   "cell_type": "code",
   "execution_count": 30,
   "metadata": {},
   "outputs": [
    {
     "name": "stdout",
     "output_type": "stream",
     "text": [
      "        Names  Rollno  Marks\n",
      "st1  abhishek     100     90\n",
      "st2     harsh     101     88\n"
     ]
    }
   ],
   "source": [
    "print(df1.loc[['st1','st2']])"
   ]
  },
  {
   "cell_type": "code",
   "execution_count": 31,
   "metadata": {},
   "outputs": [
    {
     "name": "stdout",
     "output_type": "stream",
     "text": [
      "        ID1  ID2  ID3\n",
      "Names   abc  xyz  uvw\n",
      "Rollno  101  102  103\n",
      "Marks    90   88   85\n"
     ]
    }
   ],
   "source": [
    "#creating dataframes using numpy arrays\n",
    "import numpy as np\n",
    "import pandas as pd\n",
    "npar=np.array([['abc','xyz','uvw'],[101,102,103],[90,88,85]])\n",
    "df2=pd.DataFrame(npar,columns=['ID1','ID2','ID3'],index=['Names','Rollno','Marks'])\n",
    "print(df2)"
   ]
  },
  {
   "cell_type": "code",
   "execution_count": 32,
   "metadata": {},
   "outputs": [
    {
     "name": "stdout",
     "output_type": "stream",
     "text": [
      "  Names RollNo Marks\n",
      "0   abc    101    90\n",
      "1   xyz    102    88\n",
      "2   uvw    103    85\n"
     ]
    }
   ],
   "source": [
    "#creating dataframe using numpy dictionary\n",
    "import numpy as np\n",
    "import pandas as pd\n",
    "npar=np.array([['abc','xyz','uvw'],[101,102,103],[90,88,85]])\n",
    "np_dict={'Names':npar[0],'RollNo':npar[1],'Marks':npar[2]}\n",
    "df3=pd.DataFrame(np_dict)\n",
    "print(df3)"
   ]
  },
  {
   "cell_type": "code",
   "execution_count": 33,
   "metadata": {},
   "outputs": [
    {
     "name": "stdout",
     "output_type": "stream",
     "text": [
      "  Names  Rollno  Marks\n",
      "0   abc     101     90\n",
      "1   xyz     102     88\n",
      "2   uvw     103     85\n"
     ]
    }
   ],
   "source": [
    "#creating DF using list of lists\n",
    "import pandas as pd\n",
    "list_of_list=[['abc',101,90],['xyz',102,88],['uvw',103,85]]\n",
    "df4=pd.DataFrame(list_of_list,columns=['Names','Rollno','Marks'])\n",
    "print(df4)"
   ]
  },
  {
   "cell_type": "code",
   "execution_count": 34,
   "metadata": {},
   "outputs": [
    {
     "name": "stdout",
     "output_type": "stream",
     "text": [
      "  Names  Rollno  Marks\n",
      "0   abc     101     90\n",
      "1   xyz     102     88\n",
      "2   uvw     103     85\n"
     ]
    }
   ],
   "source": [
    "#creating DF using list of Dictionary.\n",
    "import pandas as pd\n",
    "list_of_dict=[{'Names':'abc','Rollno':101,'Marks':90},\n",
    "              {'Names':'xyz','Rollno':102,'Marks':88},\n",
    "              {'Names':'uvw','Rollno':103,'Marks':85}]\n",
    "df5=pd.DataFrame(list_of_dict)\n",
    "print(df5)"
   ]
  },
  {
   "cell_type": "code",
   "execution_count": 35,
   "metadata": {},
   "outputs": [
    {
     "name": "stdout",
     "output_type": "stream",
     "text": [
      "  Names  Rollno  marks\n",
      "0   abc     101     90\n",
      "1   xyz     102     88\n",
      "2   uvw     103     85\n"
     ]
    }
   ],
   "source": [
    "#creating DF using dictionary of series.\n",
    "s1=pd.Series(['abc','xyz','uvw'])\n",
    "s2=pd.Series([101,102,103])\n",
    "s3=pd.Series([90,88,85])\n",
    "dict_of_series={'Names':s1,'Rollno':s2,'marks':s3}\n",
    "df6=pd.DataFrame(dict_of_series)\n",
    "print(df6)"
   ]
  },
  {
   "cell_type": "code",
   "execution_count": 36,
   "metadata": {},
   "outputs": [
    {
     "name": "stdout",
     "output_type": "stream",
     "text": [
      "RangeIndex(start=0, stop=3, step=1)\n",
      "Index(['st1', 'st2', 'st3'], dtype='object')\n"
     ]
    }
   ],
   "source": [
    "#accessing index of a Dataframes\n",
    "print(df6.index)\n",
    "print(df1.index)"
   ]
  },
  {
   "cell_type": "code",
   "execution_count": 37,
   "metadata": {},
   "outputs": [
    {
     "name": "stdout",
     "output_type": "stream",
     "text": [
      "Index(['Names', 'Rollno', 'marks'], dtype='object')\n"
     ]
    }
   ],
   "source": [
    "#Accessing Columns of a Data Frame\n",
    "print(df6.columns)"
   ]
  },
  {
   "cell_type": "code",
   "execution_count": 38,
   "metadata": {},
   "outputs": [
    {
     "name": "stdout",
     "output_type": "stream",
     "text": [
      "0    abc\n",
      "1    xyz\n",
      "2    uvw\n",
      "Name: Names, dtype: object\n",
      "xyz\n",
      "0    abc\n",
      "2    uvw\n",
      "Name: Names, dtype: object\n"
     ]
    }
   ],
   "source": [
    "#indexing and slicing is allowed on col header\n",
    "print(df6['Names'])\n",
    "print(df6['Names'][1])\n",
    "print(df6['Names'][0:3:2])"
   ]
  },
  {
   "cell_type": "code",
   "execution_count": 39,
   "metadata": {},
   "outputs": [
    {
     "name": "stdout",
     "output_type": "stream",
     "text": [
      "  Names  Rollno  marks Address\n",
      "0   abc     101     90   noida\n",
      "1   xyz     102     88   delhi\n",
      "2   uvw     103     85     gzb\n"
     ]
    }
   ],
   "source": [
    "#inserting a new col in existing DF\n",
    "#new col will be added as right most col\n",
    "df6['Address']=['noida','delhi','gzb']\n",
    "print(df6)"
   ]
  },
  {
   "cell_type": "code",
   "execution_count": 40,
   "metadata": {},
   "outputs": [
    {
     "name": "stdout",
     "output_type": "stream",
     "text": [
      "  Names  Rollno  marks Address  pra_status\n",
      "0   abc     101     90   noida        True\n",
      "1   xyz     102     88   delhi        True\n",
      "2   uvw     103     85     gzb        True\n"
     ]
    }
   ],
   "source": [
    "df6['pra_status']=df6['marks']>80\n",
    "print(df6)"
   ]
  },
  {
   "cell_type": "code",
   "execution_count": 41,
   "metadata": {},
   "outputs": [
    {
     "name": "stdout",
     "output_type": "stream",
     "text": [
      "  Names Section  Rollno  marks Address  pra_status\n",
      "0   abc       A     101     90   noida        True\n",
      "1   xyz       B     102     88   delhi        True\n",
      "2   uvw       A     103     85     gzb        True\n"
     ]
    }
   ],
   "source": [
    "#insertion of new column at desired location in a dataframe\n",
    "df6.insert(1,'Section',['A','B','A'])#insert(location,col_name,values)\n",
    "print(df6)"
   ]
  },
  {
   "cell_type": "code",
   "execution_count": 42,
   "metadata": {},
   "outputs": [
    {
     "name": "stdout",
     "output_type": "stream",
     "text": [
      "  Names Section  Rollno  marks Address\n",
      "0   abc       A     101     90   noida\n",
      "1   xyz       B     102     88   delhi\n",
      "2   uvw       A     103     85     gzb\n"
     ]
    }
   ],
   "source": [
    "#dropping or deleting any col from a DF\n",
    "#del keyword\n",
    "del df6['pra_status']\n",
    "print(df6)"
   ]
  },
  {
   "cell_type": "code",
   "execution_count": 43,
   "metadata": {},
   "outputs": [
    {
     "name": "stdout",
     "output_type": "stream",
     "text": [
      "  Names  Rollno  marks Address\n",
      "0   abc     101     90   noida\n",
      "1   xyz     102     88   delhi\n",
      "2   uvw     103     85     gzb\n",
      "0    A\n",
      "1    B\n",
      "2    A\n",
      "Name: Section, dtype: object\n"
     ]
    }
   ],
   "source": [
    "#dropping a col with pop\n",
    "#The pop() method removes the specified column from the DataFrame. \n",
    "#The pop() method returns the removed columns as a Pandas Series object.\n",
    "df7=df6.pop('Section')\n",
    "print(df6)\n",
    "print(df7)"
   ]
  },
  {
   "cell_type": "markdown",
   "metadata": {},
   "source": [
    "#### DROP: \n",
    "- The drop() method removes the specified row or column.\n",
    "\n",
    "- By specifying the column axis (axis='columns'), the drop() method removes the specified column.\n",
    "\n",
    "- By specifying the row axis (axis='index'), the drop() method removes the specified row.\n",
    "\n"
   ]
  },
  {
   "cell_type": "code",
   "execution_count": 44,
   "metadata": {},
   "outputs": [
    {
     "name": "stdout",
     "output_type": "stream",
     "text": [
      "  Names  Rollno  marks Address\n",
      "0   abc     101     90   noida\n",
      "1   xyz     102     88   delhi\n",
      "2   uvw     103     85     gzb\n",
      "  Names  Rollno Address\n",
      "0   abc     101   noida\n",
      "1   xyz     102   delhi\n",
      "2   uvw     103     gzb\n"
     ]
    }
   ],
   "source": [
    "#dropping a col or row from DF using drop()\n",
    "print(df6)\n",
    "df6.drop('marks', axis=1,inplace=True)\n",
    "print(df6)\n"
   ]
  },
  {
   "cell_type": "code",
   "execution_count": 45,
   "metadata": {},
   "outputs": [
    {
     "name": "stdout",
     "output_type": "stream",
     "text": [
      "  Names  Rollno Address\n",
      "1   xyz     102   delhi\n",
      "2   uvw     103     gzb\n"
     ]
    }
   ],
   "source": [
    "#dropping a row\n",
    "df6.drop(0,inplace=True)\n",
    "print(df6)"
   ]
  },
  {
   "cell_type": "code",
   "execution_count": 46,
   "metadata": {},
   "outputs": [
    {
     "name": "stdout",
     "output_type": "stream",
     "text": [
      "  Names  Rollno Address\n",
      "0   xyz     102   delhi\n",
      "1   uvw     103     gzb\n"
     ]
    }
   ],
   "source": [
    "#reseting index to default\n",
    "df6.reset_index(drop=True,inplace=True)\n",
    "print(df6)"
   ]
  },
  {
   "cell_type": "code",
   "execution_count": 47,
   "metadata": {},
   "outputs": [
    {
     "data": {
      "text/html": [
       "<div>\n",
       "<style scoped>\n",
       "    .dataframe tbody tr th:only-of-type {\n",
       "        vertical-align: middle;\n",
       "    }\n",
       "\n",
       "    .dataframe tbody tr th {\n",
       "        vertical-align: top;\n",
       "    }\n",
       "\n",
       "    .dataframe thead th {\n",
       "        text-align: right;\n",
       "    }\n",
       "</style>\n",
       "<table border=\"1\" class=\"dataframe\">\n",
       "  <thead>\n",
       "    <tr style=\"text-align: right;\">\n",
       "      <th></th>\n",
       "      <th>St_Name</th>\n",
       "      <th>Rollno</th>\n",
       "      <th>Address</th>\n",
       "    </tr>\n",
       "  </thead>\n",
       "  <tbody>\n",
       "    <tr>\n",
       "      <th>0</th>\n",
       "      <td>xyz</td>\n",
       "      <td>102</td>\n",
       "      <td>delhi</td>\n",
       "    </tr>\n",
       "    <tr>\n",
       "      <th>1</th>\n",
       "      <td>uvw</td>\n",
       "      <td>103</td>\n",
       "      <td>gzb</td>\n",
       "    </tr>\n",
       "  </tbody>\n",
       "</table>\n",
       "</div>"
      ],
      "text/plain": [
       "  St_Name  Rollno Address\n",
       "0     xyz     102   delhi\n",
       "1     uvw     103     gzb"
      ]
     },
     "execution_count": 47,
     "metadata": {},
     "output_type": "execute_result"
    }
   ],
   "source": [
    "#renaming a col of a DF\n",
    "df6.rename(columns={'Names':'St_Name'})"
   ]
  },
  {
   "cell_type": "code",
   "execution_count": 48,
   "metadata": {},
   "outputs": [
    {
     "name": "stdout",
     "output_type": "stream",
     "text": [
      "  Names  Rollno Address\n",
      "0   xyz     102   delhi\n",
      "1   uvw     103     gzb\n"
     ]
    }
   ],
   "source": [
    "print(df6)"
   ]
  },
  {
   "cell_type": "code",
   "execution_count": 49,
   "metadata": {},
   "outputs": [
    {
     "name": "stdout",
     "output_type": "stream",
     "text": [
      "  St_Name  Rollno Address\n",
      "0     xyz     102   delhi\n",
      "1     uvw     103     gzb\n"
     ]
    }
   ],
   "source": [
    "#for permanent change we must set inplace as TRUE\n",
    "df6.rename(columns={'Names':'St_Name'},inplace=True)\n",
    "print(df6)"
   ]
  },
  {
   "cell_type": "code",
   "execution_count": 50,
   "metadata": {},
   "outputs": [
    {
     "name": "stdout",
     "output_type": "stream",
     "text": [
      "            0         1         2         3         4\n",
      "0    0.886889  0.543874  0.328067  0.171284  0.512332\n",
      "1    0.997883  0.883889  0.695439  0.639183  0.143695\n",
      "2    0.439572  0.576347  0.199537  0.816501  0.122333\n",
      "3    0.281684  0.188714  0.620631  0.355091  0.793090\n",
      "4    0.342623  0.162520  0.425622  0.906742  0.215369\n",
      "..        ...       ...       ...       ...       ...\n",
      "245  0.232627  0.444974  0.962854  0.831312  0.304235\n",
      "246  0.820612  0.893042  0.589238  0.780326  0.362445\n",
      "247  0.172941  0.418122  0.401307  0.794901  0.842311\n",
      "248  0.215563  0.432297  0.634082  0.788123  0.190428\n",
      "249  0.933586  0.680518  0.396273  0.290269  0.293319\n",
      "\n",
      "[250 rows x 5 columns]\n"
     ]
    }
   ],
   "source": [
    "#creating a DF using numpy random\n",
    "import pandas as pd\n",
    "import numpy as np\n",
    "dfr=pd.DataFrame(np.random.rand(250,5))\n",
    "print(dfr)#it will print first and last five rows of DF\n",
    "#print(dfr.to_string())#to_string method we can display complete DF"
   ]
  },
  {
   "cell_type": "code",
   "execution_count": 51,
   "metadata": {},
   "outputs": [
    {
     "data": {
      "text/html": [
       "<div>\n",
       "<style scoped>\n",
       "    .dataframe tbody tr th:only-of-type {\n",
       "        vertical-align: middle;\n",
       "    }\n",
       "\n",
       "    .dataframe tbody tr th {\n",
       "        vertical-align: top;\n",
       "    }\n",
       "\n",
       "    .dataframe thead th {\n",
       "        text-align: right;\n",
       "    }\n",
       "</style>\n",
       "<table border=\"1\" class=\"dataframe\">\n",
       "  <thead>\n",
       "    <tr style=\"text-align: right;\">\n",
       "      <th></th>\n",
       "      <th>0</th>\n",
       "      <th>1</th>\n",
       "      <th>2</th>\n",
       "      <th>3</th>\n",
       "      <th>4</th>\n",
       "    </tr>\n",
       "  </thead>\n",
       "  <tbody>\n",
       "    <tr>\n",
       "      <th>0</th>\n",
       "      <td>0.886889</td>\n",
       "      <td>0.543874</td>\n",
       "      <td>0.328067</td>\n",
       "      <td>0.171284</td>\n",
       "      <td>0.512332</td>\n",
       "    </tr>\n",
       "    <tr>\n",
       "      <th>1</th>\n",
       "      <td>0.997883</td>\n",
       "      <td>0.883889</td>\n",
       "      <td>0.695439</td>\n",
       "      <td>0.639183</td>\n",
       "      <td>0.143695</td>\n",
       "    </tr>\n",
       "    <tr>\n",
       "      <th>2</th>\n",
       "      <td>0.439572</td>\n",
       "      <td>0.576347</td>\n",
       "      <td>0.199537</td>\n",
       "      <td>0.816501</td>\n",
       "      <td>0.122333</td>\n",
       "    </tr>\n",
       "    <tr>\n",
       "      <th>3</th>\n",
       "      <td>0.281684</td>\n",
       "      <td>0.188714</td>\n",
       "      <td>0.620631</td>\n",
       "      <td>0.355091</td>\n",
       "      <td>0.793090</td>\n",
       "    </tr>\n",
       "    <tr>\n",
       "      <th>4</th>\n",
       "      <td>0.342623</td>\n",
       "      <td>0.162520</td>\n",
       "      <td>0.425622</td>\n",
       "      <td>0.906742</td>\n",
       "      <td>0.215369</td>\n",
       "    </tr>\n",
       "  </tbody>\n",
       "</table>\n",
       "</div>"
      ],
      "text/plain": [
       "          0         1         2         3         4\n",
       "0  0.886889  0.543874  0.328067  0.171284  0.512332\n",
       "1  0.997883  0.883889  0.695439  0.639183  0.143695\n",
       "2  0.439572  0.576347  0.199537  0.816501  0.122333\n",
       "3  0.281684  0.188714  0.620631  0.355091  0.793090\n",
       "4  0.342623  0.162520  0.425622  0.906742  0.215369"
      ]
     },
     "execution_count": 51,
     "metadata": {},
     "output_type": "execute_result"
    }
   ],
   "source": [
    "dfr.head()#it will provide first five rows\n"
   ]
  },
  {
   "cell_type": "code",
   "execution_count": 52,
   "metadata": {},
   "outputs": [
    {
     "data": {
      "text/html": [
       "<div>\n",
       "<style scoped>\n",
       "    .dataframe tbody tr th:only-of-type {\n",
       "        vertical-align: middle;\n",
       "    }\n",
       "\n",
       "    .dataframe tbody tr th {\n",
       "        vertical-align: top;\n",
       "    }\n",
       "\n",
       "    .dataframe thead th {\n",
       "        text-align: right;\n",
       "    }\n",
       "</style>\n",
       "<table border=\"1\" class=\"dataframe\">\n",
       "  <thead>\n",
       "    <tr style=\"text-align: right;\">\n",
       "      <th></th>\n",
       "      <th>0</th>\n",
       "      <th>1</th>\n",
       "      <th>2</th>\n",
       "      <th>3</th>\n",
       "      <th>4</th>\n",
       "    </tr>\n",
       "  </thead>\n",
       "  <tbody>\n",
       "    <tr>\n",
       "      <th>245</th>\n",
       "      <td>0.232627</td>\n",
       "      <td>0.444974</td>\n",
       "      <td>0.962854</td>\n",
       "      <td>0.831312</td>\n",
       "      <td>0.304235</td>\n",
       "    </tr>\n",
       "    <tr>\n",
       "      <th>246</th>\n",
       "      <td>0.820612</td>\n",
       "      <td>0.893042</td>\n",
       "      <td>0.589238</td>\n",
       "      <td>0.780326</td>\n",
       "      <td>0.362445</td>\n",
       "    </tr>\n",
       "    <tr>\n",
       "      <th>247</th>\n",
       "      <td>0.172941</td>\n",
       "      <td>0.418122</td>\n",
       "      <td>0.401307</td>\n",
       "      <td>0.794901</td>\n",
       "      <td>0.842311</td>\n",
       "    </tr>\n",
       "    <tr>\n",
       "      <th>248</th>\n",
       "      <td>0.215563</td>\n",
       "      <td>0.432297</td>\n",
       "      <td>0.634082</td>\n",
       "      <td>0.788123</td>\n",
       "      <td>0.190428</td>\n",
       "    </tr>\n",
       "    <tr>\n",
       "      <th>249</th>\n",
       "      <td>0.933586</td>\n",
       "      <td>0.680518</td>\n",
       "      <td>0.396273</td>\n",
       "      <td>0.290269</td>\n",
       "      <td>0.293319</td>\n",
       "    </tr>\n",
       "  </tbody>\n",
       "</table>\n",
       "</div>"
      ],
      "text/plain": [
       "            0         1         2         3         4\n",
       "245  0.232627  0.444974  0.962854  0.831312  0.304235\n",
       "246  0.820612  0.893042  0.589238  0.780326  0.362445\n",
       "247  0.172941  0.418122  0.401307  0.794901  0.842311\n",
       "248  0.215563  0.432297  0.634082  0.788123  0.190428\n",
       "249  0.933586  0.680518  0.396273  0.290269  0.293319"
      ]
     },
     "execution_count": 52,
     "metadata": {},
     "output_type": "execute_result"
    }
   ],
   "source": [
    "dfr.tail()#it will provide last five rows"
   ]
  },
  {
   "cell_type": "code",
   "execution_count": 53,
   "metadata": {},
   "outputs": [
    {
     "name": "stdout",
     "output_type": "stream",
     "text": [
      "          0         1         2         3         4\n",
      "0  0.886889  0.543874  0.328067  0.171284  0.512332\n",
      "1  0.997883  0.883889  0.695439  0.639183  0.143695\n",
      "2  0.439572  0.576347  0.199537  0.816501  0.122333\n",
      "3  0.281684  0.188714  0.620631  0.355091  0.793090\n",
      "4  0.342623  0.162520  0.425622  0.906742  0.215369\n",
      "5  0.925430  0.715206  0.807023  0.771809  0.271243\n",
      "6  0.222505  0.508500  0.569137  0.154994  0.349721\n",
      "7  0.075329  0.138562  0.498861  0.775471  0.013141\n",
      "8  0.643823  0.509069  0.800160  0.744071  0.790416\n",
      "9  0.900430  0.435909  0.689095  0.840393  0.331987\n",
      "            0         1         2         3         4\n",
      "235  0.259173  0.296328  0.690117  0.178744  0.666523\n",
      "236  0.622482  0.295910  0.178304  0.180685  0.099413\n",
      "237  0.131875  0.523536  0.379831  0.566015  0.194512\n",
      "238  0.469800  0.334173  0.730580  0.528435  0.039769\n",
      "239  0.030897  0.923006  0.406078  0.320442  0.935864\n",
      "240  0.609497  0.640314  0.391687  0.402661  0.868598\n",
      "241  0.401424  0.522072  0.792462  0.769597  0.722536\n",
      "242  0.325508  0.351037  0.985161  0.851692  0.112774\n",
      "243  0.609315  0.251242  0.610804  0.743590  0.992214\n",
      "244  0.168176  0.243546  0.966525  0.564487  0.343450\n",
      "245  0.232627  0.444974  0.962854  0.831312  0.304235\n",
      "246  0.820612  0.893042  0.589238  0.780326  0.362445\n",
      "247  0.172941  0.418122  0.401307  0.794901  0.842311\n",
      "248  0.215563  0.432297  0.634082  0.788123  0.190428\n",
      "249  0.933586  0.680518  0.396273  0.290269  0.293319\n"
     ]
    }
   ],
   "source": [
    "print(dfr.head(10))#for first 10 rows\n",
    "print(dfr.tail(15))#for last 15 rows"
   ]
  },
  {
   "cell_type": "code",
   "execution_count": 54,
   "metadata": {},
   "outputs": [
    {
     "name": "stdout",
     "output_type": "stream",
     "text": [
      "  Names  Rollno  Marks\n",
      "0   abc     101     90\n",
      "1   xyz     102     88\n",
      "2   uvw     103     85\n"
     ]
    }
   ],
   "source": [
    "print(df5)"
   ]
  },
  {
   "cell_type": "code",
   "execution_count": 55,
   "metadata": {},
   "outputs": [
    {
     "name": "stdout",
     "output_type": "stream",
     "text": [
      "    Names  Rollno  Marks\n",
      "st1   abc     101     90\n",
      "st2   xyz     102     88\n",
      "st3   uvw     103     85\n"
     ]
    }
   ],
   "source": [
    "df5.index=['st1','st2','st3']\n",
    "print(df5)\n"
   ]
  },
  {
   "cell_type": "code",
   "execution_count": 56,
   "metadata": {},
   "outputs": [
    {
     "name": "stdout",
     "output_type": "stream",
     "text": [
      "101\n"
     ]
    }
   ],
   "source": [
    "print(df5.loc['st1','Rollno'])# loc: provides data by using labels"
   ]
  },
  {
   "cell_type": "code",
   "execution_count": 57,
   "metadata": {},
   "outputs": [
    {
     "name": "stdout",
     "output_type": "stream",
     "text": [
      "101\n"
     ]
    }
   ],
   "source": [
    "print(df5.iloc[0,1])#iloc: provides data by using index"
   ]
  },
  {
   "cell_type": "code",
   "execution_count": 58,
   "metadata": {},
   "outputs": [
    {
     "data": {
      "text/html": [
       "<div>\n",
       "<style scoped>\n",
       "    .dataframe tbody tr th:only-of-type {\n",
       "        vertical-align: middle;\n",
       "    }\n",
       "\n",
       "    .dataframe tbody tr th {\n",
       "        vertical-align: top;\n",
       "    }\n",
       "\n",
       "    .dataframe thead th {\n",
       "        text-align: right;\n",
       "    }\n",
       "</style>\n",
       "<table border=\"1\" class=\"dataframe\">\n",
       "  <thead>\n",
       "    <tr style=\"text-align: right;\">\n",
       "      <th></th>\n",
       "      <th>Names</th>\n",
       "      <th>Rollno</th>\n",
       "    </tr>\n",
       "  </thead>\n",
       "  <tbody>\n",
       "    <tr>\n",
       "      <th>st1</th>\n",
       "      <td>abc</td>\n",
       "      <td>101</td>\n",
       "    </tr>\n",
       "    <tr>\n",
       "      <th>st2</th>\n",
       "      <td>xyz</td>\n",
       "      <td>102</td>\n",
       "    </tr>\n",
       "  </tbody>\n",
       "</table>\n",
       "</div>"
      ],
      "text/plain": [
       "    Names  Rollno\n",
       "st1   abc     101\n",
       "st2   xyz     102"
      ]
     },
     "execution_count": 58,
     "metadata": {},
     "output_type": "execute_result"
    }
   ],
   "source": [
    "df5.iloc[:2,:2]"
   ]
  },
  {
   "cell_type": "markdown",
   "metadata": {},
   "source": [
    "Writing any existing Data Frame on a file.(.csv, .xlsx,.js)"
   ]
  },
  {
   "cell_type": "code",
   "execution_count": 62,
   "metadata": {},
   "outputs": [],
   "source": [
    "#writing on a csv file\n",
    "df5.to_csv(r\"C:\\Users\\callage\\Downloads\\cs.csv\")\n",
    "#provide path where you want to save the data frame file"
   ]
  },
  {
   "cell_type": "code",
   "execution_count": 60,
   "metadata": {},
   "outputs": [],
   "source": [
    "#writing on an excel file\n",
    "df5.to_excel(r\"C:\\Users\\callage\\OneDrive\\Desktop\\dataxl.xlsx\")"
   ]
  },
  {
   "cell_type": "markdown",
   "metadata": {},
   "source": [
    "#Reading any csv, xlsx,js files and converting it into DF"
   ]
  },
  {
   "cell_type": "code",
   "execution_count": 64,
   "metadata": {},
   "outputs": [
    {
     "name": "stdout",
     "output_type": "stream",
     "text": [
      "       Year Industry_aggregation_NZSIOC Industry_code_NZSIOC  \\\n",
      "0      2020                     Level 1                99999   \n",
      "1      2020                     Level 1                99999   \n",
      "2      2020                     Level 1                99999   \n",
      "3      2020                     Level 1                99999   \n",
      "4      2020                     Level 1                99999   \n",
      "...     ...                         ...                  ...   \n",
      "37075  2013                     Level 3                 ZZ11   \n",
      "37076  2013                     Level 3                 ZZ11   \n",
      "37077  2013                     Level 3                 ZZ11   \n",
      "37078  2013                     Level 3                 ZZ11   \n",
      "37079  2013                     Level 3                 ZZ11   \n",
      "\n",
      "             Industry_name_NZSIOC               Units Variable_code  \\\n",
      "0                  All industries  Dollars (millions)           H01   \n",
      "1                  All industries  Dollars (millions)           H04   \n",
      "2                  All industries  Dollars (millions)           H05   \n",
      "3                  All industries  Dollars (millions)           H07   \n",
      "4                  All industries  Dollars (millions)           H08   \n",
      "...                           ...                 ...           ...   \n",
      "37075  Food product manufacturing          Percentage           H37   \n",
      "37076  Food product manufacturing          Percentage           H38   \n",
      "37077  Food product manufacturing          Percentage           H39   \n",
      "37078  Food product manufacturing          Percentage           H40   \n",
      "37079  Food product manufacturing          Percentage           H41   \n",
      "\n",
      "                                         Variable_name      Variable_category  \\\n",
      "0                                         Total income  Financial performance   \n",
      "1      Sales, government funding, grants and subsidies  Financial performance   \n",
      "2                    Interest, dividends and donations  Financial performance   \n",
      "3                                 Non-operating income  Financial performance   \n",
      "4                                    Total expenditure  Financial performance   \n",
      "...                                                ...                    ...   \n",
      "37075                                      Quick ratio       Financial ratios   \n",
      "37076              Margin on sales of goods for resale       Financial ratios   \n",
      "37077                                 Return on equity       Financial ratios   \n",
      "37078                           Return on total assets       Financial ratios   \n",
      "37079                            Liabilities structure       Financial ratios   \n",
      "\n",
      "         Value                             Industry_code_ANZSIC06  \n",
      "0      733,258  ANZSIC06 divisions A-S (excluding classes K633...  \n",
      "1      660,630  ANZSIC06 divisions A-S (excluding classes K633...  \n",
      "2       54,342  ANZSIC06 divisions A-S (excluding classes K633...  \n",
      "3       18,285  ANZSIC06 divisions A-S (excluding classes K633...  \n",
      "4      654,872  ANZSIC06 divisions A-S (excluding classes K633...  \n",
      "...        ...                                                ...  \n",
      "37075       52  ANZSIC06 groups C111, C112, C113, C114, C115, ...  \n",
      "37076       40  ANZSIC06 groups C111, C112, C113, C114, C115, ...  \n",
      "37077       12  ANZSIC06 groups C111, C112, C113, C114, C115, ...  \n",
      "37078        5  ANZSIC06 groups C111, C112, C113, C114, C115, ...  \n",
      "37079       46  ANZSIC06 groups C111, C112, C113, C114, C115, ...  \n",
      "\n",
      "[37080 rows x 10 columns]\n"
     ]
    }
   ],
   "source": [
    "#reading a csv file\n",
    "dfc=pd.read_csv(r\"C:\\Users\\callage\\OneDrive\\Desktop\\datacs-csv.csv\")\n",
    "print(dfc)"
   ]
  },
  {
   "cell_type": "code",
   "execution_count": null,
   "metadata": {},
   "outputs": [
    {
     "name": "stdout",
     "output_type": "stream",
     "text": [
      "       Year Industry_aggregation_NZSIOC Industry_code_NZSIOC  \\\n",
      "0      2020                     Level 1                99999   \n",
      "1      2020                     Level 1                99999   \n",
      "2      2020                     Level 1                99999   \n",
      "3      2020                     Level 1                99999   \n",
      "4      2020                     Level 1                99999   \n",
      "...     ...                         ...                  ...   \n",
      "37075  2013                     Level 3                 ZZ11   \n",
      "37076  2013                     Level 3                 ZZ11   \n",
      "37077  2013                     Level 3                 ZZ11   \n",
      "37078  2013                     Level 3                 ZZ11   \n",
      "37079  2013                     Level 3                 ZZ11   \n",
      "\n",
      "             Industry_name_NZSIOC               Units Variable_code  \\\n",
      "0                  All industries  Dollars (millions)           H01   \n",
      "1                  All industries  Dollars (millions)           H04   \n",
      "2                  All industries  Dollars (millions)           H05   \n",
      "3                  All industries  Dollars (millions)           H07   \n",
      "4                  All industries  Dollars (millions)           H08   \n",
      "...                           ...                 ...           ...   \n",
      "37075  Food product manufacturing          Percentage           H37   \n",
      "37076  Food product manufacturing          Percentage           H38   \n",
      "37077  Food product manufacturing          Percentage           H39   \n",
      "37078  Food product manufacturing          Percentage           H40   \n",
      "37079  Food product manufacturing          Percentage           H41   \n",
      "\n",
      "                                         Variable_name      Variable_category  \\\n",
      "0                                         Total income  Financial performance   \n",
      "1      Sales, government funding, grants and subsidies  Financial performance   \n",
      "2                    Interest, dividends and donations  Financial performance   \n",
      "3                                 Non-operating income  Financial performance   \n",
      "4                                    Total expenditure  Financial performance   \n",
      "...                                                ...                    ...   \n",
      "37075                                      Quick ratio       Financial ratios   \n",
      "37076              Margin on sales of goods for resale       Financial ratios   \n",
      "37077                                 Return on equity       Financial ratios   \n",
      "37078                           Return on total assets       Financial ratios   \n",
      "37079                            Liabilities structure       Financial ratios   \n",
      "\n",
      "         Value                             Industry_code_ANZSIC06  \n",
      "0      733,258  ANZSIC06 divisions A-S (excluding classes K633...  \n",
      "1      660,630  ANZSIC06 divisions A-S (excluding classes K633...  \n",
      "2       54,342  ANZSIC06 divisions A-S (excluding classes K633...  \n",
      "3       18,285  ANZSIC06 divisions A-S (excluding classes K633...  \n",
      "4      654,872  ANZSIC06 divisions A-S (excluding classes K633...  \n",
      "...        ...                                                ...  \n",
      "37075       52  ANZSIC06 groups C111, C112, C113, C114, C115, ...  \n",
      "37076       40  ANZSIC06 groups C111, C112, C113, C114, C115, ...  \n",
      "37077       12  ANZSIC06 groups C111, C112, C113, C114, C115, ...  \n",
      "37078        5  ANZSIC06 groups C111, C112, C113, C114, C115, ...  \n",
      "37079       46  ANZSIC06 groups C111, C112, C113, C114, C115, ...  \n",
      "\n",
      "[37080 rows x 10 columns]\n"
     ]
    }
   ],
   "source": [
    "#reading a csv file\n",
    "dfcs=pd.read_csv(r\"C:\\Users\\callage\\OneDrive\\Desktop\\datacs-csv.csv\")\n",
    "print(dfcs)\n",
    "print(dfcs.to_string())"
   ]
  },
  {
   "cell_type": "code",
   "execution_count": 67,
   "metadata": {},
   "outputs": [
    {
     "name": "stdout",
     "output_type": "stream",
     "text": [
      "Requirement already satisfied: pandas in c:\\programdata\\anaconda3\\lib\\site-packages (1.3.4)\n",
      "Collecting pandas\n",
      "  Downloading pandas-1.4.2-cp39-cp39-win_amd64.whl (10.5 MB)\n",
      "Requirement already satisfied: python-dateutil>=2.8.1 in c:\\programdata\\anaconda3\\lib\\site-packages (from pandas) (2.8.2)\n",
      "Requirement already satisfied: pytz>=2020.1 in c:\\programdata\\anaconda3\\lib\\site-packages (from pandas) (2021.3)\n",
      "Requirement already satisfied: numpy>=1.18.5 in c:\\programdata\\anaconda3\\lib\\site-packages (from pandas) (1.20.3)\n",
      "Requirement already satisfied: six>=1.5 in c:\\programdata\\anaconda3\\lib\\site-packages (from python-dateutil>=2.8.1->pandas) (1.16.0)\n",
      "Installing collected packages: pandas\n",
      "  Attempting uninstall: pandas\n",
      "    Found existing installation: pandas 1.3.4\n",
      "    Uninstalling pandas-1.3.4:\n",
      "Note: you may need to restart the kernel to use updated packages.\n"
     ]
    },
    {
     "name": "stderr",
     "output_type": "stream",
     "text": [
      "ERROR: Could not install packages due to an OSError: [WinError 5] Access is denied: 'c:\\\\programdata\\\\anaconda3\\\\lib\\\\site-packages\\\\pandas-1.3.4.dist-info\\\\direct_url.json'\n",
      "Consider using the `--user` option or check the permissions.\n",
      "\n"
     ]
    }
   ],
   "source": [
    "pip install pandas --upgrade pandas"
   ]
  },
  {
   "cell_type": "markdown",
   "metadata": {},
   "source": [
    "Aggregation: It is a function used to apply some aggregation across one or more columns\n",
    "    Frequently used functions:\n",
    "        sum:\n",
    "        min:\n",
    "        max:\n",
    "        mean:\n",
    "        count:\n",
    "            "
   ]
  },
  {
   "cell_type": "code",
   "execution_count": null,
   "metadata": {},
   "outputs": [],
   "source": [
    "dfc1=pd.read_csv(r\"C:\\Users\\Admin\\Desktop\\nba.csv\")\n"
   ]
  },
  {
   "cell_type": "code",
   "execution_count": null,
   "metadata": {},
   "outputs": [],
   "source": [
    "print(dfc1)"
   ]
  },
  {
   "cell_type": "code",
   "execution_count": null,
   "metadata": {},
   "outputs": [],
   "source": [
    "print(dfc1.Weight.count())\n",
    "print(dfc1.Salary.count())\n",
    "print(dfc1.Salary.sum())\n",
    "print(dfc1.Salary.max())\n",
    "print(dfc1.Salary.min())"
   ]
  },
  {
   "cell_type": "code",
   "execution_count": null,
   "metadata": {},
   "outputs": [],
   "source": [
    "#aggregate(): it is used to apply more than one function on desired col\n",
    "print(dfc1.aggregate([sum,max,min,'mean','count']))"
   ]
  },
  {
   "cell_type": "code",
   "execution_count": null,
   "metadata": {
    "scrolled": true
   },
   "outputs": [],
   "source": [
    "#applying aggregate on selected columns and selected functions\n",
    "print(dfc1.aggregate({'Number':['min','max'],'Age':['max', 'mean'],'Salary':['sum','count']}))"
   ]
  },
  {
   "cell_type": "code",
   "execution_count": null,
   "metadata": {},
   "outputs": [],
   "source": [
    "#applying aggregate on selected columns and selected functions\n",
    "print(dfc1.aggregate(x=('Number','min'),y=('Age','max'),z=('Salary','sum')))"
   ]
  },
  {
   "cell_type": "code",
   "execution_count": null,
   "metadata": {},
   "outputs": [],
   "source": [
    "#agg(): can also be used for aggregation on complete DF\n",
    "dfc1.agg('mean', axis='columns')"
   ]
  },
  {
   "cell_type": "code",
   "execution_count": null,
   "metadata": {},
   "outputs": [],
   "source": [
    "df=pd.DataFrame([[1,2,3],[4,5,6],[7,8,9]],columns=['A','B','C'])\n",
    "print(df)"
   ]
  },
  {
   "cell_type": "code",
   "execution_count": null,
   "metadata": {},
   "outputs": [],
   "source": [
    "print(df.agg('mean', axis='columns'))# will provide value of aggfun rowwise\n",
    "print(df.agg('mean'))# will provide value of aggfun colwise"
   ]
  },
  {
   "cell_type": "markdown",
   "metadata": {},
   "source": [
    "Grouping: \n",
    "groupby() will be used to perform grouping : \n",
    "by this we are refering to a process involving one \n",
    "or more of the following steps:\n",
    "            > Splitting the data into groups based on some criteria\n",
    "            > Applying a function on each group independently\n",
    "            > combining the resuls into a data structure"
   ]
  },
  {
   "cell_type": "code",
   "execution_count": null,
   "metadata": {},
   "outputs": [],
   "source": [
    "dfg=pd.DataFrame({\n",
    "    'A':['foo','bar','foo','bar','bar','foo','foo','bar','foo'],\n",
    "    'B':['one','one','one','two','three','two','three','one','two'],\n",
    "    'C':np.random.randint(2,9,size=(9,)),\n",
    "    'D':np.random.randint(10,16,size=(9,)) \n",
    "})\n",
    "print(dfg)"
   ]
  },
  {
   "cell_type": "code",
   "execution_count": null,
   "metadata": {},
   "outputs": [],
   "source": [
    "#groupby(): is used to create groups among entries of DF based on values in a col\n",
    "g=dfg.groupby('A')\n",
    "print(g)"
   ]
  },
  {
   "cell_type": "code",
   "execution_count": null,
   "metadata": {},
   "outputs": [],
   "source": [
    "print(g.groups)# to check the groups inside groupby data frame"
   ]
  },
  {
   "cell_type": "code",
   "execution_count": null,
   "metadata": {},
   "outputs": [],
   "source": [
    "#iterating through the groups df\n",
    "for i,j in g:\n",
    "    print(i)\n",
    "    print(j)"
   ]
  },
  {
   "cell_type": "code",
   "execution_count": null,
   "metadata": {},
   "outputs": [],
   "source": [
    "g1=dfg.groupby('B')"
   ]
  },
  {
   "cell_type": "code",
   "execution_count": null,
   "metadata": {},
   "outputs": [],
   "source": [
    "print(g1.groups)"
   ]
  },
  {
   "cell_type": "code",
   "execution_count": null,
   "metadata": {},
   "outputs": [],
   "source": [
    "for i,j in g1:\n",
    "    print(i)\n",
    "    print(j)"
   ]
  },
  {
   "cell_type": "code",
   "execution_count": null,
   "metadata": {},
   "outputs": [],
   "source": [
    "#applying aggregation function on groups\n",
    "print(g.sum())\n",
    "print(g1.sum())\n",
    "print(g.max())\n",
    "print(g1.max())\n",
    "print(g.min())\n",
    "print(g1.min())\n",
    "print(g['C'].max())# can perform agg. on a specific col among all the groups"
   ]
  },
  {
   "cell_type": "code",
   "execution_count": null,
   "metadata": {},
   "outputs": [],
   "source": [
    "# Grouping can be done by multiple columns too.\n",
    "#it form a hierarichal index\n",
    "print(dfg)\n",
    "g2=dfg.groupby(['A','B'])\n",
    "print(g2.groups)"
   ]
  },
  {
   "cell_type": "code",
   "execution_count": null,
   "metadata": {},
   "outputs": [],
   "source": [
    "for i,j in g2:\n",
    "    print(i)\n",
    "    print(j)"
   ]
  },
  {
   "cell_type": "code",
   "execution_count": null,
   "metadata": {},
   "outputs": [],
   "source": [
    "#agg on multiple col groups\n",
    "print(g2.sum())"
   ]
  },
  {
   "cell_type": "code",
   "execution_count": null,
   "metadata": {},
   "outputs": [],
   "source": [
    "#get_group: is used to access a particular group\n",
    "g3=g.get_group('foo')\n",
    "print(g3)"
   ]
  },
  {
   "cell_type": "markdown",
   "metadata": {},
   "source": [
    "Merging two Data Frames"
   ]
  },
  {
   "cell_type": "code",
   "execution_count": null,
   "metadata": {},
   "outputs": [],
   "source": [
    "sts=pd.DataFrame({\n",
    "    'Names':['john','mary','henry','akash','vaibhav'],\n",
    "    'Teams':['alpha','beta','gama','delta','ita']\n",
    "})\n",
    "print(sts)"
   ]
  },
  {
   "cell_type": "code",
   "execution_count": null,
   "metadata": {},
   "outputs": [],
   "source": [
    "st=pd.DataFrame({\n",
    "    'Names':['john','mary','akash','vaibhav','tony','harsh'],\n",
    "    'Marks':[56,78,89,67,59,75]\n",
    "})\n",
    "print(st)"
   ]
  },
  {
   "cell_type": "markdown",
   "metadata": {},
   "source": [
    "#Types of Merging\n",
    ">inner join\n",
    ">outer join\n",
    ">left join\n",
    ">right join"
   ]
  },
  {
   "cell_type": "code",
   "execution_count": null,
   "metadata": {},
   "outputs": [],
   "source": [
    "#inner join : is like intersection of dataframes based on a col\n",
    "#merge(): function is used for merging dfs\n",
    "rst=pd.merge(sts,st)#by default inner join and first col is considered\n",
    "print(sts)\n",
    "print(st)\n",
    "print(rst)"
   ]
  },
  {
   "cell_type": "code",
   "execution_count": null,
   "metadata": {},
   "outputs": [],
   "source": [
    "rst=pd.merge(sts,st,on='Names',how='inner')\n",
    "print(rst)"
   ]
  },
  {
   "cell_type": "code",
   "execution_count": null,
   "metadata": {},
   "outputs": [],
   "source": [
    "#outer join: is like union operation\n",
    "rst=pd.merge(sts,st,on='Names',how='outer')\n",
    "print(rst)"
   ]
  },
  {
   "cell_type": "code",
   "execution_count": null,
   "metadata": {},
   "outputs": [],
   "source": [
    "#left join: corresponding to the left dataframe entries\n",
    "rst=pd.merge(sts,st,on='Names',how='left')\n",
    "print(rst)"
   ]
  },
  {
   "cell_type": "code",
   "execution_count": null,
   "metadata": {},
   "outputs": [],
   "source": [
    "#right join: corresponding to the right dataframe entries\n",
    "rst=pd.merge(sts,st,on='Names',how='right')\n",
    "print(rst)"
   ]
  },
  {
   "cell_type": "code",
   "execution_count": null,
   "metadata": {},
   "outputs": [],
   "source": [
    "#using indicator parameter in merge: set indicator as True then \n",
    "#it will provide columns existance iorigin in the result of merging\n",
    "#outer join: is like union operation with indicator\n",
    "rst=pd.merge(sts,st,on='Names',how='outer',indicator=True)\n",
    "print(rst)"
   ]
  },
  {
   "cell_type": "code",
   "execution_count": null,
   "metadata": {},
   "outputs": [],
   "source": [
    "#suffix parameter of merge function\n",
    "sts['Marks']=[50,55,43,48,67]\n",
    "print(sts)"
   ]
  },
  {
   "cell_type": "code",
   "execution_count": null,
   "metadata": {},
   "outputs": [],
   "source": [
    "#outer join: is like union operation\n",
    "#both DF has common column\n",
    "rst=pd.merge(sts,st,on='Names',how='outer')\n",
    "print(rst)"
   ]
  },
  {
   "cell_type": "code",
   "execution_count": null,
   "metadata": {},
   "outputs": [],
   "source": [
    "#suffix: it will provide name to duplicate cols of DFs\n",
    "#both DF has common column\n",
    "rst=pd.merge(sts,st,on='Names',how='outer',suffixes=('_sts','_st'))\n",
    "print(rst)\n"
   ]
  },
  {
   "cell_type": "code",
   "execution_count": null,
   "metadata": {},
   "outputs": [],
   "source": [
    "#data Manipulation\n",
    "#loc and iloc\n",
    "dfc=pd.read_csv(r'C:\\Users\\Admin\\Desktop\\nba.csv')\n",
    "print(dfc)"
   ]
  },
  {
   "cell_type": "code",
   "execution_count": null,
   "metadata": {},
   "outputs": [],
   "source": [
    "#iloc: it is index(int) based location finder\n",
    "#select rows and cols based on default index\n",
    "dfc.iloc[3] #out put in form of a data series"
   ]
  },
  {
   "cell_type": "code",
   "execution_count": null,
   "metadata": {},
   "outputs": [],
   "source": [
    "dfc.iloc[3]['Team'] #labeling of series generated by iloc"
   ]
  },
  {
   "cell_type": "code",
   "execution_count": null,
   "metadata": {},
   "outputs": [],
   "source": [
    "#iloc: can access more tahn one row at a time\n",
    "dfc.iloc[[2,4,5,6]]"
   ]
  },
  {
   "cell_type": "code",
   "execution_count": null,
   "metadata": {},
   "outputs": [],
   "source": [
    "dfc1=dfc.set_index('Name')\n",
    "dfc1.head(10)"
   ]
  },
  {
   "cell_type": "code",
   "execution_count": null,
   "metadata": {},
   "outputs": [],
   "source": [
    "dfc1.iloc[3] #it will still work by ignoring column used as label"
   ]
  },
  {
   "cell_type": "code",
   "execution_count": null,
   "metadata": {},
   "outputs": [],
   "source": [
    "#dfc1.iloc['John Holland']\n",
    "#Cannot index by location index with a non-integer key."
   ]
  },
  {
   "cell_type": "code",
   "execution_count": null,
   "metadata": {},
   "outputs": [],
   "source": [
    "#slicing: works with iloc\n",
    "print(dfc.iloc[:4])\n",
    "\n"
   ]
  },
  {
   "cell_type": "code",
   "execution_count": null,
   "metadata": {},
   "outputs": [],
   "source": [
    "print(dfc.iloc[:5,1:4])"
   ]
  },
  {
   "cell_type": "code",
   "execution_count": null,
   "metadata": {},
   "outputs": [],
   "source": [
    "print(dfc.iloc[:5,[4,5]])"
   ]
  },
  {
   "cell_type": "code",
   "execution_count": null,
   "metadata": {
    "scrolled": true
   },
   "outputs": [],
   "source": [
    "#loc property:  it is a user defined label based property\n",
    "# will access a group of rows and col by labeling\n",
    "print(dfc1.head(10))"
   ]
  },
  {
   "cell_type": "code",
   "execution_count": null,
   "metadata": {},
   "outputs": [],
   "source": [
    "dfc1.loc['John Holland']"
   ]
  },
  {
   "cell_type": "code",
   "execution_count": null,
   "metadata": {},
   "outputs": [],
   "source": [
    "dfc1.loc[['John Holland'],['Team','Number']]\n",
    "# for accessing multiple col values of a located row"
   ]
  },
  {
   "cell_type": "code",
   "execution_count": null,
   "metadata": {},
   "outputs": [],
   "source": [
    "dfc.loc[2] #it will also work on integer index of non labeled dfs"
   ]
  },
  {
   "cell_type": "markdown",
   "metadata": {},
   "source": [
    "         loc                                     iloc\n",
    "    it is label based.                    it is index based\n",
    "in slicing loc includes end point.    iloc does not include end point\n",
    "it uses bot integer/label index.      it uses only integer index"
   ]
  },
  {
   "cell_type": "code",
   "execution_count": null,
   "metadata": {},
   "outputs": [],
   "source": [
    "#slicing with loc\n",
    "dfc1.loc['John Holland':'Jordan Mickey'] #end point is inclusive"
   ]
  },
  {
   "cell_type": "code",
   "execution_count": null,
   "metadata": {},
   "outputs": [],
   "source": [
    "dfc1.Salary>2500000 #boolean series"
   ]
  },
  {
   "cell_type": "code",
   "execution_count": null,
   "metadata": {},
   "outputs": [],
   "source": [
    "#all the data of employees having salary greater than 2500000\n",
    "dfc1.loc[dfc1.Salary>2500000]"
   ]
  },
  {
   "cell_type": "code",
   "execution_count": null,
   "metadata": {},
   "outputs": [],
   "source": [
    "#All the data of employees having salary greater than 2500000 \n",
    "#and weight equal to 180\n",
    "dfc1.loc[(dfc1.Salary>2500000)&(dfc1.Weight>200)]"
   ]
  },
  {
   "cell_type": "code",
   "execution_count": null,
   "metadata": {},
   "outputs": [],
   "source": [
    "#Adding new rows in existing DF using loc\n",
    "print(dfc)\n",
    "dfc.loc[458]=[1,2,3,4,5,6,7,8,9]\n",
    "print(dfc)\n",
    "\n"
   ]
  },
  {
   "cell_type": "code",
   "execution_count": null,
   "metadata": {},
   "outputs": [],
   "source": [
    "#Apply Function on DFs\n",
    "students=pd.DataFrame({\n",
    "    'Name':['ram','shyam','raju','sonu','golu','harsh','nikhil','abhi'],\n",
    "    'Marks1':[50,45,65,76,43,89,64,93],\n",
    "    'Marks2':[30,40,50,60,70,80,90,20]\n",
    "})\n",
    "print(students)"
   ]
  },
  {
   "cell_type": "code",
   "execution_count": null,
   "metadata": {},
   "outputs": [],
   "source": [
    "#Apply a function to check \n",
    "#if a person is fail or pass according to Marks1 along with axis\n",
    "#you have to pass function name as a parameter in apply and set axis.\n",
    "def check(row):\n",
    "    if row['Marks1']>=50:\n",
    "        return 'Pass'\n",
    "    else:\n",
    "        return 'Fail'\n",
    "students['Result']=students.apply(check,axis=1)\n",
    "print(students)"
   ]
  },
  {
   "cell_type": "code",
   "execution_count": null,
   "metadata": {},
   "outputs": [],
   "source": [
    "#check whether names of a DF belongs to a list or not\n",
    "def names(row):\n",
    "    if(row['Name'] in ['ram','raju','sonu','nikhil','abhi']):\n",
    "        return 'yes'\n",
    "    else:\n",
    "        return 'no'\n",
    "students['flag']=students.apply(names,axis=1)\n",
    "print(students)\n"
   ]
  },
  {
   "cell_type": "code",
   "execution_count": null,
   "metadata": {},
   "outputs": [],
   "source": [
    "#Insert a col at the end having grades of student according to their marks\n",
    "def grade(row):\n",
    "    n=row['Marks1']+row['Marks2']\n",
    "    p=(n*100)/200\n",
    "    if p>=90:\n",
    "        return 'A+'\n",
    "    elif p>=80:\n",
    "        return 'A'\n",
    "    elif p>=70:\n",
    "        return 'B+'\n",
    "    elif p>=60:\n",
    "        return 'B'\n",
    "    elif p>=50:\n",
    "        return 'C'\n",
    "    elif p>=40:\n",
    "        return 'D'\n",
    "    else:\n",
    "        return 'FAIL'\n",
    "    \n",
    "students['Grade']=students.apply(grade,axis=1)\n",
    "print(students)"
   ]
  },
  {
   "cell_type": "code",
   "execution_count": null,
   "metadata": {},
   "outputs": [],
   "source": [
    "students['Address']=['noida','delhi','gzb',np.nan,np.nan,'delhi','gzb',np.nan]\n",
    "print(students)"
   ]
  },
  {
   "cell_type": "code",
   "execution_count": null,
   "metadata": {},
   "outputs": [],
   "source": [
    "#isnull(): it will return true if value contained is null\n",
    "students.isnull()"
   ]
  },
  {
   "cell_type": "code",
   "execution_count": null,
   "metadata": {},
   "outputs": [],
   "source": [
    "#notnull(): reverse of isnull\n",
    "students.notnull()"
   ]
  },
  {
   "cell_type": "code",
   "execution_count": null,
   "metadata": {},
   "outputs": [],
   "source": [
    "#fillna(): is used to write a value inplace of null\n",
    "students['Address'].fillna(value='Unknown',inplace=True)\n",
    "print(students)"
   ]
  },
  {
   "cell_type": "code",
   "execution_count": null,
   "metadata": {},
   "outputs": [],
   "source": [
    "#describe(): statistical data table\n",
    "students.describe()"
   ]
  },
  {
   "cell_type": "code",
   "execution_count": null,
   "metadata": {},
   "outputs": [],
   "source": [
    "#End of pandas\n",
    "#https://pandas.pydata.org/pandas-docs"
   ]
  }
 ],
 "metadata": {
  "kernelspec": {
   "display_name": "Python 3 (ipykernel)",
   "language": "python",
   "name": "python3"
  },
  "language_info": {
   "codemirror_mode": {
    "name": "ipython",
    "version": 3
   },
   "file_extension": ".py",
   "mimetype": "text/x-python",
   "name": "python",
   "nbconvert_exporter": "python",
   "pygments_lexer": "ipython3",
   "version": "3.9.7"
  }
 },
 "nbformat": 4,
 "nbformat_minor": 4
}
