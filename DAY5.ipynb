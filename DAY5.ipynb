{
 "cells": [
  {
   "cell_type": "code",
   "execution_count": 3,
   "id": "e76e009c-cc18-499a-b544-0fa6d259dfe2",
   "metadata": {},
   "outputs": [
    {
     "name": "stdout",
     "output_type": "stream",
     "text": [
      "2,3,4,5,6,7,8,9,10,11,"
     ]
    }
   ],
   "source": [
    "#Program to create iterator for fibonacci series.\n",
    "class Fibonacci:\n",
    "    def __init__(self,stop):\n",
    "        self.a=1\n",
    "        self.b=1\n",
    "        self.n=0\n",
    "        self.stop=stop\n",
    "    def __iter__(self):\n",
    "        return self\n",
    "    def __next__(self):\n",
    "        self.n+=1 #It is faster than self.n=self.n+1 because \n",
    "        if self.n<=self.stop:\n",
    "            c=self.a+self.b\n",
    "            self.a=self.b\n",
    "            self.a=c\n",
    "            return c\n",
    "        else:\n",
    "            raise StopIteration\n",
    "f1=Fibonacci(5)\n",
    "f1=iter(f1)\n",
    "#print(next(f1))\n",
    "#print(next(f1))\n",
    "#print(next(f1))\n",
    "#or\n",
    "for i in Fibonacci(10):\n",
    "    print(i,end=',')"
   ]
  },
  {
   "cell_type": "markdown",
   "id": "0a1cf151-88e9-4d5f-b2e1-f20735b9986a",
   "metadata": {},
   "source": [
    "<h3>To make program easy like in fibonacci series we use generator.</h3>\n",
    "\n",
    "<font color='blue'><h1>Generator:</h1></font>\n",
    "1. Python generator is used to create iterators and return a traversal object. It helps to traverse.\n",
    "2. Generator functions are defined as the normal function but to identify the difference between normal function and generator function.\n",
    "\n",
    "* <font color='green'><h3>Normal function:-</h3></font>return\n",
    "* <font color='green'><h3>Generator function:-</h3></font>yield"
   ]
  },
  {
   "cell_type": "code",
   "execution_count": 6,
   "id": "98525671-a4e0-4a27-9e42-8bab99e4f890",
   "metadata": {},
   "outputs": [
    {
     "name": "stdout",
     "output_type": "stream",
     "text": [
      "<class 'function'>\n",
      "<class 'generator'>\n",
      "Function Begins\n",
      "0\n",
      "Function Continue\n",
      "1\n"
     ]
    }
   ],
   "source": [
    "def fun1():\n",
    "    i=0\n",
    "    print(\"Function Begins\")\n",
    "    yield i\n",
    "    i+=1\n",
    "    print(\"Function Continue\")\n",
    "    yield i\n",
    "obj=fun1()\n",
    "print(type(fun1))\n",
    "print(type(obj))\n",
    "print(next(obj))\n",
    "print(next(obj))\n",
    "#print(next(obj)) It causes an error StopIteration"
   ]
  },
  {
   "cell_type": "code",
   "execution_count": 7,
   "id": "ae45e866-dc68-4da3-979b-ba03de6bdb13",
   "metadata": {},
   "outputs": [
    {
     "name": "stdout",
     "output_type": "stream",
     "text": [
      "The number of 'a' in word is:4\n"
     ]
    }
   ],
   "source": [
    "#Generator function\n",
    "#Program to demonstrate yield keyword\n",
    "def printresult(string):\n",
    "    for i in string:\n",
    "        if i==\"a\":\n",
    "            yield 1\n",
    "\n",
    "#initializing string\n",
    "string=\"Agapastala\"\n",
    "ans=0\n",
    "print(\"The number of 'a' in word is:\",end=\"\")\n",
    "string=string.strip()\n",
    "\n",
    "for j in printresult(string):\n",
    "    ans =ans+1\n",
    "print(ans)"
   ]
  }
 ],
 "metadata": {
  "kernelspec": {
   "display_name": "Python 3 (ipykernel)",
   "language": "python",
   "name": "python3"
  },
  "language_info": {
   "codemirror_mode": {
    "name": "ipython",
    "version": 3
   },
   "file_extension": ".py",
   "mimetype": "text/x-python",
   "name": "python",
   "nbconvert_exporter": "python",
   "pygments_lexer": "ipython3",
   "version": "3.12.3"
  }
 },
 "nbformat": 4,
 "nbformat_minor": 5
}
