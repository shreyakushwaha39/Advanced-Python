{
 "cells": [
  {
   "cell_type": "markdown",
   "id": "b90a5327-3697-4dd6-b406-ff26066ea7a0",
   "metadata": {},
   "source": [
    "<font color='violet'><h2>Pandas:</h2></font>\n",
    "Panel Data and Analysis\n",
    "\n",
    "* Pandas is a python library used for working with data sets.\n",
    "* It has functioning for analyzing, cleaning, exploring and manipulating data.\n",
    "* It was created in 2008 by Wes Mckinney.\n",
    "\n",
    "> <font color='yellow'><h4>What kind of data is best suited for PANDAS?</h4></font>\n",
    "- Rows & columns\n",
    "- Excel, .xlsxs, .csv[comma separated values],.workbook\n",
    "\n",
    "<font color='red'><h3>Data Frames:</h3></font> Rows and Columns [2-D array]\n",
    "<font color='red'><h3>Data Series:</h3></font> [1-D array]"
   ]
  },
  {
   "cell_type": "code",
   "execution_count": 4,
   "id": "95d23a62-c60d-473e-a723-bf3d58ac9bf6",
   "metadata": {},
   "outputs": [
    {
     "name": "stdout",
     "output_type": "stream",
     "text": [
      "0            10\n",
      "1            20\n",
      "2            30\n",
      "3          Late\n",
      "4    Punishment\n",
      "dtype: object\n"
     ]
    }
   ],
   "source": [
    "import pandas as pd\n",
    "#Create a simple pandas series from a list data structure(Ds).\n",
    "a=[10,20,30,'Late','Punishment']\n",
    "my_col=pd.Series(a)\n",
    "print(my_col) #This wil print data series"
   ]
  },
  {
   "cell_type": "markdown",
   "id": "2527305d-9ad3-46d2-8825-976387230e3b",
   "metadata": {},
   "source": [
    "<font color='green'><h2>Labels:</h2></font> It is the index.If nothing is passed then column elements will have normal indexing which starts from 0. It can be used to access any element of the series"
   ]
  },
  {
   "cell_type": "code",
   "execution_count": 1,
   "id": "56f7c5a2-61f2-4ead-8272-7690867d128a",
   "metadata": {},
   "outputs": [
    {
     "name": "stdout",
     "output_type": "stream",
     "text": [
      "0            10\n",
      "1            20\n",
      "2            30\n",
      "3          Late\n",
      "4    Punishment\n",
      "dtype: object\n",
      "30\n"
     ]
    }
   ],
   "source": [
    "import pandas as pd\n",
    "#Create a simple pandas series from a list data structure(Ds).\n",
    "a=[10,20,30,'Late','Punishment']\n",
    "my_col=pd.Series(a)\n",
    "print(my_col) \n",
    "print(my_col[2])"
   ]
  },
  {
   "cell_type": "code",
   "execution_count": 7,
   "id": "8640b6ee-a510-43ab-a261-23e6064c6fd5",
   "metadata": {},
   "outputs": [
    {
     "name": "stdout",
     "output_type": "stream",
     "text": [
      "x    15\n",
      "y    20\n",
      "z    35\n",
      "dtype: int64\n"
     ]
    }
   ],
   "source": [
    "import pandas as pd\n",
    "b=[15,20,35]\n",
    "s=pd.Series(b, index=['x','y','z'])\n",
    "print(s)"
   ]
  },
  {
   "cell_type": "code",
   "execution_count": 8,
   "id": "64589696-c777-434b-a297-fa84c92e14a1",
   "metadata": {},
   "outputs": [
    {
     "name": "stdout",
     "output_type": "stream",
     "text": [
      "0    1\n",
      "1    2\n",
      "2    3\n",
      "3    4\n",
      "4    5\n",
      "5    6\n",
      "dtype: int32\n"
     ]
    }
   ],
   "source": [
    "#Creating series through an array\n",
    "import pandas as pd\n",
    "import numpy as np\n",
    "arr=np.array([1,2,3,4,5,6])\n",
    "a=pd.Series(arr)\n",
    "print(a)"
   ]
  },
  {
   "cell_type": "code",
   "execution_count": 10,
   "id": "71960c3f-2387-42cf-8f09-a9ea07375269",
   "metadata": {},
   "outputs": [
    {
     "name": "stdout",
     "output_type": "stream",
     "text": [
      "a    10\n",
      "b    20\n",
      "c    30\n",
      "dtype: int64\n"
     ]
    }
   ],
   "source": [
    "#Creating a series through a dictionary\n",
    "import pandas as pd\n",
    "dict={'a':10,'b':20,'c':30}\n",
    "ds1=pd.Series(dict)\n",
    "print(ds1)"
   ]
  },
  {
   "cell_type": "code",
   "execution_count": 11,
   "id": "58ad71da-722d-453e-93aa-374cef0038f1",
   "metadata": {},
   "outputs": [
    {
     "name": "stdout",
     "output_type": "stream",
     "text": [
      "x   NaN\n",
      "y   NaN\n",
      "z   NaN\n",
      "dtype: float64\n"
     ]
    }
   ],
   "source": [
    "import pandas as pd\n",
    "dict={'a':10,'b':20,'c':30}\n",
    "ds1=pd.Series(dict, index=['x','y','z'])\n",
    "print(ds1) #NaN because a,b,c already  have fixed value"
   ]
  },
  {
   "cell_type": "code",
   "execution_count": 13,
   "id": "b0800584-02c8-4c4e-8634-ab3cbd05da3c",
   "metadata": {},
   "outputs": [
    {
     "name": "stdout",
     "output_type": "stream",
     "text": [
      "1    20\n",
      "2    20\n",
      "3    20\n",
      "4    20\n",
      "5    20\n",
      "dtype: int64\n",
      "[[0. 0. 0. 0.]\n",
      " [0. 0. 0. 0.]]\n",
      "[[1. 1. 1. 1. 1.]\n",
      " [1. 1. 1. 1. 1.]\n",
      " [1. 1. 1. 1. 1.]]\n"
     ]
    }
   ],
   "source": [
    "#Creating a Series of a particular scalar value with your own index\n",
    "import pandas as pd\n",
    "import numpy as np\n",
    "x=pd.Series(20,index=[1,2,3,4,5])\n",
    "y=np.zeros((2,4))\n",
    "z=np.ones((3,5))\n",
    "print(x)\n",
    "print(y)\n",
    "print(z)"
   ]
  },
  {
   "cell_type": "markdown",
   "id": "e0f134dd-49ef-4aa7-80cf-fb2434365079",
   "metadata": {},
   "source": [
    "<font color='blue'><h1>Data Frames:</h1></font> Data-sets in Pandas are usually multi-dimensionals tables, known as \"DataFrames.\"\n",
    "* Data Frame is a whole table, whereas Series is like a column.\n",
    "* Data Frame is heterogeneous i.e, collection of different type of value."
   ]
  },
  {
   "cell_type": "code",
   "execution_count": 15,
   "id": "a508dd71-115c-48c8-916e-4cef2f3968ec",
   "metadata": {},
   "outputs": [
    {
     "name": "stdout",
     "output_type": "stream",
     "text": [
      "   Names  Roll No  Marks\n",
      "0  Muthu      101      4\n",
      "1  Swami      102      7\n",
      "2  Ayyer      103      6\n"
     ]
    }
   ],
   "source": [
    "#1.Creating a DataFrame from 3-list.\n",
    "import pandas as pd\n",
    "data={\"Names\":[\"Muthu\",\"Swami\",\"Ayyer\"],\"Roll No\":[101,102,103],\"Marks\":[4,7,6]}\n",
    "df=pd.DataFrame(data)\n",
    "print(df)"
   ]
  },
  {
   "cell_type": "code",
   "execution_count": 17,
   "id": "0365e1b0-7aaa-424b-a7b6-3ece91cc4a96",
   "metadata": {},
   "outputs": [
    {
     "name": "stdout",
     "output_type": "stream",
     "text": [
      "   Names  Roll No  Marks\n",
      "a  Muthu      101      4\n",
      "b  Swami      102      7\n",
      "c  Ayyer      103      6\n"
     ]
    }
   ],
   "source": [
    "import pandas as pd\n",
    "data={\"Names\":[\"Muthu\",\"Swami\",\"Ayyer\"],\"Roll No\":[101,102,103],\"Marks\":[4,7,6]}\n",
    "print(pd.DataFrame(data, index=['a','b','c']))"
   ]
  },
  {
   "cell_type": "code",
   "execution_count": 27,
   "id": "621646f2-3e15-4ce9-a928-d7c71a8af03c",
   "metadata": {},
   "outputs": [
    {
     "name": "stdout",
     "output_type": "stream",
     "text": [
      "Muthu\n"
     ]
    }
   ],
   "source": [
    "#To check the location of data\n",
    "import pandas as pd\n",
    "data={\"Names\":[\"Muthu\",\"Swami\",\"Ayyer\"],\"Roll No\":[101,102,103],\"Marks\":[4,7,6]}\n",
    "df=pd.DataFrame(data, index=['a','b','c'])\n",
    "print(df.loc['a','Names']) #Accesing values of keys by indexing"
   ]
  },
  {
   "cell_type": "code",
   "execution_count": 28,
   "id": "76403d58-7991-44ed-b2de-8510bcf95d4a",
   "metadata": {},
   "outputs": [
    {
     "name": "stdout",
     "output_type": "stream",
     "text": [
      "          ID1  ID2  ID3\n",
      "Names     abc  xyz  mno\n",
      "Roll No.  101  102  103\n",
      "Marks      50   80   85\n"
     ]
    }
   ],
   "source": [
    "#Creating DataFrames using numpy\n",
    "npar=np.array([['abc','xyz','mno'],[101,102,103],[50,80,85]])\n",
    "df1=pd.DataFrame(npar,columns=['ID1','ID2','ID3'], index=['Names','Roll No.','Marks'])\n",
    "print(df1)"
   ]
  },
  {
   "cell_type": "code",
   "execution_count": 5,
   "id": "1d314c85-8da8-41d7-a325-3b3fff093443",
   "metadata": {},
   "outputs": [
    {
     "name": "stdout",
     "output_type": "stream",
     "text": [
      "    Names Roll NO.  Marks\n",
      "1  Shreya      124     23\n",
      "2     Dev      245     45\n",
      "3   nisha      252     67\n",
      "4   Mansi      167     88\n"
     ]
    }
   ],
   "source": [
    "s1=pd.Series(['Shreya','Dev','nisha','Mansi'],index=[1,2,3,4])\n",
    "s2=pd.Series(['124','245','252','167'],index=[1,2,3,4])\n",
    "s3=pd.Series([23,45,67,88],index=[1,2,3,4])\n",
    "x={'Names':s1,'Roll NO.':s2,'Marks':s3}\n",
    "y=pd.DataFrame(x)\n",
    "print(y)"
   ]
  },
  {
   "cell_type": "code",
   "execution_count": 6,
   "id": "6922670e-3615-4d88-9861-93a0de4ceba3",
   "metadata": {},
   "outputs": [
    {
     "name": "stdout",
     "output_type": "stream",
     "text": [
      "    Names Roll NO.  Marks  Address\n",
      "1  Shreya      124     23    Noida\n",
      "2     Dev      245     45    Delhi\n",
      "3   nisha      252     67  NewYork\n",
      "4   Mansi      167     88      usa\n",
      "    Names Roll NO.  Marks  Address  pra_status\n",
      "1  Shreya      124     23    Noida       False\n",
      "2     Dev      245     45    Delhi       False\n",
      "3   nisha      252     67  NewYork       False\n",
      "4   Mansi      167     88      usa        True\n"
     ]
    }
   ],
   "source": [
    "#Inserting a new column in existing DF.\n",
    "x={'Names':s1,'Roll NO.':s2,'Marks':s3}\n",
    "y=pd.DataFrame(x)\n",
    "y['Address']=['Noida','Delhi','NewYork','usa']\n",
    "print(y)\n",
    "\n",
    "y['pra_status']=y['Marks']>80\n",
    "print(y)"
   ]
  },
  {
   "cell_type": "code",
   "execution_count": 7,
   "id": "69f63a1f-9cb2-4761-81fb-cbf58e4b12bd",
   "metadata": {},
   "outputs": [
    {
     "name": "stdout",
     "output_type": "stream",
     "text": [
      "    Names Section Roll NO.  Marks  Address  pra_status\n",
      "1  Shreya       A      124     23    Noida       False\n",
      "2     Dev       B      245     45    Delhi       False\n",
      "3   nisha       c      252     67  NewYork       False\n",
      "4   Mansi       D      167     88      usa        True\n"
     ]
    }
   ],
   "source": [
    "#Inserting a new column at a desired location in data frame.\n",
    "y.insert(1,'Section',['A','B','c','D'])\n",
    "#insert(location,col_name,values)\n",
    "print(y)"
   ]
  },
  {
   "cell_type": "code",
   "execution_count": 8,
   "id": "682c3329-a46f-45ee-91f6-9f3321a3c0c7",
   "metadata": {},
   "outputs": [
    {
     "name": "stdout",
     "output_type": "stream",
     "text": [
      "    Names Section Roll NO.  Marks  Address\n",
      "1  Shreya       A      124     23    Noida\n",
      "2     Dev       B      245     45    Delhi\n",
      "3   nisha       c      252     67  NewYork\n",
      "4   Mansi       D      167     88      usa\n"
     ]
    }
   ],
   "source": [
    "#Deleting any column from DF\n",
    "del y['pra_status']\n",
    "print(y)"
   ]
  },
  {
   "cell_type": "code",
   "execution_count": 9,
   "id": "d56dbc1b-2b3d-4c86-8787-59e5baa23e1b",
   "metadata": {},
   "outputs": [
    {
     "name": "stdout",
     "output_type": "stream",
     "text": [
      "1    A\n",
      "2    B\n",
      "3    c\n",
      "4    D\n",
      "Name: Section, dtype: object\n"
     ]
    }
   ],
   "source": [
    "a=y.pop('Section')\n",
    "print(a)"
   ]
  },
  {
   "cell_type": "code",
   "execution_count": 11,
   "id": "1cca31a5-c436-4b72-8b5c-4a6ce95f4254",
   "metadata": {},
   "outputs": [
    {
     "name": "stdout",
     "output_type": "stream",
     "text": [
      "[10 11 12 13 14 15 16 17 18 19 20 21 22 23 24 25 26 27 28 29 30 31 32 33\n",
      " 34 35 36 37 38 39]\n",
      "     0\n",
      "0   10\n",
      "1   11\n",
      "2   12\n",
      "3   13\n",
      "4   14\n",
      "5   15\n",
      "6   16\n",
      "7   17\n",
      "8   18\n",
      "9   19\n",
      "10  20\n",
      "11  21\n",
      "12  22\n",
      "13  23\n",
      "14  24\n",
      "15  25\n",
      "16  26\n",
      "17  27\n",
      "18  28\n",
      "19  29\n",
      "20  30\n",
      "21  31\n",
      "22  32\n",
      "23  33\n",
      "24  34\n",
      "25  35\n",
      "26  36\n",
      "27  37\n",
      "28  38\n",
      "29  39\n"
     ]
    }
   ],
   "source": [
    "#Make a dataframe by using arange()\n",
    "import pandas as pd\n",
    "import numpy as np\n",
    "x=np.arange(10,40)\n",
    "print(x)\n",
    "y1=pd.DataFrame(x)\n",
    "print(y1)"
   ]
  },
  {
   "cell_type": "code",
   "execution_count": 13,
   "id": "b1b9e66c-b4ae-437f-92ab-ce82fa1023e2",
   "metadata": {},
   "outputs": [
    {
     "name": "stdout",
     "output_type": "stream",
     "text": [
      "    Names Roll NO.  Marks  Address\n",
      "1  Shreya      124     23    Noida\n",
      "2     Dev      245     45    Delhi\n",
      "3   nisha      252     67  NewYork\n",
      "4   Mansi      167     88      usa\n"
     ]
    }
   ],
   "source": [
    "#Writing to a file\n",
    "print(y)\n",
    "y.to_csv(r\"C:\\Users\\kushw\\Downloads\\Shreya.csv\")"
   ]
  },
  {
   "cell_type": "code",
   "execution_count": 15,
   "id": "9216dbff-f92b-4376-ae7c-3a1a7fe9f0b3",
   "metadata": {},
   "outputs": [],
   "source": [
    "y.to_excel(r\"C:\\Users\\kushw\\Downloads\\Shreya1.xlsx\")"
   ]
  },
  {
   "cell_type": "code",
   "execution_count": 16,
   "id": "4a0fa616-d864-4945-b419-ef5af80c6ae3",
   "metadata": {},
   "outputs": [
    {
     "name": "stdout",
     "output_type": "stream",
     "text": [
      "   Unnamed: 0   Names  Roll NO.  Marks  Address\n",
      "0           1  Shreya       124     23    Noida\n",
      "1           2     Dev       245     45    Delhi\n",
      "2           3   nisha       252     67  NewYork\n",
      "3           4   Mansi       167     88      usa\n"
     ]
    }
   ],
   "source": [
    "#Reading a csv file\n",
    "y=pd.read_csv(r\"C:\\Users\\kushw\\Downloads\\Shreya.csv\")\n",
    "print(y)"
   ]
  },
  {
   "cell_type": "code",
   "execution_count": 19,
   "id": "c36170a0-3758-4a18-a0b3-5df1565078af",
   "metadata": {},
   "outputs": [
    {
     "name": "stdout",
     "output_type": "stream",
     "text": [
      "       Unnamed: 0 Series_reference   Period  Data_value Suppressed STATUS  \\\n",
      "0               0      MFGQ.SFA1CA  1992.12    2493.370        NaN      F   \n",
      "1               1      MFGQ.SFA1CA  1993.03    3209.200        NaN      F   \n",
      "2               2      MFGQ.SFA1CA  1993.06    2780.170        NaN      F   \n",
      "3               3      MFGQ.SFA1CA  1993.09    1933.010        NaN      F   \n",
      "4               4      MFGQ.SFA1CA  1993.12    2692.920        NaN      F   \n",
      "...           ...              ...      ...         ...        ...    ...   \n",
      "30055       30055      MFGQ.SFZ5KA  2024.03   10399.776        NaN      R   \n",
      "30056       30056      MFGQ.SFZ5KA  2024.06    8981.859        NaN      R   \n",
      "30057       30057      MFGQ.SFZ5KA  2024.09    9426.188        NaN      R   \n",
      "30058       30058      MFGQ.SFZ5KA  2024.12   10595.690        NaN      R   \n",
      "30059       30059      MFGQ.SFZ5KA  2025.03   10826.352        NaN      F   \n",
      "\n",
      "         UNITS  Magnitude                                Subject  \\\n",
      "0      Dollars          6  Manufacturing Survey (ANZSIC06) - MFG   \n",
      "1      Dollars          6  Manufacturing Survey (ANZSIC06) - MFG   \n",
      "2      Dollars          6  Manufacturing Survey (ANZSIC06) - MFG   \n",
      "3      Dollars          6  Manufacturing Survey (ANZSIC06) - MFG   \n",
      "4      Dollars          6  Manufacturing Survey (ANZSIC06) - MFG   \n",
      "...        ...        ...                                    ...   \n",
      "30055  Dollars          6  Manufacturing Survey (ANZSIC06) - MFG   \n",
      "30056  Dollars          6  Manufacturing Survey (ANZSIC06) - MFG   \n",
      "30057  Dollars          6  Manufacturing Survey (ANZSIC06) - MFG   \n",
      "30058  Dollars          6  Manufacturing Survey (ANZSIC06) - MFG   \n",
      "30059  Dollars          6  Manufacturing Survey (ANZSIC06) - MFG   \n",
      "\n",
      "                                                   Group  \\\n",
      "0      Industry by variable - Subannual Financial Col...   \n",
      "1      Industry by variable - Subannual Financial Col...   \n",
      "2      Industry by variable - Subannual Financial Col...   \n",
      "3      Industry by variable - Subannual Financial Col...   \n",
      "4      Industry by variable - Subannual Financial Col...   \n",
      "...                                                  ...   \n",
      "30055  Industry by variable - Subannual Financial Col...   \n",
      "30056  Industry by variable - Subannual Financial Col...   \n",
      "30057  Industry by variable - Subannual Financial Col...   \n",
      "30058  Industry by variable - Subannual Financial Col...   \n",
      "30059  Industry by variable - Subannual Financial Col...   \n",
      "\n",
      "                             Series_title_1  \\\n",
      "0      Meat and dairy product manufacturing   \n",
      "1      Meat and dairy product manufacturing   \n",
      "2      Meat and dairy product manufacturing   \n",
      "3      Meat and dairy product manufacturing   \n",
      "4      Meat and dairy product manufacturing   \n",
      "...                                     ...   \n",
      "30055                     All manufacturing   \n",
      "30056                     All manufacturing   \n",
      "30057                     All manufacturing   \n",
      "30058                     All manufacturing   \n",
      "30059                     All manufacturing   \n",
      "\n",
      "                                          Series_title_2  \\\n",
      "0                               Sales (operating income)   \n",
      "1                               Sales (operating income)   \n",
      "2                               Sales (operating income)   \n",
      "3                               Sales (operating income)   \n",
      "4                               Sales (operating income)   \n",
      "...                                                  ...   \n",
      "30055  Stocks of finished goods, trading goods and wo...   \n",
      "30056  Stocks of finished goods, trading goods and wo...   \n",
      "30057  Stocks of finished goods, trading goods and wo...   \n",
      "30058  Stocks of finished goods, trading goods and wo...   \n",
      "30059  Stocks of finished goods, trading goods and wo...   \n",
      "\n",
      "                                   Series_title_3 Series_title_4  \\\n",
      "0                                  Current prices     Unadjusted   \n",
      "1                                  Current prices     Unadjusted   \n",
      "2                                  Current prices     Unadjusted   \n",
      "3                                  Current prices     Unadjusted   \n",
      "4                                  Current prices     Unadjusted   \n",
      "...                                           ...            ...   \n",
      "30055  Deflated, at September 2010 quarter prices     Unadjusted   \n",
      "30056  Deflated, at September 2010 quarter prices     Unadjusted   \n",
      "30057  Deflated, at September 2010 quarter prices     Unadjusted   \n",
      "30058  Deflated, at September 2010 quarter prices     Unadjusted   \n",
      "30059  Deflated, at September 2010 quarter prices     Unadjusted   \n",
      "\n",
      "      Series_title_5  \n",
      "0                NaN  \n",
      "1                NaN  \n",
      "2                NaN  \n",
      "3                NaN  \n",
      "4                NaN  \n",
      "...              ...  \n",
      "30055            NaN  \n",
      "30056            NaN  \n",
      "30057            NaN  \n",
      "30058            NaN  \n",
      "30059            NaN  \n",
      "\n",
      "[30060 rows x 15 columns]\n"
     ]
    }
   ],
   "source": [
    "a=pd.read_csv(r\"C:\\Users\\kushw\\Downloads\\employee.csv\")\n",
    "print(a)"
   ]
  },
  {
   "cell_type": "code",
   "execution_count": 20,
   "id": "f31b6feb-c95c-4d25-bc34-6ddb10f81977",
   "metadata": {},
   "outputs": [
    {
     "name": "stdout",
     "output_type": "stream",
     "text": [
      "30060\n"
     ]
    }
   ],
   "source": [
    "print(a.Magnitude.count())"
   ]
  },
  {
   "cell_type": "code",
   "execution_count": 22,
   "id": "36792aa0-7cd9-49bc-8055-e0aca838b3f2",
   "metadata": {},
   "outputs": [
    {
     "name": "stdout",
     "output_type": "stream",
     "text": [
      "35749.295\n",
      "-26.0\n"
     ]
    }
   ],
   "source": [
    "print(a.Data_value.max())\n",
    "print(a.Data_value.min())"
   ]
  },
  {
   "cell_type": "code",
   "execution_count": 31,
   "id": "62663f8a-95b6-4e22-9835-1db8ac48db9f",
   "metadata": {
    "scrolled": true
   },
   "outputs": [
    {
     "name": "stdout",
     "output_type": "stream",
     "text": [
      "    ID        Start time   Completion time                  Email  \\\n",
      "0    1  6-18-25 14:25:10  6-18-25 14:26:56  0241cys090@niet.co.in   \n",
      "1    2  6-18-25 14:24:54  6-18-25 14:27:52  0241cse367@niet.co.in   \n",
      "2    3  6-18-25 14:24:58  6-18-25 14:28:06  0241cse304@niet.co.in   \n",
      "3    4  6-18-25 14:24:49  6-18-25 14:28:11  0241cse142@niet.co.in   \n",
      "4    5  6-18-25 14:25:09  6-18-25 14:28:17  0241cse268@niet.co.in   \n",
      "..  ..               ...               ...                    ...   \n",
      "87  88  6-18-25 14:26:55  6-18-25 14:33:59  0241cse263@niet.co.in   \n",
      "88  89  6-18-25 14:31:38  6-18-25 14:34:01  0241cse104@niet.co.in   \n",
      "89  90  6-18-25 14:26:00  6-18-25 14:34:04  0241cse024@niet.co.in   \n",
      "90  91  6-18-25 14:32:28  6-18-25 14:34:05  0241cse009@niet.co.in   \n",
      "91  92  6-18-25 14:26:28  6-18-25 14:34:16  0241cse074@niet.co.in   \n",
      "\n",
      "                    Name  Last modified time       NAME OF STUDENT  \\\n",
      "0   awanish kumar maurya                 NaN  AWANISH KUMAR MAURYA   \n",
      "1          Harshit Saini                 NaN         Harshit Saini   \n",
      "2         DIVYANSH GUPTA                 NaN       Divyansh Gupta    \n",
      "3            Rudra Verma                 NaN          Rudra Verma    \n",
      "4     Shivaji Bhai Patel                 NaN   Shivaji Bhai Patel    \n",
      "..                   ...                 ...                   ...   \n",
      "87         Sandesh Kumar                 NaN        Sandesh Kumar    \n",
      "88           ANKIT KUMAR                 NaN           ANKIT KUMAR   \n",
      "89    SANTOSH KUMAR SAHU                 NaN    Santosh Kumar Sahu   \n",
      "90       DHANANJAY SINGH                 NaN      Dhananjay Singh    \n",
      "91         Avneesh Kumar                 NaN        Avneesh Kumar    \n",
      "\n",
      "     ROLL NUMBER           ERP ID       OFFICIAL MAIL-ID          BRANCH  \\\n",
      "0   2.401330e+12  CYBER SECURITY   0241cys090@niet.co.in  Cybersecurity    \n",
      "1   2.401330e+12       0241cse367  0241cse367@niet.co.in             CSE   \n",
      "2   2.401330e+12       0241cse304  0241cse304@niet.co.in             CSE   \n",
      "3   2.401330e+12       0241cse142   0241cse142@gmail.com             CSE   \n",
      "4   2.401330e+12       0241cse268  0241cse268@niet.co.in             CSE   \n",
      "..           ...              ...                    ...             ...   \n",
      "87  2.401330e+12       0241cse263  0241cse263@niet.co.in             CSE   \n",
      "88  2.401330e+12       0241cse104  0241cse104@niet.co.in             CSE   \n",
      "89  2.401330e+12       0241CSE024  0241cse024@niet.co.in             CSE   \n",
      "90  2.401330e+12       0241cse009  0241cse009@niet.co.in             CSE   \n",
      "91  2.401330e+12       0241cse074  0241cse074@niet.co.in             CSE   \n",
      "\n",
      "   SECTION MARKS IN ENGLISH MARKS IN MATHS-1 MARKS IN BEEE/PHYSICS  \\\n",
      "0        A              100               90                    80   \n",
      "1        G               95               94                    96   \n",
      "2        F               97               93                    73   \n",
      "3        E               90               80                    85   \n",
      "4        B               98               70                    70   \n",
      "..     ...              ...              ...                   ...   \n",
      "87       D               80               85                    63   \n",
      "88       G               95               85                    82   \n",
      "89       A               98               81                    76   \n",
      "90       C               81               80                    75   \n",
      "91       G               90               33                    32   \n",
      "\n",
      "   MARKS IN DESIGN THINKING-1 TOTAL MARKS  \n",
      "0                          30         300  \n",
      "1                          97         382  \n",
      "2                          88         351  \n",
      "3                          75         330  \n",
      "4                          31         269  \n",
      "..                        ...         ...  \n",
      "87                         82         310  \n",
      "88                         79         400  \n",
      "89                         82         337  \n",
      "90                         75         311  \n",
      "91                         78         233  \n",
      "\n",
      "[92 rows x 17 columns]\n"
     ]
    }
   ],
   "source": [
    "#Read the csv file\n",
    "#Calculate the maximum and minimum marks in three subjects.(individually)\n",
    "#Apply aggregate function on the different groups(columns) in the given file. Perform inner join, outer join, left join and right join\n",
    "#Change the name of column official  email id to email id.\n",
    "#provide the name of the students whose score more than 80% in mathematics\n",
    "#provide the name of the students whose score less than 75% in mathematics\n",
    "#Add a new column sgpa=total marks /10\n",
    "#Add a new column grade acc to total marks.\n",
    "import pandas as pd\n",
    "x=pd.read_csv(r\"C:\\Users\\kushw\\Downloads\\C001 Details.csv\")\n",
    "print(x)"
   ]
  },
  {
   "cell_type": "code",
   "execution_count": 32,
   "id": "b1e2da64-671a-4f2b-b76a-8cf6055c0128",
   "metadata": {},
   "outputs": [
    {
     "name": "stdout",
     "output_type": "stream",
     "text": [
      "MARKS IN ENGLISH               99\n",
      "MARKS IN MATHS-1               96\n",
      "MARKS IN BEEE/PHYSICS          98\n",
      "MARKS IN DESIGN THINKING-1     99\n",
      "TOTAL MARKS                   753\n",
      "dtype: object\n"
     ]
    }
   ],
   "source": [
    "mx=x[['MARKS IN ENGLISH','MARKS IN MATHS-1','MARKS IN BEEE/PHYSICS','MARKS IN DESIGN THINKING-1','TOTAL MARKS']].max()\n",
    "print(mx)"
   ]
  },
  {
   "cell_type": "code",
   "execution_count": 33,
   "id": "20b84cce-17b6-46e5-b243-172668f90e2b",
   "metadata": {},
   "outputs": [
    {
     "name": "stdout",
     "output_type": "stream",
     "text": [
      "MARKS IN ENGLISH                1\n",
      "MARKS IN MATHS-1                1\n",
      "MARKS IN BEEE/PHYSICS           1\n",
      "MARKS IN DESIGN THINKING-1      1\n",
      "TOTAL MARKS                   203\n",
      "dtype: object\n"
     ]
    }
   ],
   "source": [
    "mn=x[['MARKS IN ENGLISH','MARKS IN MATHS-1','MARKS IN BEEE/PHYSICS','MARKS IN DESIGN THINKING-1','TOTAL MARKS']].min()\n",
    "print(mn)"
   ]
  }
 ],
 "metadata": {
  "kernelspec": {
   "display_name": "Python 3 (ipykernel)",
   "language": "python",
   "name": "python3"
  },
  "language_info": {
   "codemirror_mode": {
    "name": "ipython",
    "version": 3
   },
   "file_extension": ".py",
   "mimetype": "text/x-python",
   "name": "python",
   "nbconvert_exporter": "python",
   "pygments_lexer": "ipython3",
   "version": "3.12.3"
  }
 },
 "nbformat": 4,
 "nbformat_minor": 5
}
