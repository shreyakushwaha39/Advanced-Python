{
 "cells": [
  {
   "cell_type": "code",
   "execution_count": 1,
   "id": "1eb90244-a2a2-419d-b921-8ff69c8a43df",
   "metadata": {},
   "outputs": [
    {
     "name": "stdout",
     "output_type": "stream",
     "text": [
      "Help on class super in module builtins:\n",
      "\n",
      "class super(object)\n",
      " |  super() -> same as super(__class__, <first argument>)\n",
      " |  super(type) -> unbound super object\n",
      " |  super(type, obj) -> bound super object; requires isinstance(obj, type)\n",
      " |  super(type, type2) -> bound super object; requires issubclass(type2, type)\n",
      " |  Typical use to call a cooperative superclass method:\n",
      " |  class C(B):\n",
      " |      def meth(self, arg):\n",
      " |          super().meth(arg)\n",
      " |  This works for class methods too:\n",
      " |  class C(B):\n",
      " |      @classmethod\n",
      " |      def cmeth(cls, arg):\n",
      " |          super().cmeth(arg)\n",
      " |\n",
      " |  Methods defined here:\n",
      " |\n",
      " |  __get__(self, instance, owner=None, /)\n",
      " |      Return an attribute of instance, which is of type owner.\n",
      " |\n",
      " |  __getattribute__(self, name, /)\n",
      " |      Return getattr(self, name).\n",
      " |\n",
      " |  __init__(self, /, *args, **kwargs)\n",
      " |      Initialize self.  See help(type(self)) for accurate signature.\n",
      " |\n",
      " |  __repr__(self, /)\n",
      " |      Return repr(self).\n",
      " |\n",
      " |  ----------------------------------------------------------------------\n",
      " |  Static methods defined here:\n",
      " |\n",
      " |  __new__(*args, **kwargs)\n",
      " |      Create and return a new object.  See help(type) for accurate signature.\n",
      " |\n",
      " |  ----------------------------------------------------------------------\n",
      " |  Data descriptors defined here:\n",
      " |\n",
      " |  __self__\n",
      " |      the instance invoking super(); may be None\n",
      " |\n",
      " |  __self_class__\n",
      " |      the type of the instance invoking super(); may be None\n",
      " |\n",
      " |  __thisclass__\n",
      " |      the class invoking super()\n",
      "\n"
     ]
    }
   ],
   "source": [
    "#To enable multiple inheritance\n",
    "help(super)"
   ]
  },
  {
   "cell_type": "code",
   "execution_count": 7,
   "id": "3d2b13db-0c8f-4cb9-9884-c483eadb5c66",
   "metadata": {},
   "outputs": [
    {
     "name": "stdout",
     "output_type": "stream",
     "text": [
      "25\n",
      "20\n"
     ]
    }
   ],
   "source": [
    "#super () function\n",
    "class Rectangle:\n",
    "    def __init__(self,length,width):\n",
    "        self.length=length\n",
    "        self.width=width\n",
    "    def area(self):\n",
    "        return self.length*self.width\n",
    "    def perimeter(self):\n",
    "        return 2*(self.length+self.width)\n",
    "class Square(Rectangle):\n",
    "    def __init__(self,length):\n",
    "        super().__init__(length,length)\n",
    "obj1=Square(5)\n",
    "print(obj1.area())\n",
    "print(obj1.perimeter())"
   ]
  },
  {
   "cell_type": "code",
   "execution_count": 12,
   "id": "487c5d4d-feba-4be8-b5fc-165955234a24",
   "metadata": {},
   "outputs": [
    {
     "name": "stdout",
     "output_type": "stream",
     "text": [
      "Theis method is in parent class.\n",
      "This method is in child2\n",
      "Theis method is in parent class.\n",
      "This method is in child1\n",
      "Theis method is in parent class.\n"
     ]
    }
   ],
   "source": [
    "#hierarchical inheritance\n",
    "class Parent:\n",
    "    def meth1(self):\n",
    "        print(\"Theis method is in parent class.\")\n",
    "class Child1(Parent):\n",
    "    def meth2(self):\n",
    "        print(\"This method is in child1\")\n",
    "class Child2(Parent):\n",
    "    def meth3(self):\n",
    "        print(\"This method is in child2\")\n",
    "obj1=Child2()\n",
    "obj1.meth1()  #If I add print() then it returns None with the output\n",
    "obj1.meth3()\n",
    "obj2=Child1()\n",
    "obj2.meth1()\n",
    "obj2.meth2()\n",
    "obj3=Parent()\n",
    "obj3.meth1()"
   ]
  },
  {
   "cell_type": "code",
   "execution_count": 39,
   "id": "be1ac463-7d5c-401c-901d-cb1e8ed8e456",
   "metadata": {},
   "outputs": [
    {
     "name": "stdout",
     "output_type": "stream",
     "text": [
      "Name is Shreya and age is 18 and qual is MSC and gender is F\n",
      "Name is Shreya and age is 18 and Branch is CSE and Section is B\n"
     ]
    }
   ],
   "source": [
    "#multi level inheritance\n",
    "class Person:\n",
    "    def __init__(self,name,age):\n",
    "        self.name=name\n",
    "        self.age=age\n",
    "    def display(self):\n",
    "        print(f\"Name is {self.name} and age is {self.age}\",end=' ')\n",
    "class Teacher(Person):\n",
    "    def __init__(self,name,age,qual,gender):\n",
    "        super().__init__(name,age)\n",
    "        self.qual=qual\n",
    "        self.gender=gender\n",
    "    def displayt(self):\n",
    "        print(f\"and qual is {self.qual} and gender is {self.gender}\")\n",
    "class Student(Person):\n",
    "    def __init__(self,name,age,section,branch):\n",
    "        super().__init__(name,age)\n",
    "        self.section=section\n",
    "        self.branch=branch\n",
    "    def displays(self):\n",
    "        print(f\"and Branch is {self.branch} and Section is {self.section}\")\n",
    "obj1=Teacher('Shreya',18,'MSC','F')\n",
    "obj1.display()\n",
    "obj1.displayt()\n",
    "obj2=Student('Shreya',18,'B','CSE')\n",
    "obj2.display()\n",
    "obj2.displays()"
   ]
  },
  {
   "cell_type": "code",
   "execution_count": 29,
   "id": "66dea4ca-df13-41fb-8fa1-02dd8a35b2b5",
   "metadata": {},
   "outputs": [
    {
     "name": "stdout",
     "output_type": "stream",
     "text": [
      "Roll No: 124\n",
      "Name: Shreya\n",
      "marks1: 34\n",
      "marks2: 45\n",
      "marks3: 56\n",
      "Total marks: 135\n"
     ]
    }
   ],
   "source": [
    "#multiple inheritance\n",
    "class Student:\n",
    "    def set_student_details(self,roll_no,name):\n",
    "        self.roll_no=roll_no\n",
    "        self.name=name\n",
    "    def display_student_details(self):\n",
    "        print(\"Roll No:\",self.roll_no)\n",
    "        print(\"Name:\",self.name)\n",
    "class Marks(Student):\n",
    "    def setmarks(self,m1,m2,m3):\n",
    "        self.marks1=m1\n",
    "        self.marks2=m2\n",
    "        self.marks3=m3\n",
    "    def display_marks(self):\n",
    "        print(\"marks1:\",self.marks1)\n",
    "        print(\"marks2:\",self.marks2)\n",
    "        print(\"marks3:\",self.marks3)\n",
    "class Result(Marks):\n",
    "    def cal_Total(self):\n",
    "        self.total=self.marks1+self.marks2+self.marks3\n",
    "    def display_result(self):\n",
    "        print(\"Total marks:\",self.total)\n",
    "re=Result()\n",
    "re.set_student_details(124,'Shreya')\n",
    "re.setmarks(34,45,56)\n",
    "re.display_student_details()\n",
    "re.display_marks()\n",
    "re.cal_Total()\n",
    "re.display_result()"
   ]
  },
  {
   "cell_type": "code",
   "execution_count": 40,
   "id": "1e5ba939-b426-454d-8616-4db8a3a7cead",
   "metadata": {},
   "outputs": [
    {
     "name": "stdout",
     "output_type": "stream",
     "text": [
      "Roll No: 124\n",
      "Name: Shreya\n",
      "marks1: 34\n",
      "marks2: 45\n",
      "marks3: 56\n",
      "Total marks: 135\n"
     ]
    }
   ],
   "source": [
    "#hybrid inheritance\n",
    "class Student:\n",
    "    def set_student_details(self,roll_no,name):\n",
    "        self.roll_no=roll_no\n",
    "        self.name=name\n",
    "    def display_student_details(self):\n",
    "        print(\"Roll No:\",self.roll_no)\n",
    "        print(\"Name:\",self.name)\n",
    "class Marks:\n",
    "    def setmarks(self,m1,m2,m3):\n",
    "        self.marks1=m1\n",
    "        self.marks2=m2\n",
    "        self.marks3=m3\n",
    "    def display_marks(self):\n",
    "        print(\"marks1:\",self.marks1)\n",
    "        print(\"marks2:\",self.marks2)\n",
    "        print(\"marks3:\",self.marks3)\n",
    "class Result(Student,Marks):\n",
    "    def cal_Total(self):\n",
    "        self.total=self.marks1+self.marks2+self.marks3\n",
    "    def display_result(self):\n",
    "        print(\"Total marks:\",self.total)\n",
    "re=Result()\n",
    "re.set_student_details(124,'Shreya')\n",
    "re.setmarks(34,45,56)\n",
    "re.display_student_details()\n",
    "re.display_marks()\n",
    "re.cal_Total()\n",
    "re.display_result()"
   ]
  },
  {
   "cell_type": "code",
   "execution_count": 41,
   "id": "ed3c3a11-bf9d-42e6-88ed-7c20ae863e5b",
   "metadata": {},
   "outputs": [
    {
     "ename": "IndentationError",
     "evalue": "expected an indented block after function definition on line 24 (2863734614.py, line 25)",
     "output_type": "error",
     "traceback": [
      "  \u001b[36mCell\u001b[39m\u001b[36m \u001b[39m\u001b[32mIn[41]\u001b[39m\u001b[32m, line 25\u001b[39m\n\u001b[31m    \u001b[39m\u001b[31mself.name1=name1\u001b[39m\n    ^\n\u001b[31mIndentationError\u001b[39m\u001b[31m:\u001b[39m expected an indented block after function definition on line 24\n"
     ]
    }
   ],
   "source": [
    "#WAP that extends the class Employee.Derive two classes Manager and Team Leader from Employee class.Display all the details of the employee\n",
    "#working under a particular Manager and Team Leader.\n",
    "class Employee:\n",
    "    print(\"_____Employee Details______\")\n",
    "    def __init__(self,name1,name2,name3):\n",
    "        self.name1=name1\n",
    "        self.name2=name2\n",
    "        self.name3=name3\n",
    "    def display(self):\n",
    "        print(f\"Employee1 is {self.name1}\")\n",
    "        print(f\"Employee2 is {Self.name2}\")\n",
    "        print(f\"Employee3 is {Self.name3}\")\n",
    "class Manager:\n",
    "    def __init__(self,name1,city1):\n",
    "        self.name1=name1\n",
    "        self.city1=city1\n",
    "    def display(self):\n",
    "        print(f\"Employee1 name is {self.name1} and he is belongs to {self.city1}\")\n",
    "    def __init__(self,name2,city2):\n",
    "        self.name1=name2\n",
    "        self.city1=city2\n",
    "    def display(self):\n",
    "        print(f\"Employee2 name is {self.name2} and he is belongs to {self.city2}\")\n",
    "        def __init__(self,name3,city3):\n",
    "        self.name1=name1\n",
    "        self.city1=city1\n",
    "    def display(self):\n",
    "        print(f\"Employee3 name is {self.name3} and he is belongs to {self.city3}\")\n",
    "class TeamLeader:\n",
    "    def __init__(self,name1,city1,leader1):\n",
    "        self.name1=name1\n",
    "        self.city1=city1\n",
    "        self.leader1=leader1\n",
    "    def display(self):\n",
    "        print(f\"Employee1 name is {self.name1} and he is belongs to {self.city1} and the group leader is {self.leader1}\")\n",
    "    def __init__(self,name2,city2,leader2):\n",
    "        self.name1=name2\n",
    "        self.city1=city2\n",
    "        self.leader2=leader2\n",
    "    def display(self):\n",
    "        print(f\"Employee2 name is {self.name2} and he is belongs to {self.city2} and the group leader is {self.leader2}\")\n",
    "        def __init__(self,name3,city3,leader3):\n",
    "        self.name1=name1\n",
    "        self.city1=city1\n",
    "        self.leader3=leader3\n",
    "    def display(self):\n",
    "        print(f\"Employee3 name is {self.name3} and he is belongs to {self.city3} and the group leader is {self.leader3}\")\n"
   ]
  },
  {
   "cell_type": "code",
   "execution_count": 43,
   "id": "620135d3-4203-4130-81a9-5c31dc57b059",
   "metadata": {},
   "outputs": [
    {
     "name": "stdin",
     "output_type": "stream",
     "text": [
      "enter no. of elements: 4\n",
      " 9\n",
      " 3\n",
      " 4\n",
      " 12\n"
     ]
    },
    {
     "name": "stdout",
     "output_type": "stream",
     "text": [
      "max: 12\n"
     ]
    }
   ],
   "source": [
    "class numbers:\n",
    "    def __init__(self,l):\n",
    "        self.l=l\n",
    "    def max(self):\n",
    "        mx=self.l[0]\n",
    "        for i in self.l:\n",
    "            if i>mx:\n",
    "                mx=i\n",
    "        return mx\n",
    "       \n",
    "l=[]\n",
    "n=int(input(\"enter no. of elements:\"))\n",
    "for i in range(n):\n",
    "    a=int(input())\n",
    "    l.append(a)\n",
    "p1=numbers(l)\n",
    "print(\"max:\",p1.max())\n",
    "\n"
   ]
  },
  {
   "cell_type": "code",
   "execution_count": 44,
   "id": "fa3d17be-dc6e-4ec9-8a91-9268c27f1826",
   "metadata": {},
   "outputs": [
    {
     "name": "stdout",
     "output_type": "stream",
     "text": [
      "This is method 1 in class A\n",
      "This is method 2 in class B\n",
      "This is method 3 in class C\n"
     ]
    }
   ],
   "source": [
    "#Diamond Problem\n",
    "class A:\n",
    "    def learn(self):\n",
    "        print(\"This is method 1 in class A\")\n",
    "class B(A):\n",
    "    def learn(self):\n",
    "        print(\"This is method 2 in class B\")\n",
    "class C(A):\n",
    "    def learn(self):\n",
    "        print(\"This is method 3 in class C\")\n",
    "class D(C,B):\n",
    "    pass\n",
    "d=D()\n",
    "A.learn(d)\n",
    "B.learn(d)\n",
    "C.learn(d)"
   ]
  },
  {
   "cell_type": "code",
   "execution_count": null,
   "id": "9109e2b1-082a-464d-a197-b0347c1297de",
   "metadata": {},
   "outputs": [],
   "source": []
  }
 ],
 "metadata": {
  "kernelspec": {
   "display_name": "Python 3 (ipykernel)",
   "language": "python",
   "name": "python3"
  },
  "language_info": {
   "codemirror_mode": {
    "name": "ipython",
    "version": 3
   },
   "file_extension": ".py",
   "mimetype": "text/x-python",
   "name": "python",
   "nbconvert_exporter": "python",
   "pygments_lexer": "ipython3",
   "version": "3.12.3"
  }
 },
 "nbformat": 4,
 "nbformat_minor": 5
}
