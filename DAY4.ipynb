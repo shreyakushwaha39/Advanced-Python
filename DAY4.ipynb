{
 "cells": [
  {
   "cell_type": "code",
   "execution_count": 2,
   "id": "1e931fee-c654-4db0-a352-3e7933b080c9",
   "metadata": {},
   "outputs": [
    {
     "name": "stdout",
     "output_type": "stream",
     "text": [
      "B.method() called\n",
      "[<class '__main__.B'>, <class '__main__.A'>, <class 'object'>]\n"
     ]
    }
   ],
   "source": [
    "#Method Resolution Order (MRO)\n",
    "class A:\n",
    "    def method(self):\n",
    "        print(\"A.method() called\")\n",
    "class B(A):\n",
    "    def method(self):\n",
    "        print(\"B.method() called\")\n",
    "b=B()\n",
    "b.method()\n",
    "print(B.mro())"
   ]
  },
  {
   "cell_type": "code",
   "execution_count": 4,
   "id": "8e429512-4332-4eca-9fe0-5eef41cc5a4b",
   "metadata": {},
   "outputs": [
    {
     "name": "stdout",
     "output_type": "stream",
     "text": [
      "A.method() called\n",
      "[<class '__main__.C'>, <class '__main__.B'>, <class '__main__.A'>, <class 'object'>]\n"
     ]
    }
   ],
   "source": [
    "#MRO in multiple inheritance\n",
    "class A:\n",
    "    def method(self):\n",
    "        print(\"A.method() called\")\n",
    "class B:\n",
    "    pass \n",
    "class C(B,A):\n",
    "    pass\n",
    "c=C()\n",
    "c.method()\n",
    "print(C.mro())"
   ]
  },
  {
   "cell_type": "code",
   "execution_count": 6,
   "id": "11a2cfe9-5ee9-4416-9f2c-8179f01fd428",
   "metadata": {},
   "outputs": [
    {
     "name": "stdout",
     "output_type": "stream",
     "text": [
      "A.method() called\n",
      "[<class '__main__.D'>, <class '__main__.C'>, <class '__main__.A'>, <class '__main__.B'>, <class 'object'>]\n"
     ]
    }
   ],
   "source": [
    "#MRO in hybrid inheritance\n",
    "class A:\n",
    "    def method(self):\n",
    "        print(\"A.method() called\")\n",
    "class B:\n",
    "    def method(self):\n",
    "        print(\"B.method() called\")\n",
    "class C(A,B):\n",
    "    pass\n",
    "class D(C,B):\n",
    "    pass\n",
    "d=D()\n",
    "d.method()\n",
    "print(D.mro())"
   ]
  },
  {
   "cell_type": "code",
   "execution_count": 9,
   "id": "a7469717-2808-4b06-a78e-91da3c6f73c6",
   "metadata": {},
   "outputs": [
    {
     "name": "stdout",
     "output_type": "stream",
     "text": [
      "120\n"
     ]
    }
   ],
   "source": [
    "#Abstract class\n",
    "from abc import ABC, abstractmethod\n",
    "class Shape(ABC):\n",
    "    @abstractmethod\n",
    "    def area(self):\n",
    "        return 0\n",
    "class Rectangle(Shape):\n",
    "    def __init__(self):\n",
    "        self.length=10;\n",
    "        self.breadth=12;\n",
    "    def area(self):\n",
    "        return self.length*self.breadth\n",
    "rec=Rectangle()\n",
    "print(rec.area())"
   ]
  },
  {
   "cell_type": "code",
   "execution_count": 19,
   "id": "c0bc3f59-9d59-406c-8ecf-be8832b0b018",
   "metadata": {},
   "outputs": [
    {
     "name": "stdout",
     "output_type": "stream",
     "text": [
      "5\n",
      "6\n"
     ]
    },
    {
     "name": "stdin",
     "output_type": "stream",
     "text": [
      "Enter no of sides: 8\n"
     ]
    },
    {
     "name": "stdout",
     "output_type": "stream",
     "text": [
      "8\n"
     ]
    }
   ],
   "source": [
    "#Create an abstract class named polygon create an abstract method under polygon as no. of sides.Inherited in pentagon,hexagon,polylateral.\n",
    "from abc import ABC, abstractmethod\n",
    "class Polygon:\n",
    "    @abstractmethod\n",
    "    def no_of_sides(self,n):\n",
    "        n=int(input(\"Enter no of sides:\"))\n",
    "        return n\n",
    "class Pentagon(Polygon):\n",
    "    def no_of_sides1(self,n1):\n",
    "        n1=5\n",
    "        return n1\n",
    "class Hexagon(Pentagon):\n",
    "    def no_of_sides2(self,n2):\n",
    "        n2=6\n",
    "        return n2\n",
    "class Polylateral(Hexagon):\n",
    "    def no_of_sides3(self,n3):\n",
    "        n3=int(input(\"Enter no of sides:\"))\n",
    "        return n3\n",
    "sides1=Pentagon()\n",
    "print(sides1.no_of_sides1(0))\n",
    "sides2=Hexagon()\n",
    "print(sides2.no_of_sides2(0))\n",
    "sides3=Polylateral()\n",
    "print(sides3.no_of_sides3(0))"
   ]
  },
  {
   "cell_type": "code",
   "execution_count": 21,
   "id": "0562293b-21fa-45db-aaf4-e45f5f55bf1f",
   "metadata": {},
   "outputs": [
    {
     "name": "stdout",
     "output_type": "stream",
     "text": [
      "Petrol\n",
      "Max speed 350\n",
      "Diesel\n",
      "Max speed 240\n"
     ]
    }
   ],
   "source": [
    "#Polymorphism in Built-in Function\n",
    "#Polymorphism in class method\n",
    "class Ferrari:\n",
    "    def fuel_type(self):\n",
    "        print(\"Petrol\")\n",
    "    def max_speed(self):\n",
    "        print(\"Max speed 350\")\n",
    "class BMW:\n",
    "    def fuel_type(self):\n",
    "        print(\"Diesel\")\n",
    "    def max_speed(self):\n",
    "        print(\"Max speed 240\")\n",
    "ferrari=Ferrari()\n",
    "bmw=BMW()\n",
    "for car in (ferrari,bmw):\n",
    "    car.fuel_type()\n",
    "    car.max_speed()"
   ]
  },
  {
   "cell_type": "code",
   "execution_count": 24,
   "id": "f4bcbe63-d92f-49b4-bbea-1b50c72637fd",
   "metadata": {},
   "outputs": [
    {
     "ename": "TypeError",
     "evalue": "add() missing 1 required positional argument: 'c'",
     "output_type": "error",
     "traceback": [
      "\u001b[31m---------------------------------------------------------------------------\u001b[39m",
      "\u001b[31mTypeError\u001b[39m                                 Traceback (most recent call last)",
      "\u001b[36mCell\u001b[39m\u001b[36m \u001b[39m\u001b[32mIn[24]\u001b[39m\u001b[32m, line 8\u001b[39m\n\u001b[32m      6\u001b[39m     x=a+b+c\n\u001b[32m      7\u001b[39m     \u001b[38;5;28mprint\u001b[39m(x)\n\u001b[32m----> \u001b[39m\u001b[32m8\u001b[39m \u001b[43madd\u001b[49m\u001b[43m(\u001b[49m\u001b[32;43m9\u001b[39;49m\u001b[43m,\u001b[49m\u001b[32;43m6\u001b[39;49m\u001b[43m)\u001b[49m\n\u001b[32m      9\u001b[39m add(\u001b[32m5\u001b[39m,\u001b[32m6\u001b[39m,\u001b[32m7\u001b[39m)\n",
      "\u001b[31mTypeError\u001b[39m: add() missing 1 required positional argument: 'c'"
     ]
    }
   ],
   "source": [
    "#Program to demonstrate method overloading\n",
    "#Python does not support overloading we can use decorators to support overloading\n",
    "def add(a,b):\n",
    "    x=a+b\n",
    "    print(x)\n",
    "def add(a,b,c):\n",
    "    x=a+b+c\n",
    "    print(x)\n",
    "add(9,6)\n",
    "add(5,6,7)"
   ]
  },
  {
   "cell_type": "markdown",
   "id": "914793a8-1ea0-4bab-a59b-4d241a81b3fe",
   "metadata": {},
   "source": [
    "<font color='green'><h4>There are two ways to achieve method overloading in Python.  </h4></font>\n",
    "1. By passing data type as first argument.\n",
    "2. Using multiple dispatch decorator."
   ]
  },
  {
   "cell_type": "code",
   "execution_count": 2,
   "id": "7e66166e-99ff-4cc5-ae92-60f6a5794cab",
   "metadata": {},
   "outputs": [
    {
     "name": "stdout",
     "output_type": "stream",
     "text": [
      "40\n",
      "Attendance for 3 Lectures\n"
     ]
    }
   ],
   "source": [
    "#By passing data type as first argument\n",
    "def add(dt,*args):\n",
    "    if dt=='int':\n",
    "        s=0\n",
    "    if dt=='str':\n",
    "        s=''\n",
    "    for v in args:\n",
    "        s=s+v\n",
    "    return s\n",
    "print(add('int',0,5,8,5,6,7,9))\n",
    "print(add('str','Attendance',' ','for',' ', '3 Lectures'))"
   ]
  },
  {
   "cell_type": "markdown",
   "id": "fef5fedd-da9a-4e77-8e6c-cbde50edc0a5",
   "metadata": {},
   "source": [
    "<font color='blue'><h1>Encapsulation</h1></font>\n",
    "* Encapsulation is a mechanism of wrapping the data(variables) and code acting on the data(methods) together as a single unit."
   ]
  },
  {
   "cell_type": "code",
   "execution_count": 35,
   "id": "8a1ca968-a98b-40bc-9cba-1cd50fd7e976",
   "metadata": {},
   "outputs": [
    {
     "name": "stdout",
     "output_type": "stream",
     "text": [
      "Selling Price: 1000\n",
      "Selling Price: 9000\n"
     ]
    }
   ],
   "source": [
    "class Computer:\n",
    "    def __init__(self):\n",
    "        self.__maxprice=1000\n",
    "    def sell(self):\n",
    "        print(\"Selling Price: {}\".format(self.__maxprice))\n",
    "    def set_max_price(self,price):\n",
    "        self.__maxprice=price\n",
    "c=Computer()\n",
    "c.sell()\n",
    "c.set_max_price(9000)\n",
    "c.sell()\n",
    "#print(Computer.__maxprice())\n",
    "#print(c.__maxprice())"
   ]
  },
  {
   "cell_type": "markdown",
   "id": "0d1a0203-fd96-4810-884a-d6109ae97052",
   "metadata": {},
   "source": [
    "<font color='blue'><h1>Access Methods in Python</h1></font>\n",
    "1. Public\n",
    "2. Protected\n",
    "3. Private\n",
    "\n",
    "<font color='green'><h2>Protected Modifier:</h2></font> The members of a class that are declared protected are only accessible to a class derived from it.\n",
    "* Data members of a class are declared protected by adding <font color='red'>a single underscore_'</font> symbol before data members of that class."
   ]
  },
  {
   "cell_type": "code",
   "execution_count": 38,
   "id": "92d6efb6-3aba-4216-af7e-03f73fcacd2d",
   "metadata": {},
   "outputs": [
    {
     "name": "stdout",
     "output_type": "stream",
     "text": [
      "Name: xyz\n",
      "Roll No: 103\n",
      "Name: xyz\n",
      "Branch: CSE\n"
     ]
    }
   ],
   "source": [
    "class Student:\n",
    "    __name=None\n",
    "    _rollno=None\n",
    "    _branch=None\n",
    "    def __init__(self,name,rollno,branch):\n",
    "        self._name=name\n",
    "        self._rollno=rollno\n",
    "        self._branch=branch\n",
    "    def display_info(self):\n",
    "        print(\"Roll No:\",self._rollno)\n",
    "        print(\"Name:\",self._name)\n",
    "        print(\"Branch:\",self._branch)\n",
    "class NIET(Student):\n",
    "    def __init__(self,name,rollno,branch):\n",
    "        Student.__init__(self,name,rollno,branch)\n",
    "    def display(self):\n",
    "        print(\"Name:\",self._name)\n",
    "        self.display_info()\n",
    "N=NIET('xyz',103,'CSE')\n",
    "N.display()\n"
   ]
  },
  {
   "cell_type": "markdown",
   "id": "be2adc4b-c1f9-49f8-a578-3827833d4402",
   "metadata": {},
   "source": [
    "<font color='blue'><h1>Iterators in Python</h1></font>\n",
    "An iterable is an object that contains a sequence or countable value that can be traversed upon.It's the object that is used to iterate over iterable objects like lists,tuple,dict,sets,etc.\n",
    "\n",
    "<font color='green'><h2>Iterable:</h2></font> Iterables are objects that act as iterables container to get the iterator.\n",
    "\n",
    "* Anything that you can loop over in Python is called an <font color='red'>iterable.</fpnt>\n",
    "* For an object to be considered an iterable,it must have iter() method.\n",
    "\n",
    "                                               Tuples\n",
    "                                    Numbers  Lists  Sets   Range\n",
    "                                         Strings     Dictionary\n",
    "\n",
    "<font color='green'><h2>Iterator Protocol:</h2></font> The iterator objects are required to support the following two methods, which together form the iterator protocol.  \n",
    "1. <font color='violet'><h2>iterator.iter():</h2></font> Returns the iterator objcect itself.This is required to allow both containers and iterators to be used with 'for' and 'in' statements. <font color='red'>(Present in iterables)</font>\n",
    "2. <font color='violet'><h2>iterator.next():</h2></font> Return the next item from the container.If there are no more items, raise the stop iteration exception. <font color='red'>(Present in iterator)</font>"
   ]
  },
  {
   "cell_type": "code",
   "execution_count": 4,
   "id": "02b6ca29-08c2-44e0-be6f-a050a22980e8",
   "metadata": {},
   "outputs": [
    {
     "name": "stdout",
     "output_type": "stream",
     "text": [
      "['__add__', '__class__', '__class_getitem__', '__contains__', '__delattr__', '__delitem__', '__dir__', '__doc__', '__eq__', '__format__', '__ge__', '__getattribute__', '__getitem__', '__getstate__', '__gt__', '__hash__', '__iadd__', '__imul__', '__init__', '__init_subclass__', '__iter__', '__le__', '__len__', '__lt__', '__mul__', '__ne__', '__new__', '__reduce__', '__reduce_ex__', '__repr__', '__reversed__', '__rmul__', '__setattr__', '__setitem__', '__sizeof__', '__str__', '__subclasshook__', 'append', 'clear', 'copy', 'count', 'extend', 'index', 'insert', 'pop', 'remove', 'reverse', 'sort']\n"
     ]
    }
   ],
   "source": [
    "A=[1,2,3,4,5]\n",
    "print(dir(A))"
   ]
  },
  {
   "cell_type": "code",
   "execution_count": 5,
   "id": "4d387a5d-5d2c-4c6d-b48b-1b4bfdc9560a",
   "metadata": {},
   "outputs": [
    {
     "name": "stdout",
     "output_type": "stream",
     "text": [
      "['__abs__', '__add__', '__and__', '__bool__', '__ceil__', '__class__', '__delattr__', '__dir__', '__divmod__', '__doc__', '__eq__', '__float__', '__floor__', '__floordiv__', '__format__', '__ge__', '__getattribute__', '__getnewargs__', '__getstate__', '__gt__', '__hash__', '__index__', '__init__', '__init_subclass__', '__int__', '__invert__', '__le__', '__lshift__', '__lt__', '__mod__', '__mul__', '__ne__', '__neg__', '__new__', '__or__', '__pos__', '__pow__', '__radd__', '__rand__', '__rdivmod__', '__reduce__', '__reduce_ex__', '__repr__', '__rfloordiv__', '__rlshift__', '__rmod__', '__rmul__', '__ror__', '__round__', '__rpow__', '__rrshift__', '__rshift__', '__rsub__', '__rtruediv__', '__rxor__', '__setattr__', '__sizeof__', '__str__', '__sub__', '__subclasshook__', '__truediv__', '__trunc__', '__xor__', 'as_integer_ratio', 'bit_count', 'bit_length', 'conjugate', 'denominator', 'from_bytes', 'imag', 'is_integer', 'numerator', 'real', 'to_bytes']\n"
     ]
    }
   ],
   "source": [
    "x=10\n",
    "print(dir(x))"
   ]
  },
  {
   "cell_type": "code",
   "execution_count": 6,
   "id": "f7152336-5be5-46d5-b764-065305964b37",
   "metadata": {},
   "outputs": [
    {
     "name": "stdout",
     "output_type": "stream",
     "text": [
      "['__class__', '__delattr__', '__dir__', '__doc__', '__eq__', '__format__', '__ge__', '__getattribute__', '__getstate__', '__gt__', '__hash__', '__init__', '__init_subclass__', '__iter__', '__le__', '__length_hint__', '__lt__', '__ne__', '__new__', '__next__', '__reduce__', '__reduce_ex__', '__repr__', '__setattr__', '__setstate__', '__sizeof__', '__str__', '__subclasshook__']\n"
     ]
    }
   ],
   "source": [
    "A=[1,2,3,4,5]\n",
    "value=A.__iter__()\n",
    "print(dir(value))"
   ]
  },
  {
   "cell_type": "markdown",
   "id": "55369cae-ed33-461c-b29b-d40abf9155b3",
   "metadata": {},
   "source": [
    "Strings,Lists,Tuples -*Iterators* *(Sequence)*\n",
    "Dictionary,Sets,Files,Objects - *Iterables*\n",
    "\n",
    ">\"MISSISSIPI\"\n",
    "**Substring** : M,MI,MIS,SSI,IPI (ordered)\n",
    "**Subsequence** : MIPI (unordered)\n",
    "\n",
    "**iter() and next() methods in Python**: \n",
    "**iter():** \n",
    "**Syntax**:\n",
    "*iter(object,sentinel)*\n",
    "- iter() function creates an object which can be iterated one element at a time.\n",
    "\n",
    "**Object**: Object whose iterates has to be created (tuples,lists,etc.)\n",
    "\n",
    "**Sentinel(optional)**: Special value that used to represent at the end of sequence."
   ]
  },
  {
   "cell_type": "code",
   "execution_count": 8,
   "id": "09ce009b-67d1-46c5-82bc-2d3e9386806b",
   "metadata": {},
   "outputs": [
    {
     "name": "stdout",
     "output_type": "stream",
     "text": [
      "<list_iterator object at 0x000001CD44A87640>\n",
      "['__add__', '__class__', '__class_getitem__', '__contains__', '__delattr__', '__delitem__', '__dir__', '__doc__', '__eq__', '__format__', '__ge__', '__getattribute__', '__getitem__', '__getstate__', '__gt__', '__hash__', '__iadd__', '__imul__', '__init__', '__init_subclass__', '__iter__', '__le__', '__len__', '__lt__', '__mul__', '__ne__', '__new__', '__reduce__', '__reduce_ex__', '__repr__', '__reversed__', '__rmul__', '__setattr__', '__setitem__', '__sizeof__', '__str__', '__subclasshook__', 'append', 'clear', 'copy', 'count', 'extend', 'index', 'insert', 'pop', 'remove', 'reverse', 'sort']\n",
      "['__class__', '__delattr__', '__dir__', '__doc__', '__eq__', '__format__', '__ge__', '__getattribute__', '__getstate__', '__gt__', '__hash__', '__init__', '__init_subclass__', '__iter__', '__le__', '__length_hint__', '__lt__', '__ne__', '__new__', '__next__', '__reduce__', '__reduce_ex__', '__repr__', '__setattr__', '__setstate__', '__sizeof__', '__str__', '__subclasshook__']\n"
     ]
    }
   ],
   "source": [
    "x=[1,2,3,4,5,6,7,8]\n",
    "value=x.__iter__()\n",
    "print(value)\n",
    "print(dir(x))\n",
    "print(dir(value))"
   ]
  },
  {
   "cell_type": "code",
   "execution_count": 1,
   "id": "4c4767aa-fb97-4717-903b-b105b5d746c4",
   "metadata": {},
   "outputs": [
    {
     "name": "stdout",
     "output_type": "stream",
     "text": [
      "1\n",
      "2\n",
      "3\n",
      "4\n"
     ]
    }
   ],
   "source": [
    "x=[1,2,3,4]\n",
    "value=x.__iter__()\n",
    "item1=value.__next__()\n",
    "print(item1)\n",
    "item2=value.__next__()\n",
    "print(item2)\n",
    "item3=value.__next__()\n",
    "print(item3)\n",
    "item4=value.__next__()\n",
    "print(item4)\n",
    "#item5=value.__next__()\n",
    "#print(item5)"
   ]
  },
  {
   "cell_type": "code",
   "execution_count": 12,
   "id": "31327eca-7601-4d05-b8c7-90ab05c007fb",
   "metadata": {},
   "outputs": [
    {
     "name": "stdout",
     "output_type": "stream",
     "text": [
      "1\n"
     ]
    }
   ],
   "source": [
    "numbers=[1,2,3,4]\n",
    "value=iter(numbers) \n",
    "item1=next(value)\n",
    "print(item1)"
   ]
  },
  {
   "cell_type": "code",
   "execution_count": 13,
   "id": "be4a62e8-dcf7-4dc2-be87-be61a5a305a7",
   "metadata": {},
   "outputs": [
    {
     "name": "stdout",
     "output_type": "stream",
     "text": [
      "P\n"
     ]
    }
   ],
   "source": [
    "st=\"Python\"\n",
    "it2=iter(st)\n",
    "print(next(it2))"
   ]
  },
  {
   "cell_type": "code",
   "execution_count": 15,
   "id": "46ca67ee-bd14-453b-8013-0937201fa4ff",
   "metadata": {},
   "outputs": [
    {
     "name": "stdout",
     "output_type": "stream",
     "text": [
      "1\n",
      "2\n",
      "3\n",
      "4\n",
      "5\n"
     ]
    }
   ],
   "source": [
    "#Customize for loop\n",
    "def customize_for_loop(iterable,action):\n",
    "    iterator=iter(iterable)\n",
    "    done_looping=False\n",
    "    while not done_looping:\n",
    "        try:\n",
    "            item=next(iterator)\n",
    "        except StopIteration:\n",
    "             done_looping=True\n",
    "        else:\n",
    "            action(item)\n",
    "numbers=[1,2,3,4,5]\n",
    "customize_for_loop(numbers,print)"
   ]
  },
  {
   "cell_type": "code",
   "execution_count": null,
   "id": "6ea5574b-04ea-4f39-9942-1844acb0fa44",
   "metadata": {},
   "outputs": [],
   "source": []
  }
 ],
 "metadata": {
  "kernelspec": {
   "display_name": "Python 3 (ipykernel)",
   "language": "python",
   "name": "python3"
  },
  "language_info": {
   "codemirror_mode": {
    "name": "ipython",
    "version": 3
   },
   "file_extension": ".py",
   "mimetype": "text/x-python",
   "name": "python",
   "nbconvert_exporter": "python",
   "pygments_lexer": "ipython3",
   "version": "3.12.3"
  }
 },
 "nbformat": 4,
 "nbformat_minor": 5
}
