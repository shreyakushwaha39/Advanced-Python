{
 "cells": [
  {
   "cell_type": "code",
   "execution_count": 1,
   "id": "835ae968-d550-44d1-ad8a-543bcd2579a5",
   "metadata": {},
   "outputs": [],
   "source": [
    "#GUI\n",
    "from tkinter import *"
   ]
  },
  {
   "cell_type": "code",
   "execution_count": 2,
   "id": "5592b14d-1c46-480c-8154-af84765e303b",
   "metadata": {},
   "outputs": [],
   "source": [
    "#Creation of Windows\n",
    "\n",
    "from tkinter import Tk\n",
    "root=Tk()\n",
    "root.mainloop()\n",
    "\n",
    "## Tk() is the class which is used to create the root windows of the application."
   ]
  },
  {
   "cell_type": "code",
   "execution_count": 5,
   "id": "e6840717-e04d-40d1-9c84-aa57012a1e1d",
   "metadata": {},
   "outputs": [],
   "source": [
    "#To set the Title of your main window\n",
    "from tkinter import Tk\n",
    "root=Tk()\n",
    "root.title(\"GUI\")\n",
    "root.mainloop()"
   ]
  },
  {
   "cell_type": "code",
   "execution_count": 7,
   "id": "ea33cad2-a265-48eb-8200-b7da1e13c92d",
   "metadata": {},
   "outputs": [
    {
     "name": "stdout",
     "output_type": "stream",
     "text": [
      "Screen Width: 1536\n",
      "Screen Heigth: 864\n"
     ]
    }
   ],
   "source": [
    "#To check the screen size\n",
    "from tkinter import Tk\n",
    "root=Tk()\n",
    "screen_width=root.winfo_screenwidth()\n",
    "screen_height=root.winfo_screenheight()\n",
    "print(\"Screen Width:\",screen_width)\n",
    "print(\"Screen Heigth:\",screen_height)"
   ]
  },
  {
   "cell_type": "code",
   "execution_count": 9,
   "id": "4d522bbd-7770-44d7-9623-6249a56ce6e0",
   "metadata": {},
   "outputs": [],
   "source": [
    "#To make window full screen\n",
    "from tkinter import Tk\n",
    "root=Tk()\n",
    "root.attributes('-fullscreen',True)\n",
    "root.mainloop()"
   ]
  },
  {
   "cell_type": "code",
   "execution_count": 13,
   "id": "8782eed3-0829-425c-af91-ba8a6caae53a",
   "metadata": {},
   "outputs": [],
   "source": [
    "#To resize window\n",
    "from tkinter import Tk\n",
    "root=Tk()\n",
    "root.geometry(\"420x500+200+200\")\n",
    "root.mainloop()\n",
    "#Make the window 420x500 and place at position(200,200)."
   ]
  },
  {
   "cell_type": "code",
   "execution_count": 16,
   "id": "68a6ce2c-2524-4d56-85bb-85c824bfa750",
   "metadata": {},
   "outputs": [],
   "source": [
    "#To create Label as a child root of the window\n",
    "from tkinter import Tk, Label\n",
    "root=Tk()\n",
    "msg=Label(root,text=\"My name is Shreya Kushwaha\")\n",
    "msg.pack()\n",
    "root.mainloop()"
   ]
  },
  {
   "cell_type": "code",
   "execution_count": 25,
   "id": "4d593438-ee46-4ed2-9090-d3825d534178",
   "metadata": {},
   "outputs": [],
   "source": [
    "#To modify font\n",
    "from tkinter import *\n",
    "root=Tk()\n",
    "msg=Label(root,text=\"I'm Shreya Kushwaha\")\n",
    "msg.config(font=('algerian',1000,'italic bold underline'))\n",
    "msg.pack()\n",
    "root.mainloop()"
   ]
  },
  {
   "cell_type": "code",
   "execution_count": 32,
   "id": "a583e98d-f365-464b-a1ca-7b224f6fcd6c",
   "metadata": {},
   "outputs": [],
   "source": [
    "#To display two different labels with colored background\n",
    "from tkinter import *\n",
    "root=Tk()\n",
    "Label1=Label(root,text=\"My name is Shreya Kushwaha\",background='violet')\n",
    "Label2=Label(root,text=\"My name is Shreya Kushwaha\",background='indigo')\n",
    "Label3=Label(root,text=\"My name is Shreya Kushwaha\",background='blue')\n",
    "Label4=Label(root,text=\"My name is Shreya Kushwaha\",background='green')\n",
    "Label5=Label(root,text=\"My name is Shreya Kushwaha\",background='yellow')\n",
    "Label6=Label(root,text=\"My name is Shreya Kushwaha\",background='orange')\n",
    "Label7=Label(root,text=\"My name is Shreya Kushwaha\",background='red')\n",
    "Label1.pack()\n",
    "Label2.pack()\n",
    "Label3.pack()\n",
    "Label4.pack()\n",
    "Label5.pack()\n",
    "Label6.pack()\n",
    "Label7.pack()\n",
    "root.mainloop()"
   ]
  },
  {
   "cell_type": "markdown",
   "id": "1427fe18-f493-40b0-a638-5c78f6c207d9",
   "metadata": {},
   "source": [
    "**TYPES OF PACKING**\n",
    "\n",
    "1. **Fill**: Widget expands to take up any extra space(x,y or both)\n",
    "2. **Pad x/Pad y**: Outter Padding\n",
    "3. **ipadx/ipady**: Inner Padding\n",
    "4.  **Side**: Which side to stack from.Default to top to bottom."
   ]
  },
  {
   "cell_type": "code",
   "execution_count": 41,
   "id": "f5966826-aed1-4076-8147-277850229ac0",
   "metadata": {},
   "outputs": [],
   "source": [
    "from tkinter import *\n",
    "root=Tk()\n",
    "Label1=Label(root,text=\"My name is Shreya Kushwaha\",background='violet')\n",
    "Label2=Label(root,text=\"My name is Shreya Kushwaha\",background='indigo')\n",
    "Label1.pack(fill=X,padx=10,ipadx=25,side=TOP)\n",
    "Label2.pack(fill=X,padx=20,ipadx=40,side=BOTTOM)\n",
    "Label3=Label(root,text=\"My name is Shreya Kushwaha\",background='blue')\n",
    "Label4=Label(root,text=\"My name is Shreya Kushwaha\",background='green')\n",
    "Label3.pack(fill=Y,padx=10,ipadx=25,side=LEFT)\n",
    "Label4.pack(fill=Y,padx=20,ipadx=40,side=RIGHT)\n",
    "root.mainloop()"
   ]
  },
  {
   "cell_type": "code",
   "execution_count": 40,
   "id": "0c248abe-0a73-4208-ab6b-8f5fbe9ace29",
   "metadata": {},
   "outputs": [],
   "source": [
    "from PIL import *"
   ]
  },
  {
   "cell_type": "code",
   "execution_count": 15,
   "id": "f9e3acf1-1884-49f5-af72-ff793e3b8f44",
   "metadata": {},
   "outputs": [],
   "source": [
    "from tkinter import Frame, Tk, Label\n",
    "from PIL import ImageTk, Image\n",
    "\n",
    "win = Tk()\n",
    "win.geometry(\"700x500\")\n",
    "\n",
    "frame = Frame(win, width=600, height=400)\n",
    "frame.place(anchor='center',relx=0.5,rely=0.5)\n",
    "frame.pack()\n",
    "\n",
    "# Fix the image path using raw string or double backslashes\n",
    "img = ImageTk.PhotoImage(Image.open(r\"C:\\Users\\monkey.webp\"))# Use raw string\n",
    "\n",
    "label = Label(frame, image=img)\n",
    "label.pack()\n",
    "\n",
    "win.mainloop()\n"
   ]
  },
  {
   "cell_type": "code",
   "execution_count": 6,
   "id": "d9a24d48-dfa7-4fc1-bf64-2fdbbe8e16eb",
   "metadata": {},
   "outputs": [
    {
     "name": "stdout",
     "output_type": "stream",
     "text": [
      "You Clicked the Message Button\n",
      "You Clicked the Message Button\n",
      "You Clicked the Message Button\n",
      "You Clicked the Message Button\n",
      "You Clicked the Message Button\n"
     ]
    }
   ],
   "source": [
    "from tkinter import Tk,Button\n",
    "root=Tk()\n",
    "exitButton=Button(root,text='EXIT',command=root.destroy)\n",
    "exitButton.pack()\n",
    "\n",
    "def My_callback():\n",
    "    print(\"You Clicked the Message Button\")\n",
    "msg_button=Button(root,text='Click Here',command=My_callback)\n",
    "msg_button.pack()\n",
    "root.mainloop()"
   ]
  },
  {
   "cell_type": "code",
   "execution_count": 10,
   "id": "8677884e-ef26-4762-9a18-207c452a7c96",
   "metadata": {},
   "outputs": [],
   "source": [
    "#To display Menu on the Menu bar\n",
    "from tkinter import Tk, Menu\n",
    "#Create Menu-Bar\n",
    "root=Tk()\n",
    "menu_bar=Menu(root)\n",
    "\n",
    "#Create Sub-Menu\n",
    "fileMenu=Menu(menu_bar,tearoff=0)\n",
    "\n",
    "#Add commands to Sub-Menu\n",
    "fileMenu.add_command(label=\"Stop\",command=root.destroy)\n",
    "fileMenu.add_command(label=\"Kill\",command=root.destroy)\n",
    "fileMenu.add_command(label=\"Exit\",command=root.destroy)\n",
    "\n",
    "#Add the file drop down sub-menu in the main menu bar\n",
    "\n",
    "menu_bar.add_cascade(label=\"File\",menu=fileMenu)\n",
    "root.config(menu=menu_bar)\n",
    "root.mainloop()"
   ]
  },
  {
   "cell_type": "code",
   "execution_count": 1,
   "id": "117a4604-7a3f-494b-846d-18883d57be37",
   "metadata": {},
   "outputs": [],
   "source": [
    "#Arithmetic Calculator\n",
    "from tkinter import *\n",
    "\n",
    "# Create the main window\n",
    "window = Tk()\n",
    "window.title(\"Arithmetic Calculator\")\n",
    "window.geometry('800x200')\n",
    "\n",
    "def calculate():\n",
    "    # Get the numbers from the entries\n",
    "    try:\n",
    "        num1 = float(entry1.get())\n",
    "        num2 = float(entry2.get())\n",
    "    except ValueError:\n",
    "        result_label.config(text=\"Please enter valid numbers.\")\n",
    "        return\n",
    "    \n",
    "    # Get the selected operation\n",
    "    operation = operation_var.get()\n",
    "    \n",
    "    # Perform the selected operation\n",
    "    if operation == \"+\":\n",
    "        result = num1 + num2\n",
    "    elif operation == \"-\":\n",
    "        result = num1 - num2\n",
    "    elif operation == \"*\":\n",
    "        result = num1 * num2\n",
    "    elif operation == \"/\":\n",
    "        if num2 == 0:\n",
    "            result_label.config(text=\"Cannot divide by zero.\")\n",
    "            return\n",
    "        result = num1 / num2\n",
    "    else:\n",
    "        result_label.config(text=\"Please select an operation.\")\n",
    "        return\n",
    "    \n",
    "    # Update the result label\n",
    "    result_label.config(text=f\"Result: {result}\")\n",
    "\n",
    "# First number label and entry\n",
    "label1 = Label(window, text=\"Number 1:\")\n",
    "label1.grid(row=0, column=0, padx=10, pady=5)\n",
    "\n",
    "entry1 = Entry(window)\n",
    "entry1.grid(row=0, column=1, padx=10, pady=5)\n",
    "\n",
    "# Second number label and entry\n",
    "label2 = Label(window, text=\"Number 2:\")\n",
    "label2.grid(row=1, column=0, padx=10, pady=5)\n",
    "\n",
    "entry2 = Entry(window)\n",
    "entry2.grid(row=1, column=1, padx=10, pady=5)\n",
    "\n",
    "# Operation label and radio buttons\n",
    "operation_var = StringVar()\n",
    "operation_var.set(\"+\")\n",
    "\n",
    "label3 = Label(window, text=\"Operation:\")\n",
    "label3.grid(row=2, column=0, padx=10, pady=5)\n",
    "\n",
    "operations_frame = Frame(window)\n",
    "operations_frame.grid(row=2, column=1, padx=10, pady=5)\n",
    "\n",
    "radio_add = Radiobutton(operations_frame, text=\"+\", variable=operation_var, value=\"+\")\n",
    "radio_add.pack(side=LEFT)\n",
    "\n",
    "radio_subtract = Radiobutton(operations_frame, text=\"-\", variable=operation_var, value=\"-\")\n",
    "radio_subtract.pack(side=LEFT)\n",
    "\n",
    "radio_multiply = Radiobutton(operations_frame, text=\"*\", variable=operation_var, value=\"*\")\n",
    "radio_multiply.pack(side=LEFT)\n",
    "\n",
    "radio_divide = Radiobutton(operations_frame, text=\"/\", variable=operation_var, value=\"/\")\n",
    "radio_divide.pack(side=LEFT)\n",
    "\n",
    "# Submit button\n",
    "submit_button = Button(window, text=\"Calculate\", command=calculate)\n",
    "submit_button.grid(row=3, column=0, columnspan=2, pady=10)\n",
    "\n",
    "# Label to show the result\n",
    "result_label = Label(window, text=\"Result: \")\n",
    "result_label.grid(row=4, column=0, columnspan=2, pady=5)\n",
    "\n",
    "window.mainloop()"
   ]
  },
  {
   "cell_type": "code",
   "execution_count": 3,
   "id": "fdf1393f-7aac-4174-b789-b058615c7231",
   "metadata": {},
   "outputs": [],
   "source": [
    "from tkinter import *\n",
    "# Create the main window\n",
    "window = Tk()\n",
    "window.title(\"Login Example\")\n",
    "\n",
    "def submit_clicked():\n",
    "    result_label.config(text=\"Good Job\")\n",
    "\n",
    "# Username label and entry\n",
    "username_label = Label(window, text=\"Username:\")\n",
    "username_label.grid(row=0, column=0, padx=10, pady=5)\n",
    "\n",
    "username_entry = Entry(window)\n",
    "username_entry.grid(row=0, column=1, padx=10, pady=5)\n",
    "\n",
    "# Password label and entry\n",
    "password_label = Label(window, text=\"Password:\")\n",
    "password_label.grid(row=1, column=0, padx=10, pady=5)\n",
    "\n",
    "password_entry = Entry(window, show=\"*\")\n",
    "password_entry.grid(row=1, column=1, padx=10, pady=5)\n",
    "\n",
    "# Submit button\n",
    "submit_button = Button(window, text=\"Submit\", command=submit_clicked)\n",
    "submit_button.grid(row=2, column=0, columnspan=2, pady=20)\n",
    "\n",
    "# Label to show the result\n",
    "result_label = Label(window, text=\"\")\n",
    "result_label.grid(row=3, column=0, columnspan=2, pady=5)\n",
    "\n",
    "window.mainloop()\n"
   ]
  },
  {
   "cell_type": "code",
   "execution_count": null,
   "id": "23d015e1-8887-4b40-ac8f-50cf3990e4fb",
   "metadata": {},
   "outputs": [],
   "source": []
  }
 ],
 "metadata": {
  "kernelspec": {
   "display_name": "Python 3 (ipykernel)",
   "language": "python",
   "name": "python3"
  },
  "language_info": {
   "codemirror_mode": {
    "name": "ipython",
    "version": 3
   },
   "file_extension": ".py",
   "mimetype": "text/x-python",
   "name": "python",
   "nbconvert_exporter": "python",
   "pygments_lexer": "ipython3",
   "version": "3.12.3"
  }
 },
 "nbformat": 4,
 "nbformat_minor": 5
}
